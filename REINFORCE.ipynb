{
 "cells": [
  {
   "cell_type": "markdown",
   "metadata": {
    "pycharm": {
     "name": "#%% md\n"
    }
   },
   "source": [
    "# REINFORCE (Ronald J Williams, 1992)\n",
    "\n",
    "REINFORCE is a policy gradient method that optimizes expected $\\gamma$ - discounted return $R$:\n",
    "\n",
    "\n",
    "$$\\theta^*=\\arg\\max_{\\theta}(\\mathbb{E}_{\\pi_{\\theta}}[R])$$\n",
    "\n",
    "To find the maximum of $\\theta$ we can use gradient **ascent**, but only after making the expectation differentiable. Applying the log trick gives us:\n",
    "\n",
    "$$\n",
    "\\nabla_{\\theta} \\mathbb{E}_{\\pi_{\\theta}}(R) = \\mathbb{E}[R*\\nabla_{\\theta}{log(\\pi_{\\theta})}]\n",
    "$$\n",
    "\n",
    "Additionally a baseline constant $b=\\mathbb{E}[R]$ is used to reduce variance of the gradient. It can be shown that:\n",
    "\n",
    "$$\n",
    "\\nabla_{\\theta}\\mathbb{E_{\\pi_{\\theta}}}[b] = 0 \\implies \\mathbb{E}[R*\\nabla_{\\theta}{log(\\pi_{\\theta})}] = \\mathbb{E}[(R-b)*\\nabla_{\\theta}{log(\\pi_{\\theta})}]\n",
    "$$\n",
    "\n",
    "This gradient can be sampled from the current suboptimal policy.\n",
    "In this notebook we use Monte Carlo episode samples which are unbiased estimates of $R$.\n",
    "After each episode $\\theta$ is updated towards the gradient multiplied by a learning rate $\\alpha$.\n",
    "\n",
    "$$ \\theta = \\theta + \\alpha * R * \\nabla_{\\theta}{log(\\pi_{\\theta})}$$\n",
    "\n",
    "To trick torch into thinking that it's doing gradient **descent** we introduce a \"loss\" function which is the negative of $R * \\nabla_{\\theta}{log(\\pi_{\\theta})}$\n",
    "\n",
    "Learning rate is decayed exponentially with the number of episodes to improve convergence of the policy. $\\alpha_{e+1}=\\alpha_e*\\lambda$\n",
    "\n"
   ]
  },
  {
   "cell_type": "code",
   "execution_count": 23,
   "metadata": {
    "pycharm": {
     "name": "#%%\n"
    }
   },
   "outputs": [],
   "source": [
    "import gym\n",
    "import numpy as np\n",
    "import torch as th\n",
    "from matplotlib import pyplot as plt\n",
    "from tqdm.notebook import tqdm"
   ]
  },
  {
   "cell_type": "code",
   "execution_count": 2,
   "metadata": {
    "pycharm": {
     "name": "#%%\n"
    }
   },
   "outputs": [
    {
     "data": {
      "text/plain": "(1,\n tensor(-0.5610, grad_fn=<LogBackward0>),\n tensor([0.4293, 0.5707], grad_fn=<SoftmaxBackward0>))"
     },
     "execution_count": 2,
     "metadata": {},
     "output_type": "execute_result"
    }
   ],
   "source": [
    "class PolicyNetwork(th.nn.Module):\n",
    "    def __init__(self, state_size, actions_size, hidden_size):\n",
    "        super().__init__()\n",
    "        self.nn = th.nn.Sequential(\n",
    "            th.nn.Linear(state_size, out_features=hidden_size),\n",
    "            th.nn.SiLU(),\n",
    "            th.nn.Linear(hidden_size, actions_size),\n",
    "            th.nn.Softmax(-1),\n",
    "        )\n",
    "        self.actions_size = actions_size\n",
    "\n",
    "\n",
    "    def forward(self, state):\n",
    "        return self.nn(state)\n",
    "\n",
    "    def get_action(self, state):\n",
    "        x = th.tensor(state)\n",
    "        out = self.forward(x)\n",
    "        dist = th.distributions.Categorical(out)\n",
    "        action = dist.sample().item()\n",
    "        return action, out[action].log(), out\n",
    "\n",
    "PolicyNetwork(2, 2, 4).get_action([1., 2])"
   ]
  },
  {
   "cell_type": "code",
   "execution_count": 32,
   "metadata": {
    "pycharm": {
     "name": "#%%\n"
    }
   },
   "outputs": [
    {
     "data": {
      "text/plain": "(tensor(2.9000), tensor([1.9000, 1.0000]))"
     },
     "execution_count": 32,
     "metadata": {},
     "output_type": "execute_result"
    }
   ],
   "source": [
    "def policy_objective(rewards, log_probs, gamma, centered=False):\n",
    "    returns = []\n",
    "    for i in range(len(rewards) - 1, -1, -1):\n",
    "        rwd = rewards[i]\n",
    "        if len(returns) > 0:\n",
    "            rwd += gamma * returns[-1]\n",
    "        returns.append(rwd)\n",
    "\n",
    "    returns = th.tensor(list(reversed(returns)))\n",
    "    if centered:\n",
    "        returns = returns - th.mean(returns)\n",
    "\n",
    "    obj = returns * th.stack(log_probs)\n",
    "    loss = -obj.sum()\n",
    "    return loss, returns\n",
    "\n",
    "policy_objective([1] * 2, [th.tensor(-1)] * 2, 0.9, centered=False)"
   ]
  },
  {
   "cell_type": "code",
   "execution_count": 33,
   "metadata": {
    "pycharm": {
     "name": "#%%\n"
    }
   },
   "outputs": [
    {
     "name": "stderr",
     "output_type": "stream",
     "text": [
      "/Users/vslaykovsky/simplementations/venv/lib/python3.9/site-packages/gym/envs/registration.py:593: UserWarning: \u001B[33mWARN: The environment CartPole-v0 is out of date. You should consider upgrading to version `v1`.\u001B[0m\n",
      "  logger.warn(\n"
     ]
    },
    {
     "data": {
      "text/plain": "<Figure size 432x288 with 1 Axes>",
      "image/png": "[encoded data removed]"
     },
     "metadata": {
      "needs_background": "light"
     },
     "output_type": "display_data"
    }
   ],
   "source": [
    "with gym.make('CartPole-v0', new_step_api=True, render_mode=\"rgb_array\") as env:\n",
    "    env.reset()\n",
    "    plt.imshow(env.render()[0])"
   ]
  },
  {
   "cell_type": "markdown",
   "source": [
    "## Train"
   ],
   "metadata": {
    "collapsed": false,
    "pycharm": {
     "name": "#%% md\n"
    }
   }
  },
  {
   "cell_type": "code",
   "execution_count": 34,
   "outputs": [
    {
     "name": "stderr",
     "output_type": "stream",
     "text": [
      "/Users/vslaykovsky/simplementations/venv/lib/python3.9/site-packages/gym/core.py:329: DeprecationWarning: \u001B[33mWARN: Initializing wrapper in old step API which returns one bool instead of two. It is recommended to set `new_step_api=True` to use new step API. This will be the default behaviour in future.\u001B[0m\n",
      "  deprecation(\n",
      "/Users/vslaykovsky/simplementations/venv/lib/python3.9/site-packages/gym/wrappers/step_api_compatibility.py:39: DeprecationWarning: \u001B[33mWARN: Initializing environment in old step API which returns one bool instead of two. It is recommended to set `new_step_api=True` to use new step API. This will be the default behaviour in future.\u001B[0m\n",
      "  deprecation(\n"
     ]
    },
    {
     "data": {
      "text/plain": "  0%|          | 0/2000 [00:00<?, ?it/s]",
      "application/vnd.jupyter.widget-view+json": {
       "version_major": 2,
       "version_minor": 0,
       "model_id": "ba40de5efff045f19c6627b07466e515"
      }
     },
     "metadata": {},
     "output_type": "display_data"
    },
    {
     "name": "stderr",
     "output_type": "stream",
     "text": [
      "/Users/vslaykovsky/simplementations/venv/lib/python3.9/site-packages/torch/optim/lr_scheduler.py:156: UserWarning: The epoch parameter in `scheduler.step()` was not necessary and is being deprecated where possible. Please use `scheduler.step()` to step the scheduler. During the deprecation, if epoch is different from None, the closed form is used instead of the new chainable form, where available. Please open an issue if you are unable to replicate your use case: https://github.com/pytorch/pytorch/issues/new/choose.\n",
      "  warnings.warn(EPOCH_DEPRECATION_WARNING, UserWarning)\n",
      "/Users/vslaykovsky/simplementations/venv/lib/python3.9/site-packages/torch/optim/lr_scheduler.py:574: UserWarning: To get the last learning rate computed by the scheduler, please use `get_last_lr()`.\n",
      "  warnings.warn(\"To get the last learning rate computed by the scheduler, \"\n"
     ]
    },
    {
     "data": {
      "text/plain": "[<matplotlib.lines.Line2D at 0x140a1adf0>]"
     },
     "execution_count": 34,
     "metadata": {},
     "output_type": "execute_result"
    },
    {
     "data": {
      "text/plain": "<Figure size 432x288 with 1 Axes>",
      "image/png": "[encoded data removed]"
     },
     "metadata": {
      "needs_background": "light"
     },
     "output_type": "display_data"
    },
    {
     "data": {
      "text/plain": "<Figure size 432x288 with 1 Axes>",
      "image/png": "[encoded data removed]"
     },
     "metadata": {
      "needs_background": "light"
     },
     "output_type": "display_data"
    }
   ],
   "source": [
    "def train(max_episodes, gamma=0.9, capacity=128, lr=3e-4, lamb=0.999):\n",
    "    with gym.make('CartPole-v1', new_step_api=False, render_mode=None) as env:\n",
    "        model = PolicyNetwork(env.observation_space.shape[0], env.action_space.n, capacity)\n",
    "        model.train()\n",
    "        opt = th.optim.SGD(params=model.parameters(), lr=lr)\n",
    "        scheduler = th.optim.lr_scheduler.ExponentialLR(opt, gamma=lamb)\n",
    "        episode_lengths = []\n",
    "        total_rewards = []\n",
    "        progress = tqdm(range(max_episodes))\n",
    "        for episode in progress:\n",
    "            state = env.reset()\n",
    "            rewards = []\n",
    "            logprobs = []\n",
    "            actions = []\n",
    "            while True:\n",
    "                action, logprob = model.get_action(state)[:2]\n",
    "                state, reward, done, _ = env.step(action)\n",
    "                rewards.append(reward)\n",
    "                actions.append(action)\n",
    "                logprobs.append(logprob)\n",
    "                if done:\n",
    "                    loss, _ = policy_objective(rewards, logprobs, gamma, centered=True)\n",
    "                    opt.zero_grad()\n",
    "                    loss.backward()\n",
    "                    opt.step()\n",
    "                    scheduler.step(episode)\n",
    "                    episode_lengths.append(len(rewards))\n",
    "                    total_rewards.append(np.sum(rewards))\n",
    "                    progress.set_description(desc=f'LR: {scheduler.get_lr()[0]:.05f} Episode len:{np.mean(episode_lengths[-10:])}, total reward:{np.mean(total_rewards[-10:]):.02f}')\n",
    "                    break\n",
    "        return model, episode_lengths, total_rewards\n",
    "\n",
    "model, episode_lengths, total_rewards = train(max_episodes=2000, gamma=0.9, capacity=256, lr=1e-3)\n",
    "plt.figure()\n",
    "plt.plot(episode_lengths)\n",
    "plt.title('Episode length')\n",
    "plt.figure()\n",
    "plt.title('Total reward')\n",
    "plt.plot(total_rewards)"
   ],
   "metadata": {
    "collapsed": false,
    "pycharm": {
     "name": "#%%\n"
    }
   }
  },
  {
   "cell_type": "markdown",
   "source": [
    "## Render"
   ],
   "metadata": {
    "collapsed": false,
    "pycharm": {
     "name": "#%% md\n"
    }
   }
  },
  {
   "cell_type": "code",
   "execution_count": 6,
   "outputs": [],
   "source": [
    "with gym.make('CartPole-v1', new_step_api=False, render_mode='human') as env:\n",
    "    for i in range(2):\n",
    "        state = env.reset()\n",
    "        for s in range(1000):\n",
    "            action = model.get_action(state)[0]\n",
    "            state, reward, done, _ = env.step(action)\n",
    "            if done:\n",
    "                break"
   ],
   "metadata": {
    "collapsed": false,
    "pycharm": {
     "name": "#%%\n"
    }
   }
  }
 ],
 "metadata": {
  "kernelspec": {
   "display_name": "Python 3 (ipykernel)",
   "language": "python",
   "name": "python3"
  },
  "language_info": {
   "codemirror_mode": {
    "name": "ipython",
    "version": 3
   },
   "file_extension": ".py",
   "mimetype": "text/x-python",
   "name": "python",
   "nbconvert_exporter": "python",
   "pygments_lexer": "ipython3",
   "version": "3.9.13"
  }
 },
 "nbformat": 4,
 "nbformat_minor": 1
}