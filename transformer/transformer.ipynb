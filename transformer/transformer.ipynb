{
 "cells": [
  {
   "cell_type": "markdown",
   "source": [
    "# Simple implementation of Transformer, GPT and BERT architectures\n",
    "\n",
    "This is an implementation of the original transformer paper [Attention is All You Need](https://arxiv.org/abs/1706.03762) from scratch.\n",
    "All section are provided with references to chapters of the paper where corresponding logic is described\n",
    "\n",
    "Additionally, **GPT** architecture is implemented for comparison.\n",
    "\n",
    "## Links\n",
    "\n",
    "* [2017 Attention is All You Need](https://arxiv.org/abs/1706.03762)\n",
    "* [2018 Improving Language Understanding by Generative Pre-Training](https://cdn.openai.com/research-covers/language-unsupervised/language_understanding_paper.pdf)"
   ],
   "metadata": {
    "collapsed": false,
    "pycharm": {
     "name": "#%% md\n"
    },
    "id": "ezZDbgSHxu3B"
   }
  },
  {
   "cell_type": "code",
   "execution_count": null,
   "outputs": [],
   "source": [
    "from google.colab import drive\n",
    "drive.mount('/content/drive')"
   ],
   "metadata": {
    "collapsed": false,
    "pycharm": {
     "name": "#%%\n"
    }
   }
  },
  {
   "cell_type": "code",
   "execution_count": null,
   "outputs": [],
   "source": [
    "import glob\n",
    "import re\n",
    "\n",
    "import torch\n",
    "import numpy as np\n",
    "from tqdm.notebook import tqdm\n",
    "\n",
    "import matplotlib.pyplot as plt\n",
    "import seaborn as sns\n",
    "\n",
    "\n",
    "DEVICE = 'cuda' if torch.cuda.is_available() else 'cpu'\n",
    "\n",
    "EPOCHS = 1\n",
    "MAX_STEPS = 1500\n",
    "BATCH_SIZE = 32\n",
    "\n",
    "POS_EMB_MAX_PERIOD = 10000\n",
    "BASE_MAX_SEQ_LEN = 256\n",
    "VOCAB_SIZE = 40000\n",
    "DATA_DIR = 'data/'\n",
    "\n",
    "DATASET = \"wmt14\"\n",
    "LANGUAGE_PAIR = 'ru-en'\n",
    "\n",
    "\n",
    "RESUME_TRAIN = False\n",
    "TRAIN_TRANSFORMER = True\n",
    "TRAIN_GPT = True\n",
    "\n",
    "try:\n",
    "    # to run in colab link your Google Drive to the colab node and set up the cache directory.\n",
    "    from google import colab\n",
    "    DATA_DIR = '/content/drive/MyDrive/ML/transformer'\n",
    "except:\n",
    "    pass\n",
    "\n"
   ],
   "metadata": {
    "collapsed": false,
    "pycharm": {
     "name": "#%%\n"
    }
   }
  },
  {
   "cell_type": "code",
   "execution_count": null,
   "outputs": [],
   "source": [
    "!pip install -q datasets\n",
    "!pip install -q sentencepiece\n",
    "!pip install -q wandb"
   ],
   "metadata": {
    "collapsed": false,
    "pycharm": {
     "name": "#%%\n"
    }
   }
  },
  {
   "cell_type": "code",
   "execution_count": null,
   "outputs": [],
   "source": [
    "import wandb as wandb"
   ],
   "metadata": {
    "collapsed": false,
    "pycharm": {
     "name": "#%%\n"
    }
   }
  },
  {
   "cell_type": "markdown",
   "source": [
    "# Dataset"
   ],
   "metadata": {
    "collapsed": false,
    "pycharm": {
     "name": "#%% md\n"
    }
   }
  },
  {
   "cell_type": "markdown",
   "source": [
    "### Parsing WMT data with Sentence Piece\n",
    "\n",
    "Sentence Piece is a Google's implementation of BPE (byte-pair encoding) tokenizer.\n",
    "\n",
    "![bpe](transformer/bpe.png)"
   ],
   "metadata": {
    "collapsed": false,
    "pycharm": {
     "name": "#%% md\n"
    }
   }
  },
  {
   "cell_type": "code",
   "execution_count": null,
   "outputs": [],
   "source": [
    "from datasets import load_dataset\n",
    "\n",
    "dataset = load_dataset(DATASET, LANGUAGE_PAIR, cache_dir=f'{DATA_DIR}/{DATASET}')"
   ],
   "metadata": {
    "collapsed": false,
    "pycharm": {
     "name": "#%%\n"
    }
   }
  },
  {
   "cell_type": "code",
   "execution_count": null,
   "outputs": [],
   "source": [
    "dataset"
   ],
   "metadata": {
    "collapsed": false,
    "pycharm": {
     "name": "#%%\n"
    }
   }
  },
  {
   "cell_type": "code",
   "execution_count": null,
   "outputs": [],
   "source": [
    "import os\n",
    "\n",
    "\n",
    "if not os.path.exists(f'{DATA_DIR}/{DATASET}_train.txt'):\n",
    "    !mkdir -p data\n",
    "    with open(f'{DATA_DIR}/{DATASET}_train.txt', 'w+') as f:\n",
    "        for step, data in enumerate(tqdm(dataset['train'], miniters=10000)):\n",
    "            f.write((data['translation']['en'] + ' ' + data['translation']['ru'] + \"\\n\").lower())"
   ],
   "metadata": {
    "collapsed": false,
    "pycharm": {
     "name": "#%%\n"
    }
   }
  },
  {
   "cell_type": "code",
   "execution_count": null,
   "outputs": [],
   "source": [
    "import sentencepiece as spm\n",
    "if not os.path.exists(f'{DATA_DIR}/{DATASET}.model'):\n",
    "    spm.SentencePieceTrainer.train(input=f'{DATA_DIR}/{DATASET}_train.txt', model_prefix=f'{DATA_DIR}/{DATASET}', vocab_size=VOCAB_SIZE)"
   ],
   "metadata": {
    "collapsed": false,
    "pycharm": {
     "name": "#%%\n"
    }
   }
  },
  {
   "cell_type": "code",
   "execution_count": null,
   "outputs": [],
   "source": [
    "sentence_piece = spm.SentencePieceProcessor(model_file=f'{DATA_DIR}/{DATASET}.model')"
   ],
   "metadata": {
    "collapsed": false,
    "pycharm": {
     "name": "#%%\n"
    }
   }
  },
  {
   "cell_type": "code",
   "execution_count": null,
   "outputs": [],
   "source": [
    "codes = sentence_piece.encode('this is a test', out_type=str, add_bos=True, add_eos=True)\n",
    "codes"
   ],
   "metadata": {
    "collapsed": false,
    "pycharm": {
     "name": "#%%\n"
    }
   }
  },
  {
   "cell_type": "code",
   "execution_count": null,
   "outputs": [],
   "source": [
    "codes = sentence_piece.encode('this is a test', add_bos=True, add_eos=True)\n",
    "codes"
   ],
   "metadata": {
    "collapsed": false,
    "pycharm": {
     "name": "#%%\n"
    }
   }
  },
  {
   "cell_type": "code",
   "execution_count": null,
   "outputs": [],
   "source": [
    "sentence_piece.decode(codes)"
   ],
   "metadata": {
    "collapsed": false,
    "pycharm": {
     "name": "#%%\n"
    }
   }
  },
  {
   "cell_type": "markdown",
   "source": [
    "## Dataset class\n",
    "\n",
    "Generate tokens along with attention and padding masks for encoding, decoding and target sequences."
   ],
   "metadata": {
    "collapsed": false,
    "pycharm": {
     "name": "#%% md\n"
    }
   }
  },
  {
   "cell_type": "code",
   "execution_count": null,
   "outputs": [],
   "source": [
    "import pickle\n",
    "from torch.utils.data import Dataset, DataLoader\n",
    "\n",
    "\n",
    "class TransformerDataset(Dataset):\n",
    "    \"\"\"\n",
    "    Generates pairs of (encoded_input_sentence, encoded_translation)\n",
    "    \"\"\"\n",
    "\n",
    "    def __init__(self, wmt_data, sentence_piece, cache_file):\n",
    "        super().__init__()\n",
    "        self.wmt_data, self.sentence_piece, self.cache_file = wmt_data, sentence_piece, cache_file\n",
    "        self.data = None\n",
    "\n",
    "\n",
    "    def preprocess_wmt(self, wmt_data, sp, fname):\n",
    "        if not os.path.exists(self.cache_file):\n",
    "            data = []\n",
    "            for r in tqdm(wmt_data, miniters=1000):\n",
    "                en_code = sp.encode(r['translation']['en'].lower().strip())\n",
    "                ru_code = sp.encode(r['translation']['ru'].lower().strip())\n",
    "                data.append([\n",
    "                    en_code,\n",
    "                    ru_code,\n",
    "                    max(len(en_code), len(ru_code))\n",
    "                ])\n",
    "            self.data = sorted(data, key=lambda d: d[2])\n",
    "            with open(fname, 'w+b') as f:\n",
    "                pickle.dump(self.data, f)\n",
    "        else:\n",
    "            with open(self.cache_file, 'rb') as f:\n",
    "                self.data = pickle.load(f)\n",
    "\n",
    "    def __getitem__(self, i):\n",
    "        if self.data is None:\n",
    "            self.preprocess_wmt(self.wmt_data, self.sentence_piece, self.cache_file)\n",
    "        return self.data[i][0], self.data[i][1]\n",
    "\n",
    "    def __len__(self):\n",
    "        if self.data is None:\n",
    "            self.preprocess_wmt(self.wmt_data, self.sentence_piece, self.cache_file)\n",
    "        return len(self.data)\n"
   ],
   "metadata": {
    "collapsed": false,
    "pycharm": {
     "name": "#%%\n"
    }
   }
  },
  {
   "cell_type": "code",
   "execution_count": null,
   "outputs": [],
   "source": [
    "ds_train = TransformerDataset(dataset['train'], sentence_piece, f'{DATA_DIR}/ds_wmt_train.bin')\n",
    "ds_validation = TransformerDataset(dataset['validation'], sentence_piece, f'{DATA_DIR}/ds_wmt_validation.bin')\n",
    "ds_test = TransformerDataset(dataset['test'], sentence_piece, f'{DATA_DIR}/ds_wmt_test.bin')"
   ],
   "metadata": {
    "collapsed": false,
    "pycharm": {
     "name": "#%%\n"
    }
   }
  },
  {
   "cell_type": "code",
   "execution_count": null,
   "outputs": [],
   "source": [
    "def wmt_collate(input, max_seq_len, bos, eos):\n",
    "    encoder_input = [i[0] for i in input]\n",
    "    decoder_input = [i[1] for i in input]\n",
    "    # bos, eos\n",
    "    encoder_input = [[bos] + i[:max_seq_len - 2] + [eos] for i in encoder_input]\n",
    "    decoder_input = [[bos] + i[:max_seq_len - 1] for i in decoder_input]\n",
    "    # masks\n",
    "    dec_batch_seq_len = np.max([len(i1) for i1 in decoder_input])\n",
    "    dec_mask = torch.triu(torch.ones((dec_batch_seq_len, dec_batch_seq_len)) * float('-inf'), diagonal=1)\n",
    "    enc_padding_mask = torch.nn.utils.rnn.pad_sequence([torch.zeros(len(enc)) for enc in encoder_input], batch_first=True,\n",
    "                                            padding_value=float('-inf'))\n",
    "    dec_padding_mask = torch.nn.utils.rnn.pad_sequence([torch.zeros(len(dec)) for dec in decoder_input], batch_first=True,\n",
    "                                                   padding_value=float('-inf'))\n",
    "    # pad input sequences\n",
    "    target = torch.nn.utils.rnn.pad_sequence(\n",
    "        [torch.tensor(d[1:] + [eos]) for d in decoder_input],\n",
    "        batch_first=True,\n",
    "        padding_value=0\n",
    "    )\n",
    "    encoder_input = torch.nn.utils.rnn.pad_sequence(\n",
    "        [torch.tensor(t) for t in encoder_input],\n",
    "        batch_first=True,\n",
    "        padding_value=0\n",
    "    )\n",
    "    decoder_input = torch.nn.utils.rnn.pad_sequence(\n",
    "        [torch.tensor(d) for d in decoder_input],\n",
    "        batch_first=True,\n",
    "        padding_value=0\n",
    "    )\n",
    "    return (encoder_input, decoder_input), target, (enc_padding_mask, dec_padding_mask, dec_mask)\n",
    "\n",
    "\n",
    "dl_train = DataLoader(ds_train, shuffle=True,\n",
    "                      batch_size=BATCH_SIZE,\n",
    "                      collate_fn=lambda d: wmt_collate(d, max_seq_len=BASE_MAX_SEQ_LEN,\n",
    "                                                       bos=sentence_piece.bos_id(),\n",
    "                                                       eos=sentence_piece.eos_id())\n",
    "                      )\n",
    "\n",
    "\n",
    "generator = torch.Generator()\n",
    "generator.manual_seed(24)\n",
    "\n",
    "dl_validate = DataLoader(\n",
    "    ds_validation,\n",
    "    shuffle=True,\n",
    "    generator=generator,\n",
    "    batch_size=BATCH_SIZE,\n",
    "    collate_fn=lambda d: wmt_collate(d,\n",
    "                                     max_seq_len=BASE_MAX_SEQ_LEN,\n",
    "                                     bos=sentence_piece.bos_id(),\n",
    "                                     eos=sentence_piece.eos_id())\n",
    ")\n",
    "\n",
    "for (enc, dec), target, (enc_padding_mask, dec_padding_mask, dec_mask) in dl_validate:\n",
    "    print('inputs')\n",
    "    print(enc)\n",
    "    print(dec)\n",
    "    print('target')\n",
    "    print(target)\n",
    "    print('masks')\n",
    "    print(enc_padding_mask)\n",
    "    print(dec_padding_mask)\n",
    "    print(dec_mask)\n",
    "\n",
    "    plt.figure()\n",
    "    ax = sns.heatmap(torch.broadcast_to(enc_padding_mask[:1], (68, 68)), cmap='Reds')\n",
    "    ax.set_title('Encoder padding mask example')\n",
    "\n",
    "    plt.figure()\n",
    "    ax = sns.heatmap(torch.broadcast_to(dec_padding_mask[:1], (68, 68)), cmap='Reds')\n",
    "    ax.set_title('Decoder padding mask example')\n",
    "\n",
    "\n",
    "    plt.figure()\n",
    "    ax = sns.heatmap(dec_mask, cmap='Reds')\n",
    "    ax.set_title('Attention mask example')\n",
    "    break"
   ],
   "metadata": {
    "collapsed": false,
    "pycharm": {
     "name": "#%%\n"
    }
   }
  },
  {
   "cell_type": "code",
   "execution_count": null,
   "outputs": [],
   "source": [
    "batches = tqdm(dl_validate, miniters=100)\n",
    "for i, ((enc, dec), target, (enc_padding_mask, dec_padding_mask, dec_mask)) in enumerate(batches):\n",
    "    batches.set_description(f'X:{len(enc)}')\n",
    "    if i > 1000:\n",
    "        break"
   ],
   "metadata": {
    "collapsed": false,
    "pycharm": {
     "name": "#%%\n"
    }
   }
  },
  {
   "cell_type": "markdown",
   "source": [
    "# Transformer (simplementation of \"Attention is All You Need\" paper)\n",
    "\n",
    "Transformer architecture implemented in this section\n",
    "\n",
    "![transformer](transformer/transformer.png)"
   ],
   "metadata": {
    "collapsed": false,
    "pycharm": {
     "name": "#%% md\n"
    }
   }
  },
  {
   "cell_type": "markdown",
   "source": [
    "## Positional Encodings\n",
    "\n",
    "![pos-enc](transformer/positional_encoding.png)"
   ],
   "metadata": {
    "collapsed": false,
    "pycharm": {
     "name": "#%% md\n"
    }
   }
  },
  {
   "cell_type": "code",
   "execution_count": null,
   "outputs": [],
   "source": [
    "\n",
    "from matplotlib import pyplot as plt\n",
    "import pandas as pd\n",
    "\n",
    "\n",
    "def positional_encoding(positions, dmodel):\n",
    "    embeddings = []\n",
    "    for i in range(dmodel // 2):\n",
    "        embeddings.append(torch.sin(torch.tensor(range(positions)) / (POS_EMB_MAX_PERIOD ** (2 * i / dmodel))))\n",
    "        embeddings.append(torch.cos(torch.tensor(range(positions)) / (POS_EMB_MAX_PERIOD ** (2 * i / dmodel))))\n",
    "    return torch.stack(embeddings).transpose(1, 0)\n",
    "\n",
    "\n",
    "pd.DataFrame(positional_encoding(64, 4).numpy()).plot()"
   ],
   "metadata": {
    "collapsed": false,
    "pycharm": {
     "name": "#%%\n"
    }
   }
  },
  {
   "cell_type": "code",
   "execution_count": null,
   "outputs": [],
   "source": [
    "import seaborn as sns\n",
    "plt.figure(figsize=(20, 20))\n",
    "ax = sns.heatmap(positional_encoding(128, 128))\n",
    "ax.set_aspect(1.)"
   ],
   "metadata": {
    "collapsed": false,
    "pycharm": {
     "name": "#%%\n"
    }
   }
  },
  {
   "cell_type": "markdown",
   "source": [
    "## Embeddings\n",
    "\n",
    "![emb](transformer/emb.png)"
   ],
   "metadata": {
    "collapsed": false,
    "pycharm": {
     "name": "#%% md\n"
    }
   }
  },
  {
   "cell_type": "code",
   "execution_count": null,
   "outputs": [],
   "source": [
    "import torch\n",
    "\n",
    "class PEEmbedding(torch.nn.Module):\n",
    "\n",
    "    pos_encoding: torch.Tensor\n",
    "\n",
    "    def __init__(self, max_tokens, dmodel, max_seq_len, dropout_rate, verbose=False):\n",
    "        super().__init__()\n",
    "        self.verbose = verbose\n",
    "        self.emb = torch.nn.Embedding(max_tokens, dmodel)\n",
    "        self.pos_encoding = torch.nn.parameter.Parameter(positional_encoding(max_seq_len, dmodel).unsqueeze(0), requires_grad=False)\n",
    "        self.dropout = torch.nn.Dropout(p=dropout_rate)\n",
    "\n",
    "    def forward(self, tokens):  # B * Seq\n",
    "        embs = self.emb(tokens)  # B * Seq * dmodel\n",
    "        pe = self.pos_encoding[:, :tokens.shape[-1], :]  # 1 * Seq * dmodel\n",
    "        if self.verbose:\n",
    "            print('PEEmbeding::forward', 'embs:', embs.shape, 'pe:', pe.shape)\n",
    "        return self.dropout(embs  + pe)\n",
    "\n",
    "\n",
    "emb = PEEmbedding(10, 20, 20, 0.1, verbose=True)\n",
    "emb.eval()\n",
    "\n",
    "emb(torch.tensor([[2, 1, 0, 3, 0]]))"
   ],
   "metadata": {
    "collapsed": false,
    "pycharm": {
     "name": "#%%\n"
    }
   }
  },
  {
   "cell_type": "code",
   "execution_count": null,
   "outputs": [],
   "source": [
    "sns.heatmap(emb(torch.tensor([[0, 2, 1, 3, 4, 2, 1, 0, 3, 0, 2, 1, 0, 3, 0, 2, 1, 0, 3, 0]])).detach().numpy()[0])"
   ],
   "metadata": {
    "collapsed": false,
    "pycharm": {
     "name": "#%%\n"
    }
   }
  },
  {
   "cell_type": "markdown",
   "source": [
    "## Attention\n",
    "\n",
    "Scaled dot-product attention:\n",
    "![abc](transformer/scaled-attention.png)\n",
    "![abc](transformer/scaled-attention-desc.png)\n"
   ],
   "metadata": {
    "collapsed": false,
    "pycharm": {
     "name": "#%% md\n"
    }
   }
  },
  {
   "cell_type": "code",
   "execution_count": null,
   "outputs": [],
   "source": [
    "# test: q * k == attention\n",
    "\n",
    "torch.einsum('bSd,bsd->bSs',\n",
    "             # Q\n",
    "             torch.tensor([[\n",
    "                 [1, 1],\n",
    "                 [0, -1],\n",
    "             ]]),\n",
    "             # K\n",
    "             torch.tensor([[\n",
    "                 [1, 0],\n",
    "                 [0, 1],\n",
    "                 [-1, 0],\n",
    "             ]]))"
   ],
   "metadata": {
    "collapsed": false,
    "pycharm": {
     "name": "#%%\n"
    }
   }
  },
  {
   "cell_type": "code",
   "execution_count": null,
   "outputs": [],
   "source": [
    "# test: multiplying attention matrix on value matirx\n",
    "torch.einsum(\n",
    "    'bSs,bsd->bSd',\n",
    "    torch.tensor([[\n",
    "        [0, 0, 1, 1],\n",
    "        [0, 0, 0, 1],\n",
    "        [1, 0, 0, 0],\n",
    "        [1, 1, 0, 0]\n",
    "    ], [\n",
    "        [0, 0, 1, 0],\n",
    "        [0, 0, 0, 1],\n",
    "        [1, 0, 0, 0],\n",
    "        [0, 1, 0, 0]\n",
    "    ]]),\n",
    "    torch.tensor([[\n",
    "        [1, 1],\n",
    "        [2, 2],\n",
    "        [3, 3],\n",
    "        [4, 4]\n",
    "    ]] * 2)\n",
    ")"
   ],
   "metadata": {
    "collapsed": false,
    "pycharm": {
     "name": "#%%\n"
    }
   }
  },
  {
   "cell_type": "code",
   "execution_count": null,
   "outputs": [],
   "source": [
    "v = torch.tensor([[[i] * 2 for i in range(4)]], dtype=torch.float)\n",
    "v"
   ],
   "metadata": {
    "collapsed": false,
    "pycharm": {
     "name": "#%%\n"
    }
   }
  },
  {
   "cell_type": "code",
   "execution_count": null,
   "outputs": [],
   "source": [
    "k = torch.tensor([[[1. if i in [2] else -1e6] * 2 for i in range(4)]] * 1)\n",
    "k"
   ],
   "metadata": {
    "collapsed": false,
    "pycharm": {
     "name": "#%%\n"
    }
   }
  },
  {
   "cell_type": "code",
   "execution_count": null,
   "outputs": [],
   "source": [
    "q = torch.ones((1, 3, 2))\n",
    "q"
   ],
   "metadata": {
    "collapsed": false,
    "pycharm": {
     "name": "#%%\n"
    }
   }
  },
  {
   "cell_type": "code",
   "execution_count": null,
   "outputs": [],
   "source": [
    "torch.ones(2, 3).unsqueeze(1)"
   ],
   "metadata": {
    "collapsed": false,
    "pycharm": {
     "name": "#%%\n"
    }
   }
  },
  {
   "cell_type": "code",
   "execution_count": null,
   "outputs": [],
   "source": [
    "import math\n",
    "\n",
    "\n",
    "class Attention(torch.nn.Module):\n",
    "\n",
    "    def __init__(self, dmodel, verbose=False):\n",
    "        super().__init__()\n",
    "        self.dmodel = dmodel\n",
    "        self.verbose = verbose\n",
    "\n",
    "    def forward(self, q, k, v, k_padding_mask=None, attention_mask=None):\n",
    "        if self.verbose:\n",
    "            print('q, k, v')\n",
    "            print(q.shape, k.shape, v.shape)\n",
    "        attention = torch.einsum('bSd,bsd->bSs', q, k)\n",
    "        scaled_attention = attention / math.sqrt(self.dmodel)  # B * Q_seq * K_seq\n",
    "        if k_padding_mask is not None:\n",
    "            scaled_attention += k_padding_mask.unsqueeze(1) # B * 1 * K_seq\n",
    "\n",
    "        if attention_mask is not None:    # Q_seq * K_seq\n",
    "            scaled_attention += attention_mask.unsqueeze(0)  # 1 * Q_seq * K_seq\n",
    "\n",
    "        if self.verbose:\n",
    "            print('Scaled attention')\n",
    "            print(scaled_attention)\n",
    "        softmaxed_attention = torch.softmax(scaled_attention, 2)\n",
    "\n",
    "        if self.verbose:\n",
    "            print('softmax attention')\n",
    "            print(softmaxed_attention)\n",
    "        return torch.einsum('bSs,bsd->bSd', softmaxed_attention, v)\n",
    "\n",
    "\n",
    "sa = Attention(2, verbose=True)\n",
    "sa(q, k, v, k_padding_mask=torch.zeros(1, 4), attention_mask=torch.zeros(3, 4))"
   ],
   "metadata": {
    "collapsed": false,
    "pycharm": {
     "name": "#%%\n"
    }
   }
  },
  {
   "cell_type": "markdown",
   "source": [
    "## MultiHeadSelfAttention\n",
    "\n",
    "![multihead](transformer/multihead.png)\n"
   ],
   "metadata": {
    "collapsed": false,
    "pycharm": {
     "name": "#%% md\n"
    }
   }
  },
  {
   "cell_type": "code",
   "execution_count": null,
   "outputs": [],
   "source": [
    "class MultiHeadSelfAttention(torch.nn.Module):\n",
    "    def __init__(self, heads, dmodel, verbose=False):\n",
    "        super().__init__()\n",
    "        self.heads = heads\n",
    "\n",
    "        # no trainable parameters, can get away with a single instance\n",
    "        self.self_attention = Attention(dmodel // heads, verbose=verbose)\n",
    "\n",
    "        self.w_q = torch.nn.ModuleList([\n",
    "            torch.nn.Linear(dmodel, dmodel // heads, bias=False)\n",
    "            for _ in range(heads)\n",
    "        ])\n",
    "        self.w_k = torch.nn.ModuleList([\n",
    "            torch.nn.Linear(dmodel, dmodel // heads, bias=False)\n",
    "            for _ in range(heads)\n",
    "        ])\n",
    "        self.w_v = torch.nn.ModuleList([\n",
    "            torch.nn.Linear(dmodel, dmodel // heads, bias=False)\n",
    "            for _ in range(heads)\n",
    "        ])\n",
    "        self.w_o = torch.nn.Linear(dmodel, dmodel, bias=False)\n",
    "\n",
    "    def forward(self, v, k, q, k_padding_mask=None, attention_mask=None):\n",
    "        v_out = []\n",
    "        for head in range(self.heads):\n",
    "            v_out.append(self.self_attention(self.w_q[head](q), self.w_k[head](k), self.w_v[head](v), k_padding_mask, attention_mask))\n",
    "        cat = torch.concat(v_out, dim=2)\n",
    "        o = self.w_o(cat)\n",
    "        return o\n",
    "\n",
    "\n",
    "q = torch.ones((2, 3, 2))\n",
    "k = torch.tensor([[[1. if i in [2] else -1e6] * 2 for i in range(4)]] * 2)\n",
    "v = torch.tensor([[[i] * 2 for i in range(4)]] * 2, dtype=torch.float)\n",
    "\n",
    "print(q.shape, k.shape, v.shape)\n",
    "mhsa = MultiHeadSelfAttention(2, 2, False)\n",
    "mhsa(v, k, q, k_padding_mask=torch.zeros(2, 4), attention_mask=torch.zeros(3, 4))"
   ],
   "metadata": {
    "collapsed": false,
    "pycharm": {
     "name": "#%%\n"
    }
   }
  },
  {
   "cell_type": "markdown",
   "source": [
    "## Encoder transformer block\n",
    "\n",
    "![encoder](transformer/encoder.png)"
   ],
   "metadata": {
    "collapsed": false,
    "pycharm": {
     "name": "#%% md\n"
    }
   }
  },
  {
   "cell_type": "code",
   "execution_count": null,
   "outputs": [],
   "source": [
    "class EncoderTransformerBlock(torch.nn.Module):\n",
    "\n",
    "    def __init__(self, dmodel, heads, inner_layer_dim, dropout_rate, verbose=False):\n",
    "        super().__init__()\n",
    "        self.attention = MultiHeadSelfAttention(heads, dmodel, verbose=verbose)\n",
    "        self.dropout1 = torch.nn.Dropout(p=dropout_rate)\n",
    "        self.layer_norm1 = torch.nn.LayerNorm(dmodel)\n",
    "\n",
    "        self.ffn = torch.nn.Sequential(\n",
    "            torch.nn.Linear(dmodel, inner_layer_dim),\n",
    "            torch.nn.ReLU(),\n",
    "            torch.nn.Linear(inner_layer_dim, dmodel)\n",
    "        )\n",
    "        self.dropout2 = torch.nn.Dropout(p=dropout_rate)\n",
    "        self.layer_norm2 = torch.nn.LayerNorm(dmodel)\n",
    "\n",
    "    def forward(self, x, padding_mask=None):\n",
    "        x = self.layer_norm1(x + self.dropout1(self.attention(x, x, x, k_padding_mask=padding_mask)))\n",
    "        x = self.layer_norm2(x + self.dropout2(self.ffn(x)))\n",
    "        return x\n",
    "\n",
    "\n",
    "etb = EncoderTransformerBlock(4, 2, 8, 0.1)\n",
    "etb.eval()\n",
    "etb(torch.ones(2, 8, 4), padding_mask=torch.zeros(2, 8))"
   ],
   "metadata": {
    "collapsed": false,
    "pycharm": {
     "name": "#%%\n"
    }
   }
  },
  {
   "cell_type": "markdown",
   "source": [
    "## Decoder transformer block\n",
    "\n",
    "![decoder](transformer/decoder.png)"
   ],
   "metadata": {
    "collapsed": false,
    "pycharm": {
     "name": "#%% md\n"
    }
   }
  },
  {
   "cell_type": "code",
   "execution_count": null,
   "outputs": [],
   "source": [
    "class DecoderTransformerBlock(torch.nn.Module):\n",
    "\n",
    "    def __init__(self, dmodel, heads, inner_layer_dim, dropout_rate, verbose=False):\n",
    "        super().__init__()\n",
    "        # sublayer 1, self attention\n",
    "        self.attention1 = MultiHeadSelfAttention(heads, dmodel, verbose=verbose)\n",
    "        self.dropout1 = torch.nn.Dropout(p=dropout_rate)\n",
    "        self.layer_norm1 = torch.nn.LayerNorm(dmodel)\n",
    "\n",
    "        # sublayer 2, cross attention\n",
    "        self.attention2 = MultiHeadSelfAttention(heads, dmodel, verbose=verbose)\n",
    "        self.dropout2 = torch.nn.Dropout(p=dropout_rate)\n",
    "        self.layer_norm2 = torch.nn.LayerNorm(dmodel)\n",
    "\n",
    "        # sublayer 3\n",
    "        self.ffn = torch.nn.Sequential(\n",
    "            torch.nn.Linear(dmodel, inner_layer_dim),\n",
    "            torch.nn.ReLU(),\n",
    "            torch.nn.Linear(inner_layer_dim, dmodel)\n",
    "        )\n",
    "        self.dropout3 = torch.nn.Dropout(p=dropout_rate)\n",
    "        self.layer_norm3 = torch.nn.LayerNorm(dmodel)\n",
    "\n",
    "    def forward(self, x_enc, x, enc_padding_mask, dec_padding_mask, dec_attention_mask):\n",
    "        x = self.layer_norm1(x + self.dropout1(self.attention1(x, x, x, k_padding_mask=dec_padding_mask, attention_mask=dec_attention_mask)))\n",
    "        x = self.layer_norm2(x + self.dropout2(self.attention2(x_enc, x_enc, x, k_padding_mask=enc_padding_mask)))\n",
    "        x = self.layer_norm3(x + self.dropout3(self.ffn(x)))\n",
    "        return x\n",
    "\n",
    "\n",
    "dtb = DecoderTransformerBlock(4, 2, 8, 0.1)\n",
    "dtb.eval()\n",
    "dtb(\n",
    "    torch.ones((1, 8, 4)),\n",
    "    torch.ones((1, 8, 4)),\n",
    "    torch.zeros(1, 8),\n",
    "    torch.zeros(1, 8),\n",
    "    torch.zeros(8, 8)\n",
    ")"
   ],
   "metadata": {
    "collapsed": false,
    "pycharm": {
     "name": "#%%\n"
    }
   }
  },
  {
   "cell_type": "markdown",
   "source": [
    "## Transformer\n",
    "\n",
    "Main transformer model\n",
    "\n",
    "![transformer](transformer/transformer.png)"
   ],
   "metadata": {
    "collapsed": false,
    "pycharm": {
     "name": "#%% md\n"
    }
   }
  },
  {
   "cell_type": "code",
   "execution_count": null,
   "outputs": [],
   "source": [
    "# test: selecting best fitting token for a sequence of embeddings\n",
    "b = torch.tensor([\n",
    "    [1, 1],\n",
    "    [-1, -1],\n",
    "])\n",
    "torch.einsum('bsd,td->bst', torch.tensor([[\n",
    "    [1, 1],\n",
    "    [0, 1],\n",
    "    [-1, 0],\n",
    "    [-1, -1],\n",
    "]]), b).argmax(dim=2)"
   ],
   "metadata": {
    "collapsed": false,
    "pycharm": {
     "name": "#%%\n"
    }
   }
  },
  {
   "cell_type": "code",
   "execution_count": null,
   "outputs": [],
   "source": [
    "class Transformer(torch.nn.Module):\n",
    "\n",
    "    def __init__(self, n_blocks, dmodel, heads, inner_layer_dim, dropout_rate, max_tokens, max_seq_len, bos=1, eos=2, verbose=False):\n",
    "        super().__init__()\n",
    "        self.bos = bos\n",
    "        self.eos = eos\n",
    "        self.verbose = verbose\n",
    "        self.max_seq_len = max_seq_len\n",
    "        self.emb = PEEmbedding(max_tokens, dmodel, max_seq_len, dropout_rate, verbose=verbose)\n",
    "        self.encoder_blocks = torch.nn.ModuleList([\n",
    "            EncoderTransformerBlock(dmodel, heads, inner_layer_dim, dropout_rate, verbose=verbose)\n",
    "            for _ in range(n_blocks)\n",
    "        ])\n",
    "        self.decoder_blocks = torch.nn.ModuleList([\n",
    "            DecoderTransformerBlock(dmodel, heads, inner_layer_dim, dropout_rate, verbose=verbose)\n",
    "            for _ in range(n_blocks)\n",
    "        ])\n",
    "\n",
    "\n",
    "\n",
    "    def forward(self, encoder_input, decoder_input, encoder_padding_mask=None, decoder_padding_mask=None, dec_mask=None):\n",
    "        # encoder stack\n",
    "        encoder_input = self.emb(encoder_input)\n",
    "        for b in self.encoder_blocks:\n",
    "            encoder_input = b(encoder_input, encoder_padding_mask)\n",
    "        encoder_output = encoder_input\n",
    "\n",
    "        # decoder stack\n",
    "        decoder_input = self.emb(decoder_input)\n",
    "        for b in self.decoder_blocks:\n",
    "            decoder_input = b(encoder_output, decoder_input, encoder_padding_mask, decoder_padding_mask, dec_mask)  # batch x seq x dmodel\n",
    "        w = self.emb.emb.weight  # tokens*dmodel\n",
    "        y = torch.einsum('bsd,td->bst', decoder_input, w)\n",
    "        return y\n",
    "\n",
    "\n",
    "test_transformer = Transformer(\n",
    "    n_blocks=2,\n",
    "    dmodel=8,\n",
    "    heads=2,\n",
    "    inner_layer_dim=16,\n",
    "    dropout_rate=0.1,\n",
    "    max_tokens=10,\n",
    "    max_seq_len=7,\n",
    "    verbose=True\n",
    ")\n",
    "\n",
    "\n",
    "test_transformer(torch.randint(0, 10, (2, 3)), torch.randint(0, 10, (2, 2)))"
   ],
   "metadata": {
    "collapsed": false,
    "pycharm": {
     "name": "#%%\n"
    }
   }
  },
  {
   "cell_type": "markdown",
   "source": [
    "## Training loop (translation task)"
   ],
   "metadata": {
    "collapsed": false,
    "pycharm": {
     "name": "#%% md\n"
    }
   }
  },
  {
   "cell_type": "code",
   "execution_count": null,
   "outputs": [],
   "source": [
    "def masked_loss_reduced(loss, pred, target, target_padding_mask):\n",
    "    target_mask = torch.where(target_padding_mask == 0, 1, 0)\n",
    "    losses = loss(pred.view(-1, pred.shape[-1]), target.view(-1)).view(target.shape) * target_mask\n",
    "    return losses.sum() / target_mask.sum()\n"
   ],
   "metadata": {
    "collapsed": false,
    "pycharm": {
     "name": "#%%\n"
    }
   }
  },
  {
   "cell_type": "code",
   "execution_count": null,
   "outputs": [],
   "source": [
    "def get_lr(step_num, dmodel=512, warmup_steps=4000):\n",
    "    return dmodel ** (-0.5) * min(step_num ** (-0.8), step_num * warmup_steps ** (-1.5))\n",
    "\n",
    "\n",
    "# schedule described in the paper\n",
    "def plot_scheduler():\n",
    "    steps = np.arange(1, 100000)\n",
    "    lr = [get_lr(dmodel=512, step_num=s, warmup_steps=4000) for s in steps]\n",
    "    plt.plot(steps, lr)\n",
    "\n",
    "plot_scheduler()\n"
   ],
   "metadata": {
    "collapsed": false,
    "pycharm": {
     "name": "#%%\n"
    }
   }
  },
  {
   "cell_type": "code",
   "execution_count": null,
   "outputs": [],
   "source": [
    "import gc\n",
    "gc.collect()\n",
    "torch.cuda.empty_cache()\n",
    "step = 0\n",
    "\n",
    "# \"base\" model from \"Attention is All You Need\"\n",
    "transformer = Transformer(\n",
    "    n_blocks=6,\n",
    "    dmodel=512,\n",
    "    heads=8,\n",
    "    inner_layer_dim=2048,\n",
    "    dropout_rate=0.1,\n",
    "    max_tokens=VOCAB_SIZE,\n",
    "    max_seq_len=BASE_MAX_SEQ_LEN,  # not mentioned in the paper\n",
    "    verbose=False,\n",
    ")\n",
    "transformer.to(DEVICE)\n",
    "print(sum(p.numel() for p in transformer.parameters() if p.requires_grad))\n",
    "transformer.train()\n",
    "\n",
    "transformer"
   ],
   "metadata": {
    "collapsed": false,
    "pycharm": {
     "name": "#%%\n"
    }
   }
  },
  {
   "cell_type": "code",
   "execution_count": null,
   "outputs": [],
   "source": [
    "if RESUME_TRAIN:\n",
    "    model_path = glob.glob(f'{DATA_DIR}/transformer_*.model')\n",
    "    if len(model_path) > 0:\n",
    "        step = int(re.findall('_(\\d+).model', model_path[0])[0])\n",
    "        transformer.load_state_dict(torch.load(model_path[0]))\n",
    "        print('Resuming training from', model_path[0], 'step:', step)\n"
   ],
   "metadata": {
    "collapsed": false,
    "pycharm": {
     "name": "#%%\n"
    }
   }
  },
  {
   "cell_type": "code",
   "execution_count": null,
   "outputs": [],
   "source": [
    "optimizer = torch.optim.Adam(transformer.parameters(), betas=(0.9, 0.98), eps=1e-9)\n",
    "loss = torch.nn.CrossEntropyLoss(reduction='none', label_smoothing=0.1)\n"
   ],
   "metadata": {
    "collapsed": false,
    "pycharm": {
     "name": "#%%\n"
    }
   }
  },
  {
   "cell_type": "code",
   "execution_count": null,
   "outputs": [],
   "source": [
    "if TRAIN_TRANSFORMER:\n",
    "    wandb_run = wandb.init(project=\"transformer-simplementation\")\n",
    "    wandb_run.display()\n",
    "\n",
    "    with wandb_run:\n",
    "        samples = wandb.Table(columns=['prediction', 'decoder_input', 'prediction_codes', 'encoder_input'])\n",
    "        for epoch in tqdm(range(EPOCHS), desc='Epoch'):\n",
    "            steps = tqdm(dl_train)\n",
    "            for (enc_input, dec_input), target, (enc_padding_mask, dec_padding_mask, dec_mask) in steps:\n",
    "                if step > MAX_STEPS:\n",
    "                    break\n",
    "                new_lr = get_lr(step + 1)\n",
    "                for pg in optimizer.param_groups:\n",
    "                    pg['lr'] = new_lr\n",
    "\n",
    "                pred = transformer(enc_input.to(DEVICE), dec_input.to(DEVICE), enc_padding_mask.to(DEVICE), dec_padding_mask.to(DEVICE), dec_mask.to(DEVICE))\n",
    "                loss_value = masked_loss_reduced(loss, pred, target.to(DEVICE), dec_padding_mask.to(DEVICE))\n",
    "                optimizer.zero_grad()\n",
    "                loss_value.backward()\n",
    "\n",
    "                optimizer.step()\n",
    "                steps.set_description(f'loss:{loss_value.item():.02f} lr:{new_lr:.05f}')\n",
    "\n",
    "                if step % 1000 == 0:\n",
    "                    transformer.eval()\n",
    "                    pred = transformer(enc_input.to(DEVICE), dec_input.to(DEVICE), enc_padding_mask.to(DEVICE), dec_padding_mask.to(DEVICE), dec_mask.to(DEVICE))\n",
    "                    print('Step', step)\n",
    "                    encoder_input = sentence_piece.decode(enc_input[0].detach().cpu().numpy().tolist())\n",
    "                    decoder_input = sentence_piece.decode(dec_input[0].detach().cpu().numpy().tolist())\n",
    "                    print(decoder_input)\n",
    "                    prediction_codes = pred[0].argmax(dim=1).detach().cpu().numpy().tolist()\n",
    "                    prediction = sentence_piece.decode(prediction_codes)\n",
    "                    print(prediction)\n",
    "                    samples.add_data(prediction, decoder_input, prediction_codes, encoder_input)\n",
    "                    transformer.train()\n",
    "                    !rm -f {DATA_DIR}/transformer_*.model\n",
    "                    torch.save(transformer.state_dict(), f'{DATA_DIR}/transformer_{step}.model')\n",
    "\n",
    "                wandb_run.log({'loss': loss_value.item(), 'lr': new_lr, 'samples': samples})\n",
    "\n",
    "                step += 1\n"
   ],
   "metadata": {
    "collapsed": false,
    "pycharm": {
     "name": "#%%\n"
    }
   }
  },
  {
   "cell_type": "markdown",
   "source": [
    "## Evaluation"
   ],
   "metadata": {
    "collapsed": false,
    "pycharm": {
     "name": "#%% md\n"
    }
   }
  },
  {
   "cell_type": "code",
   "execution_count": null,
   "outputs": [],
   "source": [
    "transformer.eval()\n",
    "loss_values = []\n",
    "with torch.no_grad():\n",
    "    for step, ((encoder_input, decoder_input), target, (enc_padding_mask, dec_padding_mask, dec_mask)) in enumerate(tqdm(dl_validate)):\n",
    "        pred = transformer(\n",
    "            encoder_input.to(DEVICE),\n",
    "            decoder_input.to(DEVICE),\n",
    "            enc_padding_mask.to(DEVICE),\n",
    "            dec_padding_mask.to(DEVICE),\n",
    "            dec_mask.to(DEVICE)\n",
    "        )\n",
    "        loss_value = masked_loss_reduced(loss, pred, target.to(DEVICE), dec_padding_mask.to(DEVICE))\n",
    "        loss_values.append(loss_value.item())\n",
    "        if step > MAX_STEPS:\n",
    "            break\n",
    "\n",
    "'Evaluation loss', np.mean(loss_values)"
   ],
   "metadata": {
    "collapsed": false,
    "pycharm": {
     "name": "#%%\n"
    }
   }
  },
  {
   "cell_type": "markdown",
   "source": [
    "## Prediction"
   ],
   "metadata": {
    "collapsed": false,
    "pycharm": {
     "name": "#%% md\n"
    }
   }
  },
  {
   "cell_type": "code",
   "execution_count": null,
   "outputs": [],
   "source": [
    "def predict(transformer: Transformer, input, sentence_piece, max_seq_len=32, verbose=False):\n",
    "    # iterative prediction token by token\n",
    "    enc_input = torch.tensor(sentence_piece.encode(input, add_bos=True, add_eos=True)).to(DEVICE)\n",
    "    output = torch.tensor([[sentence_piece.bos_id()]]).to(DEVICE)\n",
    "    for _ in tqdm(range(max_seq_len)):\n",
    "        pred = transformer.forward(\n",
    "            enc_input,\n",
    "            output,\n",
    "            dec_mask=torch.triu(torch.ones(output.shape[-1], output.shape[-1]) * float('-inf'), diagonal=1).to(DEVICE)\n",
    "        )\n",
    "        pred = torch.argmax(pred, dim=2)[:, -1:].detach()\n",
    "        output = torch.cat([output, pred], dim=1).to(torch.int)\n",
    "        if verbose:\n",
    "            print(output.cpu())\n",
    "        if output[0][-1].item() == sentence_piece.eos_id():\n",
    "            break\n",
    "    return sentence_piece.decode(output.cpu().numpy().tolist())\n",
    "\n",
    "predict(transformer, 'translate this', sentence_piece, verbose=True)"
   ],
   "metadata": {
    "collapsed": false,
    "pycharm": {
     "name": "#%%\n"
    }
   }
  },
  {
   "cell_type": "code",
   "execution_count": null,
   "outputs": [],
   "source": [
    "import gc\n",
    "del transformer\n",
    "gc.collect()\n",
    "torch.cuda.empty_cache()"
   ],
   "metadata": {
    "collapsed": false,
    "pycharm": {
     "name": "#%%\n"
    }
   }
  },
  {
   "cell_type": "markdown",
   "source": [
    "# GPT (simplementation of \"Improving Language Understanding by Generative Pre-Training\")\n",
    "\n",
    "GPT is a simplified Transformer model with only a decoder block and no cross-attention sublayer.\n",
    "\n",
    "This is a simple implementation of GPT architecture which is very similar to transformer decoder.\n",
    "Certain minor simplifications are applied to reduce code complexity:\n",
    "- GELU -> ReLU\n",
    "- No L2 regularization\n",
    "- No learned positional embeddings\n",
    "- SentencePiece instead of spaCy tokenizer\n",
    "\n",
    "\n",
    "The following screenshots are from \"Improving Language Understanding by Generative Pre-Training\" paper:\n",
    "![gpt](transformer/gpt.png)\n",
    "![gpt description](transformer/gpt-desc.png)"
   ],
   "metadata": {
    "collapsed": false,
    "pycharm": {
     "name": "#%% md\n"
    }
   }
  },
  {
   "cell_type": "markdown",
   "source": [
    "## GPT blocks"
   ],
   "metadata": {
    "collapsed": false,
    "pycharm": {
     "name": "#%% md\n"
    }
   }
  },
  {
   "cell_type": "code",
   "execution_count": null,
   "outputs": [],
   "source": [
    "class GPTBlock(torch.nn.Module):\n",
    "\n",
    "    def __init__(self, dmodel, heads, inner_layer_dim, dropout_rate, verbose=False):\n",
    "        super().__init__()\n",
    "        # sublayer 1, self attention\n",
    "        self.attention1 = MultiHeadSelfAttention(heads, dmodel, verbose=verbose)\n",
    "        self.dropout1 = torch.nn.Dropout(p=dropout_rate)\n",
    "        self.layer_norm1 = torch.nn.LayerNorm(dmodel)\n",
    "\n",
    "        # sublayer 3\n",
    "        self.ffn = torch.nn.Sequential(\n",
    "            torch.nn.Linear(dmodel, inner_layer_dim),\n",
    "            torch.nn.ReLU(),\n",
    "            torch.nn.Linear(inner_layer_dim, dmodel)\n",
    "        )\n",
    "        self.dropout3 = torch.nn.Dropout(p=dropout_rate)\n",
    "        self.layer_norm3 = torch.nn.LayerNorm(dmodel)\n",
    "\n",
    "    def forward(self, x, padding_mask=None, attention_mask=None):\n",
    "        x = self.layer_norm1(x + self.dropout1(self.attention1(x, x, x, k_padding_mask=padding_mask, attention_mask=attention_mask)))\n",
    "        x = self.layer_norm3(x + self.dropout3(self.ffn(x)))\n",
    "        return x\n",
    "\n",
    "\n",
    "dtb = GPTBlock(4, 2, 8, 0.1)\n",
    "dtb.eval()\n",
    "dtb(\n",
    "    torch.ones((1, 8, 4)),\n",
    "    torch.zeros(1, 8),\n",
    "    torch.zeros(8, 8)\n",
    ")"
   ],
   "metadata": {
    "collapsed": false,
    "pycharm": {
     "name": "#%%\n"
    }
   }
  },
  {
   "cell_type": "code",
   "execution_count": null,
   "outputs": [],
   "source": [
    "class GPT(torch.nn.Module):\n",
    "    def __init__(self, nblocks, max_tokens, dmodel, max_seq_len, dropout_rate, heads, inner_layer_dim, verbose=False):\n",
    "        super().__init__()\n",
    "        self.emb = PEEmbedding(max_tokens, dmodel, max_seq_len, dropout_rate, verbose)\n",
    "        self.blocks = torch.nn.ModuleList(\n",
    "            [GPTBlock(dmodel, heads, inner_layer_dim, dropout_rate, verbose)\n",
    "             for _ in range(nblocks)]\n",
    "        )\n",
    "        self.verbose = verbose\n",
    "\n",
    "    def forward(self, x, padding_mask=None, att_mask=None):\n",
    "        if self.verbose:\n",
    "            print('GPT::forward att_mask=', att_mask)\n",
    "        x = self.emb(x)\n",
    "        for b in self.blocks:\n",
    "            x = b(x, attention_mask=att_mask, padding_mask=padding_mask)\n",
    "        y = torch.einsum('bsd,td->bst', x, self.emb.emb.weight)\n",
    "        return y\n",
    "\n",
    "gpt = GPT(2, 10, 8, 10, 0.1, 2, 20, True)\n",
    "gpt(torch.randint(0, 5, (1, 2)))"
   ],
   "metadata": {
    "collapsed": false,
    "pycharm": {
     "name": "#%%\n"
    }
   }
  },
  {
   "cell_type": "markdown",
   "source": [
    "## Training loop"
   ],
   "metadata": {
    "collapsed": false,
    "pycharm": {
     "name": "#%% md\n"
    }
   }
  },
  {
   "cell_type": "code",
   "execution_count": null,
   "outputs": [],
   "source": [
    "# Configuration described in GPT paper\n",
    "gpt = GPT(\n",
    "    nblocks=12,\n",
    "    max_tokens=VOCAB_SIZE,\n",
    "    dmodel=768,\n",
    "    max_seq_len=BASE_MAX_SEQ_LEN,\n",
    "    dropout_rate=0.1,\n",
    "    heads=12,\n",
    "    inner_layer_dim=3072,\n",
    "    verbose=False\n",
    ")\n",
    "gpt.to(DEVICE)\n",
    "gpt.train()\n",
    "step = 0\n",
    "\n",
    "optimizer = torch.optim.Adam(gpt.parameters(), betas=(0.9, 0.98), eps=1e-9)\n",
    "scheduler = torch.optim.lr_scheduler.OneCycleLR(optimizer, max_lr=2.5e-4, pct_start=0.1, epochs=EPOCHS, steps_per_epoch=len(dl_train))\n",
    "loss = torch.nn.CrossEntropyLoss(reduction='none')"
   ],
   "metadata": {
    "collapsed": false,
    "pycharm": {
     "name": "#%%\n"
    }
   }
  },
  {
   "cell_type": "code",
   "execution_count": null,
   "outputs": [],
   "source": [
    "if TRAIN_GPT:\n",
    "    wrun = wandb.init(project='gpt-simplementation', reinit=True)\n",
    "    wrun.display()\n",
    "    samples = []\n",
    "    with wrun:\n",
    "        for epoch in tqdm(range(EPOCHS), desc='Epoch'):\n",
    "            batches = tqdm(dl_train)\n",
    "            for (_, dec), target, (_, dec_mask, att_mask) in batches:\n",
    "                if step > MAX_STEPS:\n",
    "                    break\n",
    "                optimizer.zero_grad()\n",
    "                pred = gpt(dec.to(DEVICE), padding_mask=dec_mask.to(DEVICE), att_mask=att_mask.to(DEVICE))\n",
    "                loss_value = masked_loss_reduced(loss, pred, target.to(DEVICE), dec_mask.to(DEVICE))\n",
    "                loss_value.backward()\n",
    "                optimizer.step()\n",
    "                scheduler.step()\n",
    "                batches.set_description(f'Step:{step} Loss:{loss_value.item():.02f}')\n",
    "                if step % 1000 == 0:\n",
    "                    gpt.eval()\n",
    "                    pred = gpt(dec.to(DEVICE), padding_mask=dec_mask.to(DEVICE))\n",
    "                    dec1 = dec.numpy().tolist()[0]\n",
    "                    dec2 = pred.detach().argmax(dim=2).cpu().numpy().tolist()[0]\n",
    "                    dec1 = sentence_piece.decode(dec1)\n",
    "                    dec2 = sentence_piece.decode(dec2)\n",
    "                    print('Step', step)\n",
    "                    print(dec1)\n",
    "                    print(dec2)\n",
    "                    samples.append([step, dec1, dec2])\n",
    "                    !rm -f {DATA_DIR} / gpt_ *.model\n",
    "                    torch.save(gpt.state_dict(), f'{DATA_DIR}/gpt_{step}.model')\n",
    "                    gpt.train()\n",
    "                step += 1\n",
    "                wrun.log({'learning_rate': float(scheduler.get_last_lr()[0]), 'loss': loss_value.item(),\n",
    "                          'samples': wandb.Table(columns=['step', 'gpt_target', 'gpt_prediction'], data=samples)})"
   ],
   "metadata": {
    "collapsed": false,
    "pycharm": {
     "name": "#%%\n"
    }
   }
  },
  {
   "cell_type": "code",
   "execution_count": 80,
   "outputs": [
    {
     "output_type": "stream",
     "name": "stderr",
     "text": [
      "\u001B[34m\u001B[1mwandb\u001B[0m: Currently logged in as: \u001B[33mvslaykovsky\u001B[0m. Use \u001B[1m`wandb login --relogin`\u001B[0m to force relogin\n"
     ]
    },
    {
     "output_type": "display_data",
     "data": {
      "text/plain": [
       "<IPython.core.display.HTML object>"
      ],
      "text/html": [
       "Tracking run with wandb version 0.12.21"
      ]
     },
     "metadata": {}
    },
    {
     "output_type": "display_data",
     "data": {
      "text/plain": [
       "<IPython.core.display.HTML object>"
      ],
      "text/html": [
       "Run data is saved locally in <code>/content/wandb/run-20220706_184142-1chwrrwm</code>"
      ]
     },
     "metadata": {}
    },
    {
     "output_type": "display_data",
     "data": {
      "text/plain": [
       "<IPython.core.display.HTML object>"
      ],
      "text/html": [
       "Syncing run <strong><a href=\"https://wandb.ai/vslaykovsky/gpt-simplementation/runs/1chwrrwm\" target=\"_blank\">autumn-dawn-19</a></strong> to <a href=\"https://wandb.ai/vslaykovsky/gpt-simplementation\" target=\"_blank\">Weights & Biases</a> (<a href=\"https://wandb.me/run\" target=\"_blank\">docs</a>)<br/>"
      ]
     },
     "metadata": {}
    },
    {
     "output_type": "display_data",
     "data": {
      "text/plain": [
       "<IPython.core.display.HTML object>"
      ],
      "text/html": [
       "<iframe src=\"https://wandb.ai/vslaykovsky/gpt-simplementation/runs/1chwrrwm?jupyter=true\" style=\"border:none;width:100%;height:420px;\"></iframe>"
      ]
     },
     "metadata": {}
    },
    {
     "output_type": "display_data",
     "data": {
      "text/plain": [
       "Epoch:   0%|          | 0/1 [00:00<?, ?it/s]"
      ],
      "application/vnd.jupyter.widget-view+json": {
       "version_major": 2,
       "version_minor": 0,
       "model_id": "700b681736cd4247a450249a5de45e1d"
      }
     },
     "metadata": {}
    },
    {
     "output_type": "display_data",
     "data": {
      "text/plain": [
       "  0%|          | 0/46468 [00:00<?, ?it/s]"
      ],
      "application/vnd.jupyter.widget-view+json": {
       "version_major": 2,
       "version_minor": 0,
       "model_id": "a24e95decf91458d96a00a46a38bd0e6"
      }
     },
     "metadata": {}
    },
    {
     "output_type": "stream",
     "name": "stdout",
     "text": [
      "Step 0\n",
      "мы переводим документацию и пользовательские интерфейсы, адаптируем программное обеспечение и тестируем его. ⁇  ⁇  ⁇  ⁇  ⁇  ⁇  ⁇  ⁇  ⁇  ⁇  ⁇  ⁇  ⁇  ⁇  ⁇  ⁇  ⁇  ⁇  ⁇  ⁇  ⁇  ⁇  ⁇  ⁇  ⁇  ⁇  ⁇  ⁇  ⁇  ⁇  ⁇  ⁇  ⁇  ⁇  ⁇  ⁇  ⁇  ⁇  ⁇  ⁇  ⁇  ⁇  ⁇  ⁇  ⁇  ⁇  ⁇  ⁇  ⁇  ⁇  ⁇  ⁇  ⁇  ⁇  ⁇  ⁇  ⁇  ⁇  ⁇  ⁇  ⁇  ⁇  ⁇  ⁇  ⁇  ⁇  ⁇  ⁇  ⁇  ⁇  ⁇  ⁇  ⁇  ⁇  ⁇  ⁇  ⁇  ⁇  ⁇  ⁇  ⁇  ⁇  ⁇  ⁇  ⁇  ⁇  ⁇  ⁇  ⁇  ⁇  ⁇  ⁇ \n",
      "мы переводим документацию и пользовательские интерфейсы, адаптируем программное обеспечение и тестируем его. ⁇  ⁇  ⁇  ⁇  ⁇  ⁇  ⁇  ⁇  ⁇  ⁇  ⁇  ⁇  ⁇  ⁇  ⁇  ⁇  ⁇  ⁇  ⁇  ⁇  ⁇  ⁇  ⁇  ⁇  ⁇  ⁇  ⁇  ⁇  ⁇  ⁇  ⁇  ⁇  ⁇  ⁇  ⁇  ⁇  ⁇  ⁇  ⁇  ⁇  ⁇  ⁇  ⁇  ⁇  ⁇  ⁇  ⁇  ⁇  ⁇  ⁇  ⁇  ⁇  ⁇  ⁇  ⁇  ⁇  ⁇  ⁇  ⁇  ⁇  ⁇  ⁇  ⁇  ⁇  ⁇  ⁇  ⁇  ⁇  ⁇  ⁇  ⁇  ⁇  ⁇  ⁇  ⁇  ⁇  ⁇  ⁇  ⁇  ⁇  ⁇  ⁇  ⁇  ⁇  ⁇  ⁇  ⁇  ⁇  ⁇  ⁇  ⁇  ⁇ \n",
      "rm: cannot remove '/content/drive/MyDrive/ML/transformer': Is a directory\n",
      "rm: cannot remove '/': Is a directory\n",
      "Step 1000\n",
      "многие страны из группы hipcs тратят на городские больницы и высшее образование больше, чем на элементарное здравоохранение и начальное образование. ⁇  ⁇  ⁇  ⁇  ⁇  ⁇  ⁇  ⁇  ⁇  ⁇  ⁇  ⁇  ⁇  ⁇  ⁇  ⁇  ⁇  ⁇  ⁇  ⁇  ⁇  ⁇  ⁇  ⁇  ⁇  ⁇  ⁇  ⁇ \n",
      "и,,,,,,,,,, и,,, и,,,,,, и,,,,,,,,,,,,,,,,,,,,,,,,,,,,,,,,\n",
      "rm: cannot remove '/content/drive/MyDrive/ML/transformer': Is a directory\n",
      "rm: cannot remove '/': Is a directory\n"
     ]
    },
    {
     "output_type": "display_data",
     "data": {
      "text/plain": [
       "<IPython.core.display.HTML object>"
      ],
      "text/html": [
       "Waiting for W&B process to finish... <strong style=\"color:green\">(success).</strong>"
      ]
     },
     "metadata": {}
    },
    {
     "output_type": "display_data",
     "data": {
      "text/plain": [
       "VBox(children=(Label(value='4.407 MB of 4.407 MB uploaded (0.000 MB deduped)\\r'), FloatProgress(value=1.0, max…"
      ],
      "application/vnd.jupyter.widget-view+json": {
       "version_major": 2,
       "version_minor": 0,
       "model_id": "9afbd17b04c44e85b3bc03e50679b776"
      }
     },
     "metadata": {}
    },
    {
     "output_type": "display_data",
     "data": {
      "text/plain": [
       "<IPython.core.display.HTML object>"
      ],
      "text/html": [
       "<style>\n",
       "    table.wandb td:nth-child(1) { padding: 0 10px; text-align: left ; width: auto;} td:nth-child(2) {text-align: left ; width: 100%}\n",
       "    .wandb-row { display: flex; flex-direction: row; flex-wrap: wrap; justify-content: flex-start; width: 100% }\n",
       "    .wandb-col { display: flex; flex-direction: column; flex-basis: 100%; flex: 1; padding: 10px; }\n",
       "    </style>\n",
       "<div class=\"wandb-row\"><div class=\"wandb-col\"><h3>Run history:</h3><br/><table class=\"wandb\"><tr><td>learning_rate</td><td>▁▁▁▁▁▁▁▁▁▁▂▂▂▂▂▂▂▂▃▃▃▃▃▄▄▄▄▄▅▅▅▆▆▆▆▇▇▇██</td></tr><tr><td>loss</td><td>█▆▅▄▄▄▃▃▃▃▃▃▃▃▃▃▂▂▂▂▂▂▂▂▂▂▂▂▂▂▁▂▂▁▂▂▁▁▁▁</td></tr></table><br/></div><div class=\"wandb-col\"><h3>Run summary:</h3><br/><table class=\"wandb\"><tr><td>learning_rate</td><td>7e-05</td></tr><tr><td>loss</td><td>28.25859</td></tr></table><br/></div></div>"
      ]
     },
     "metadata": {}
    },
    {
     "output_type": "display_data",
     "data": {
      "text/plain": [
       "<IPython.core.display.HTML object>"
      ],
      "text/html": [
       "Synced <strong style=\"color:#cdcd00\">autumn-dawn-19</strong>: <a href=\"https://wandb.ai/vslaykovsky/gpt-simplementation/runs/1chwrrwm\" target=\"_blank\">https://wandb.ai/vslaykovsky/gpt-simplementation/runs/1chwrrwm</a><br/>Synced 5 W&B file(s), 1501 media file(s), 2 artifact file(s) and 0 other file(s)"
      ]
     },
     "metadata": {}
    },
    {
     "output_type": "display_data",
     "data": {
      "text/plain": [
       "<IPython.core.display.HTML object>"
      ],
      "text/html": [
       "Find logs at: <code>./wandb/run-20220706_184142-1chwrrwm/logs</code>"
      ]
     },
     "metadata": {}
    }
   ],
   "source": [
    "if TRAIN_GPT:\n",
    "    wrun = wandb.init(project='gpt-simplementation', reinit=True)\n",
    "    wrun.display()\n",
    "    samples = []\n",
    "    with wrun:\n",
    "        for epoch in tqdm(range(EPOCHS), desc='Epoch'):\n",
    "            batches = tqdm(dl_train)\n",
    "            for (_, dec), target, (_, dec_mask, att_mask) in batches:\n",
    "                if step > MAX_STEPS:\n",
    "                    break\n",
    "                optimizer.zero_grad()\n",
    "                pred = gpt(dec.to(DEVICE), padding_mask=dec_mask.to(DEVICE), att_mask=att_mask.to(DEVICE))\n",
    "                loss_value = masked_loss_reduced(loss, pred, target.to(DEVICE), dec_mask.to(DEVICE))\n",
    "                loss_value.backward()\n",
    "                optimizer.step()\n",
    "                scheduler.step()\n",
    "                batches.set_description(f'Step:{step} Loss:{loss_value.item():.02f}')\n",
    "                if step % 1000 == 0:\n",
    "                    gpt.eval()\n",
    "                    pred = gpt(dec.to(DEVICE), padding_mask=dec_mask.to(DEVICE))\n",
    "                    dec1 = dec.numpy().tolist()[0]\n",
    "                    dec2 = pred.detach().argmax(dim=2).cpu().numpy().tolist()[0]\n",
    "                    dec1 = sentence_piece.decode(dec1)\n",
    "                    dec2 = sentence_piece.decode(dec2)\n",
    "                    print('Step', step)\n",
    "                    print(dec1)\n",
    "                    print(dec2)\n",
    "                    samples.append([step, dec1, dec2])\n",
    "                    !rm -f {DATA_DIR} / gpt_ *.model\n",
    "                    torch.save(gpt.state_dict(), f'{DATA_DIR}/gpt_{step}.model')\n",
    "                    gpt.train()\n",
    "                step += 1\n",
    "                wrun.log({'learning_rate': float(scheduler.get_last_lr()[0]), 'loss': loss_value.item(),\n",
    "                          'samples': wandb.Table(columns=['step', 'gpt_target', 'gpt_prediction'], data=samples)})"
   ],
   "metadata": {
    "pycharm": {
     "name": "#%%\n"
    },
    "colab": {
     "base_uri": "https://localhost:8080/",
     "height": 984,
     "referenced_widgets": [
      "700b681736cd4247a450249a5de45e1d",
      "3ad793b51c3c457ab95043322fcb6727",
      "581ab88f96c0414bb8b3bf7e22ea0bf5",
      "c474786d3b5c429182f8d3ca5d806927",
      "7b4ca085b0004864aa6af00af1b0a842",
      "e11cbdfe225144c49627fd1236870fd2",
      "02bb27700cb4406fb985592bbf989054",
      "7e8618985e904379ac3118a48d1f40ad",
      "2ce4384abf53403fb4ccdf45c2cfceca",
      "9b5489bdb8974005a22306f12049979f",
      "2be09d517ce24ba0b0fce1a5d6c01a6a",
      "a24e95decf91458d96a00a46a38bd0e6",
      "20694f14551d43c4b3b1b0e96a917f06",
      "36a3996d8e164ee0a5eeb0e4292728db",
      "03a08854334e4c459b0e286a20c9155d",
      "e68c265d512d4b16abcf7292b430c832",
      "c5e79631ba22440d9afd0f54960f37db",
      "844f5af5f38844ac959b87eb786e1b7d",
      "6bd7801816fa4cf38ccd24a050ff0b6f",
      "946653a263954e53955b47eb63593785",
      "5394bf0bf8f74f2cb57f1513804f1458",
      "eb79960edf2140e690ec490ba69ad087",
      "9afbd17b04c44e85b3bc03e50679b776",
      "f162dcefeaeb49af8b90e53c072020ef",
      "6b89a272069e40c596e4c853062a1e04",
      "f7de14ccbaac4d3988c89dd7c087f13d",
      "b12683a9e48442e990a0f2b03183531d",
      "04738a2420a54efb931e47bd716429bf",
      "3c467b50ccba469a8aaf765b2644ee9e",
      "68225a47f4b146318b7e7cd146165e99"
     ]
    },
    "id": "O_y_7lK7xu3d",
    "outputId": "02b9fd38-e135-4bdf-fca1-3515beb74bbd"
   }
  },
  {
   "cell_type": "markdown",
   "source": [
    "## Generation"
   ],
   "metadata": {
    "id": "hPe5K_tF0n_0",
    "pycharm": {
     "name": "#%% md\n"
    }
   }
  },
  {
   "cell_type": "code",
   "execution_count": 81,
   "outputs": [
    {
     "output_type": "display_data",
     "data": {
      "text/plain": [
       "  0%|          | 0/32 [00:00<?, ?it/s]"
      ],
      "application/vnd.jupyter.widget-view+json": {
       "version_major": 2,
       "version_minor": 0,
       "model_id": "b3e36033d87245b8b7b5619e6691e1ba"
      }
     },
     "metadata": {}
    },
    {
     "output_type": "stream",
     "name": "stdout",
     "text": [
      "tensor([[    1, 26387,    43,     3]], dtype=torch.int32)\n",
      "tensor([[    1, 26387,    43,     3, 36356]], dtype=torch.int32)\n",
      "tensor([[    1, 26387,    43,     3, 36356,  9741]], dtype=torch.int32)\n",
      "tensor([[    1, 26387,    43,     3, 36356,  9741,   163]], dtype=torch.int32)\n",
      "tensor([[    1, 26387,    43,     3, 36356,  9741,   163, 33040]],\n",
      "       dtype=torch.int32)\n",
      "tensor([[    1, 26387,    43,     3, 36356,  9741,   163, 33040, 33040]],\n",
      "       dtype=torch.int32)\n",
      "tensor([[    1, 26387,    43,     3, 36356,  9741,   163, 33040, 33040,     3]],\n",
      "       dtype=torch.int32)\n",
      "tensor([[    1, 26387,    43,     3, 36356,  9741,   163, 33040, 33040,     3,\n",
      "            48]], dtype=torch.int32)\n",
      "tensor([[    1, 26387,    43,     3, 36356,  9741,   163, 33040, 33040,     3,\n",
      "            48,    40]], dtype=torch.int32)\n",
      "tensor([[    1, 26387,    43,     3, 36356,  9741,   163, 33040, 33040,     3,\n",
      "            48,    40,    40]], dtype=torch.int32)\n",
      "tensor([[    1, 26387,    43,     3, 36356,  9741,   163, 33040, 33040,     3,\n",
      "            48,    40,    40,    40]], dtype=torch.int32)\n",
      "tensor([[    1, 26387,    43,     3, 36356,  9741,   163, 33040, 33040,     3,\n",
      "            48,    40,    40,    40, 20392]], dtype=torch.int32)\n",
      "tensor([[    1, 26387,    43,     3, 36356,  9741,   163, 33040, 33040,     3,\n",
      "            48,    40,    40,    40, 20392, 38767]], dtype=torch.int32)\n",
      "tensor([[    1, 26387,    43,     3, 36356,  9741,   163, 33040, 33040,     3,\n",
      "            48,    40,    40,    40, 20392, 38767, 34903]], dtype=torch.int32)\n",
      "tensor([[    1, 26387,    43,     3, 36356,  9741,   163, 33040, 33040,     3,\n",
      "            48,    40,    40,    40, 20392, 38767, 34903, 34903]],\n",
      "       dtype=torch.int32)\n",
      "tensor([[    1, 26387,    43,     3, 36356,  9741,   163, 33040, 33040,     3,\n",
      "            48,    40,    40,    40, 20392, 38767, 34903, 34903, 18177]],\n",
      "       dtype=torch.int32)\n",
      "tensor([[    1, 26387,    43,     3, 36356,  9741,   163, 33040, 33040,     3,\n",
      "            48,    40,    40,    40, 20392, 38767, 34903, 34903, 18177,     4]],\n",
      "       dtype=torch.int32)\n",
      "tensor([[    1, 26387,    43,     3, 36356,  9741,   163, 33040, 33040,     3,\n",
      "            48,    40,    40,    40, 20392, 38767, 34903, 34903, 18177,     4,\n",
      "             2]], dtype=torch.int32)\n"
     ]
    },
    {
     "output_type": "execute_result",
     "data": {
      "text/plain": [
       "['entail this, бейкер снижения егоmichelmichel, что вы вы вы ослаблен доволен аккуратно аккуратноанья.']"
      ]
     },
     "metadata": {},
     "execution_count": 81
    }
   ],
   "source": [
    "def gpt_generate(gpt: GPT, input, sentence_piece, max_seq_len=32, verbose=False):\n",
    "    # iterative prediction token by token\n",
    "    enc_input = torch.tensor([sentence_piece.encode(input, add_bos=True, add_eos=False)]).to(DEVICE)\n",
    "    for _ in tqdm(range(max_seq_len)):\n",
    "        pred = gpt.forward(\n",
    "            enc_input,\n",
    "            att_mask=torch.triu(torch.ones(enc_input.shape[-1], enc_input.shape[-1]) * float('-inf'), diagonal=1).to(DEVICE)\n",
    "        )\n",
    "        pred = torch.argmax(pred, dim=2)[:, -1:].detach()\n",
    "        enc_input = torch.cat([enc_input, pred], dim=1).to(torch.int)\n",
    "        if verbose:\n",
    "            print(enc_input.cpu())\n",
    "        if enc_input[0][-1].item() == sentence_piece.eos_id():\n",
    "            break\n",
    "    return sentence_piece.decode(enc_input.cpu().numpy().tolist())\n",
    "\n",
    "gpt_generate(gpt, 'entail this', sentence_piece, verbose=True)"
   ],
   "metadata": {
    "pycharm": {
     "name": "#%%\n"
    },
    "colab": {
     "base_uri": "https://localhost:8080/",
     "height": 710,
     "referenced_widgets": [
      "b3e36033d87245b8b7b5619e6691e1ba",
      "cb79580c6f8a400f8dd8062ac4c5f0f4",
      "53f731fe5cb942d3aa823ad95ae652a7",
      "601130fd461f4182b485ffb576df2b01",
      "cb50d1b4cb8d4c409cf0141ccf752e63",
      "ec463f05663c472e9100395b1243c722",
      "7ecdadf948a34f278a80dbe14fb063cd",
      "34dcd53125444436b301c452084bd01b",
      "b881e49db8e546688453c6dcfdcd2c24",
      "81ae09392a6c4fa1bd8a650d65eab9b6",
      "35489c7c9fd64a5086df7337eeba19d8"
     ]
    },
    "id": "ayn5rprMxu3d",
    "outputId": "2327f60d-3659-4507-b606-d8fad1a8beb6"
   }
  }
 ],
 "metadata": {
  "kernelspec": {
   "display_name": "Python 3",
   "language": "python",
   "name": "python3"
  },
  "language_info": {
   "codemirror_mode": {
    "name": "ipython",
    "version": 2
   },
   "file_extension": ".py",
   "mimetype": "text/x-python",
   "name": "python",
   "nbconvert_exporter": "python",
   "pygments_lexer": "ipython2",
   "version": "2.7.6"
  },
  "colab": {
   "name": "transformer.ipynb",
   "provenance": []
  },
  "accelerator": "GPU",
  "gpuClass": "standard",
  "widgets": {
   "application/vnd.jupyter.widget-state+json": {
    "b21e94fc0bea468dadbf20fe3d7d2f36": {
     "model_module": "@jupyter-widgets/controls",
     "model_name": "HBoxModel",
     "model_module_version": "1.5.0",
     "state": {
      "_dom_classes": [],
      "_model_module": "@jupyter-widgets/controls",
      "_model_module_version": "1.5.0",
      "_model_name": "HBoxModel",
      "_view_count": null,
      "_view_module": "@jupyter-widgets/controls",
      "_view_module_version": "1.5.0",
      "_view_name": "HBoxView",
      "box_style": "",
      "children": [
       "IPY_MODEL_648a7ee6d5ee42d1aba92c933674af39",
       "IPY_MODEL_cb1aa32670be4a9096d0dfcdd1226bc6",
       "IPY_MODEL_c41e98d42b3941de9826a9f09fa1ed4b"
      ],
      "layout": "IPY_MODEL_fd27e14881fb4e5ca843eaf4291f79bd"
     }
    },
    "648a7ee6d5ee42d1aba92c933674af39": {
     "model_module": "@jupyter-widgets/controls",
     "model_name": "HTMLModel",
     "model_module_version": "1.5.0",
     "state": {
      "_dom_classes": [],
      "_model_module": "@jupyter-widgets/controls",
      "_model_module_version": "1.5.0",
      "_model_name": "HTMLModel",
      "_view_count": null,
      "_view_module": "@jupyter-widgets/controls",
      "_view_module_version": "1.5.0",
      "_view_name": "HTMLView",
      "description": "",
      "description_tooltip": null,
      "layout": "IPY_MODEL_3735ebb55e364a8a8b2cadac52c30ffe",
      "placeholder": "​",
      "style": "IPY_MODEL_2b6c4812591e4589bb45002b31fdad94",
      "value": "100%"
     }
    },
    "cb1aa32670be4a9096d0dfcdd1226bc6": {
     "model_module": "@jupyter-widgets/controls",
     "model_name": "FloatProgressModel",
     "model_module_version": "1.5.0",
     "state": {
      "_dom_classes": [],
      "_model_module": "@jupyter-widgets/controls",
      "_model_module_version": "1.5.0",
      "_model_name": "FloatProgressModel",
      "_view_count": null,
      "_view_module": "@jupyter-widgets/controls",
      "_view_module_version": "1.5.0",
      "_view_name": "ProgressView",
      "bar_style": "success",
      "description": "",
      "description_tooltip": null,
      "layout": "IPY_MODEL_432aa190ed36424f9abff8d496be8d2b",
      "max": 3,
      "min": 0,
      "orientation": "horizontal",
      "style": "IPY_MODEL_749aa8ddb5c14ceca4f4b4c29d7e5d76",
      "value": 3
     }
    },
    "c41e98d42b3941de9826a9f09fa1ed4b": {
     "model_module": "@jupyter-widgets/controls",
     "model_name": "HTMLModel",
     "model_module_version": "1.5.0",
     "state": {
      "_dom_classes": [],
      "_model_module": "@jupyter-widgets/controls",
      "_model_module_version": "1.5.0",
      "_model_name": "HTMLModel",
      "_view_count": null,
      "_view_module": "@jupyter-widgets/controls",
      "_view_module_version": "1.5.0",
      "_view_name": "HTMLView",
      "description": "",
      "description_tooltip": null,
      "layout": "IPY_MODEL_c2a9419251d54cc3abc337b54467828a",
      "placeholder": "​",
      "style": "IPY_MODEL_cb08b6a50bfb4f5bb36d8fb4da5df5bb",
      "value": " 3/3 [00:00&lt;00:00,  7.89it/s]"
     }
    },
    "fd27e14881fb4e5ca843eaf4291f79bd": {
     "model_module": "@jupyter-widgets/base",
     "model_name": "LayoutModel",
     "model_module_version": "1.2.0",
     "state": {
      "_model_module": "@jupyter-widgets/base",
      "_model_module_version": "1.2.0",
      "_model_name": "LayoutModel",
      "_view_count": null,
      "_view_module": "@jupyter-widgets/base",
      "_view_module_version": "1.2.0",
      "_view_name": "LayoutView",
      "align_content": null,
      "align_items": null,
      "align_self": null,
      "border": null,
      "bottom": null,
      "display": null,
      "flex": null,
      "flex_flow": null,
      "grid_area": null,
      "grid_auto_columns": null,
      "grid_auto_flow": null,
      "grid_auto_rows": null,
      "grid_column": null,
      "grid_gap": null,
      "grid_row": null,
      "grid_template_areas": null,
      "grid_template_columns": null,
      "grid_template_rows": null,
      "height": null,
      "justify_content": null,
      "justify_items": null,
      "left": null,
      "margin": null,
      "max_height": null,
      "max_width": null,
      "min_height": null,
      "min_width": null,
      "object_fit": null,
      "object_position": null,
      "order": null,
      "overflow": null,
      "overflow_x": null,
      "overflow_y": null,
      "padding": null,
      "right": null,
      "top": null,
      "visibility": null,
      "width": null
     }
    },
    "3735ebb55e364a8a8b2cadac52c30ffe": {
     "model_module": "@jupyter-widgets/base",
     "model_name": "LayoutModel",
     "model_module_version": "1.2.0",
     "state": {
      "_model_module": "@jupyter-widgets/base",
      "_model_module_version": "1.2.0",
      "_model_name": "LayoutModel",
      "_view_count": null,
      "_view_module": "@jupyter-widgets/base",
      "_view_module_version": "1.2.0",
      "_view_name": "LayoutView",
      "align_content": null,
      "align_items": null,
      "align_self": null,
      "border": null,
      "bottom": null,
      "display": null,
      "flex": null,
      "flex_flow": null,
      "grid_area": null,
      "grid_auto_columns": null,
      "grid_auto_flow": null,
      "grid_auto_rows": null,
      "grid_column": null,
      "grid_gap": null,
      "grid_row": null,
      "grid_template_areas": null,
      "grid_template_columns": null,
      "grid_template_rows": null,
      "height": null,
      "justify_content": null,
      "justify_items": null,
      "left": null,
      "margin": null,
      "max_height": null,
      "max_width": null,
      "min_height": null,
      "min_width": null,
      "object_fit": null,
      "object_position": null,
      "order": null,
      "overflow": null,
      "overflow_x": null,
      "overflow_y": null,
      "padding": null,
      "right": null,
      "top": null,
      "visibility": null,
      "width": null
     }
    },
    "2b6c4812591e4589bb45002b31fdad94": {
     "model_module": "@jupyter-widgets/controls",
     "model_name": "DescriptionStyleModel",
     "model_module_version": "1.5.0",
     "state": {
      "_model_module": "@jupyter-widgets/controls",
      "_model_module_version": "1.5.0",
      "_model_name": "DescriptionStyleModel",
      "_view_count": null,
      "_view_module": "@jupyter-widgets/base",
      "_view_module_version": "1.2.0",
      "_view_name": "StyleView",
      "description_width": ""
     }
    },
    "432aa190ed36424f9abff8d496be8d2b": {
     "model_module": "@jupyter-widgets/base",
     "model_name": "LayoutModel",
     "model_module_version": "1.2.0",
     "state": {
      "_model_module": "@jupyter-widgets/base",
      "_model_module_version": "1.2.0",
      "_model_name": "LayoutModel",
      "_view_count": null,
      "_view_module": "@jupyter-widgets/base",
      "_view_module_version": "1.2.0",
      "_view_name": "LayoutView",
      "align_content": null,
      "align_items": null,
      "align_self": null,
      "border": null,
      "bottom": null,
      "display": null,
      "flex": null,
      "flex_flow": null,
      "grid_area": null,
      "grid_auto_columns": null,
      "grid_auto_flow": null,
      "grid_auto_rows": null,
      "grid_column": null,
      "grid_gap": null,
      "grid_row": null,
      "grid_template_areas": null,
      "grid_template_columns": null,
      "grid_template_rows": null,
      "height": null,
      "justify_content": null,
      "justify_items": null,
      "left": null,
      "margin": null,
      "max_height": null,
      "max_width": null,
      "min_height": null,
      "min_width": null,
      "object_fit": null,
      "object_position": null,
      "order": null,
      "overflow": null,
      "overflow_x": null,
      "overflow_y": null,
      "padding": null,
      "right": null,
      "top": null,
      "visibility": null,
      "width": null
     }
    },
    "749aa8ddb5c14ceca4f4b4c29d7e5d76": {
     "model_module": "@jupyter-widgets/controls",
     "model_name": "ProgressStyleModel",
     "model_module_version": "1.5.0",
     "state": {
      "_model_module": "@jupyter-widgets/controls",
      "_model_module_version": "1.5.0",
      "_model_name": "ProgressStyleModel",
      "_view_count": null,
      "_view_module": "@jupyter-widgets/base",
      "_view_module_version": "1.2.0",
      "_view_name": "StyleView",
      "bar_color": null,
      "description_width": ""
     }
    },
    "c2a9419251d54cc3abc337b54467828a": {
     "model_module": "@jupyter-widgets/base",
     "model_name": "LayoutModel",
     "model_module_version": "1.2.0",
     "state": {
      "_model_module": "@jupyter-widgets/base",
      "_model_module_version": "1.2.0",
      "_model_name": "LayoutModel",
      "_view_count": null,
      "_view_module": "@jupyter-widgets/base",
      "_view_module_version": "1.2.0",
      "_view_name": "LayoutView",
      "align_content": null,
      "align_items": null,
      "align_self": null,
      "border": null,
      "bottom": null,
      "display": null,
      "flex": null,
      "flex_flow": null,
      "grid_area": null,
      "grid_auto_columns": null,
      "grid_auto_flow": null,
      "grid_auto_rows": null,
      "grid_column": null,
      "grid_gap": null,
      "grid_row": null,
      "grid_template_areas": null,
      "grid_template_columns": null,
      "grid_template_rows": null,
      "height": null,
      "justify_content": null,
      "justify_items": null,
      "left": null,
      "margin": null,
      "max_height": null,
      "max_width": null,
      "min_height": null,
      "min_width": null,
      "object_fit": null,
      "object_position": null,
      "order": null,
      "overflow": null,
      "overflow_x": null,
      "overflow_y": null,
      "padding": null,
      "right": null,
      "top": null,
      "visibility": null,
      "width": null
     }
    },
    "cb08b6a50bfb4f5bb36d8fb4da5df5bb": {
     "model_module": "@jupyter-widgets/controls",
     "model_name": "DescriptionStyleModel",
     "model_module_version": "1.5.0",
     "state": {
      "_model_module": "@jupyter-widgets/controls",
      "_model_module_version": "1.5.0",
      "_model_name": "DescriptionStyleModel",
      "_view_count": null,
      "_view_module": "@jupyter-widgets/base",
      "_view_module_version": "1.2.0",
      "_view_name": "StyleView",
      "description_width": ""
     }
    },
    "486709e04b1e454d94fad661b442ae1e": {
     "model_module": "@jupyter-widgets/controls",
     "model_name": "HBoxModel",
     "model_module_version": "1.5.0",
     "state": {
      "_dom_classes": [],
      "_model_module": "@jupyter-widgets/controls",
      "_model_module_version": "1.5.0",
      "_model_name": "HBoxModel",
      "_view_count": null,
      "_view_module": "@jupyter-widgets/controls",
      "_view_module_version": "1.5.0",
      "_view_name": "HBoxView",
      "box_style": "",
      "children": [
       "IPY_MODEL_2e5f5d6810d543baa0d46041a835e370",
       "IPY_MODEL_382d51c021ba4c82a29c1cd825e717d3",
       "IPY_MODEL_0d1cf6def56f45ca9c988b9deff3c564"
      ],
      "layout": "IPY_MODEL_5965b7ac9b10449086685cc905340bc9"
     }
    },
    "2e5f5d6810d543baa0d46041a835e370": {
     "model_module": "@jupyter-widgets/controls",
     "model_name": "HTMLModel",
     "model_module_version": "1.5.0",
     "state": {
      "_dom_classes": [],
      "_model_module": "@jupyter-widgets/controls",
      "_model_module_version": "1.5.0",
      "_model_name": "HTMLModel",
      "_view_count": null,
      "_view_module": "@jupyter-widgets/controls",
      "_view_module_version": "1.5.0",
      "_view_name": "HTMLView",
      "description": "",
      "description_tooltip": null,
      "layout": "IPY_MODEL_0fa54f3f477848b3b37bbf61eda362ad",
      "placeholder": "​",
      "style": "IPY_MODEL_8a987f999fcb4fad9b26d650c0676391",
      "value": "X:24: 100%"
     }
    },
    "382d51c021ba4c82a29c1cd825e717d3": {
     "model_module": "@jupyter-widgets/controls",
     "model_name": "FloatProgressModel",
     "model_module_version": "1.5.0",
     "state": {
      "_dom_classes": [],
      "_model_module": "@jupyter-widgets/controls",
      "_model_module_version": "1.5.0",
      "_model_name": "FloatProgressModel",
      "_view_count": null,
      "_view_module": "@jupyter-widgets/controls",
      "_view_module_version": "1.5.0",
      "_view_name": "ProgressView",
      "bar_style": "success",
      "description": "",
      "description_tooltip": null,
      "layout": "IPY_MODEL_6acca7355b6648c7968c4d80c5c97415",
      "max": 94,
      "min": 0,
      "orientation": "horizontal",
      "style": "IPY_MODEL_388942d08e6a483b8cc59f4646310505",
      "value": 94
     }
    },
    "0d1cf6def56f45ca9c988b9deff3c564": {
     "model_module": "@jupyter-widgets/controls",
     "model_name": "HTMLModel",
     "model_module_version": "1.5.0",
     "state": {
      "_dom_classes": [],
      "_model_module": "@jupyter-widgets/controls",
      "_model_module_version": "1.5.0",
      "_model_name": "HTMLModel",
      "_view_count": null,
      "_view_module": "@jupyter-widgets/controls",
      "_view_module_version": "1.5.0",
      "_view_name": "HTMLView",
      "description": "",
      "description_tooltip": null,
      "layout": "IPY_MODEL_7a10331246f34dc39b30a98998ec66f0",
      "placeholder": "​",
      "style": "IPY_MODEL_fcc05ae1b62643bfaf1e5284a338daf5",
      "value": " 94/94 [00:00&lt;00:00, 489.11it/s]"
     }
    },
    "5965b7ac9b10449086685cc905340bc9": {
     "model_module": "@jupyter-widgets/base",
     "model_name": "LayoutModel",
     "model_module_version": "1.2.0",
     "state": {
      "_model_module": "@jupyter-widgets/base",
      "_model_module_version": "1.2.0",
      "_model_name": "LayoutModel",
      "_view_count": null,
      "_view_module": "@jupyter-widgets/base",
      "_view_module_version": "1.2.0",
      "_view_name": "LayoutView",
      "align_content": null,
      "align_items": null,
      "align_self": null,
      "border": null,
      "bottom": null,
      "display": null,
      "flex": null,
      "flex_flow": null,
      "grid_area": null,
      "grid_auto_columns": null,
      "grid_auto_flow": null,
      "grid_auto_rows": null,
      "grid_column": null,
      "grid_gap": null,
      "grid_row": null,
      "grid_template_areas": null,
      "grid_template_columns": null,
      "grid_template_rows": null,
      "height": null,
      "justify_content": null,
      "justify_items": null,
      "left": null,
      "margin": null,
      "max_height": null,
      "max_width": null,
      "min_height": null,
      "min_width": null,
      "object_fit": null,
      "object_position": null,
      "order": null,
      "overflow": null,
      "overflow_x": null,
      "overflow_y": null,
      "padding": null,
      "right": null,
      "top": null,
      "visibility": null,
      "width": null
     }
    },
    "0fa54f3f477848b3b37bbf61eda362ad": {
     "model_module": "@jupyter-widgets/base",
     "model_name": "LayoutModel",
     "model_module_version": "1.2.0",
     "state": {
      "_model_module": "@jupyter-widgets/base",
      "_model_module_version": "1.2.0",
      "_model_name": "LayoutModel",
      "_view_count": null,
      "_view_module": "@jupyter-widgets/base",
      "_view_module_version": "1.2.0",
      "_view_name": "LayoutView",
      "align_content": null,
      "align_items": null,
      "align_self": null,
      "border": null,
      "bottom": null,
      "display": null,
      "flex": null,
      "flex_flow": null,
      "grid_area": null,
      "grid_auto_columns": null,
      "grid_auto_flow": null,
      "grid_auto_rows": null,
      "grid_column": null,
      "grid_gap": null,
      "grid_row": null,
      "grid_template_areas": null,
      "grid_template_columns": null,
      "grid_template_rows": null,
      "height": null,
      "justify_content": null,
      "justify_items": null,
      "left": null,
      "margin": null,
      "max_height": null,
      "max_width": null,
      "min_height": null,
      "min_width": null,
      "object_fit": null,
      "object_position": null,
      "order": null,
      "overflow": null,
      "overflow_x": null,
      "overflow_y": null,
      "padding": null,
      "right": null,
      "top": null,
      "visibility": null,
      "width": null
     }
    },
    "8a987f999fcb4fad9b26d650c0676391": {
     "model_module": "@jupyter-widgets/controls",
     "model_name": "DescriptionStyleModel",
     "model_module_version": "1.5.0",
     "state": {
      "_model_module": "@jupyter-widgets/controls",
      "_model_module_version": "1.5.0",
      "_model_name": "DescriptionStyleModel",
      "_view_count": null,
      "_view_module": "@jupyter-widgets/base",
      "_view_module_version": "1.2.0",
      "_view_name": "StyleView",
      "description_width": ""
     }
    },
    "6acca7355b6648c7968c4d80c5c97415": {
     "model_module": "@jupyter-widgets/base",
     "model_name": "LayoutModel",
     "model_module_version": "1.2.0",
     "state": {
      "_model_module": "@jupyter-widgets/base",
      "_model_module_version": "1.2.0",
      "_model_name": "LayoutModel",
      "_view_count": null,
      "_view_module": "@jupyter-widgets/base",
      "_view_module_version": "1.2.0",
      "_view_name": "LayoutView",
      "align_content": null,
      "align_items": null,
      "align_self": null,
      "border": null,
      "bottom": null,
      "display": null,
      "flex": null,
      "flex_flow": null,
      "grid_area": null,
      "grid_auto_columns": null,
      "grid_auto_flow": null,
      "grid_auto_rows": null,
      "grid_column": null,
      "grid_gap": null,
      "grid_row": null,
      "grid_template_areas": null,
      "grid_template_columns": null,
      "grid_template_rows": null,
      "height": null,
      "justify_content": null,
      "justify_items": null,
      "left": null,
      "margin": null,
      "max_height": null,
      "max_width": null,
      "min_height": null,
      "min_width": null,
      "object_fit": null,
      "object_position": null,
      "order": null,
      "overflow": null,
      "overflow_x": null,
      "overflow_y": null,
      "padding": null,
      "right": null,
      "top": null,
      "visibility": null,
      "width": null
     }
    },
    "388942d08e6a483b8cc59f4646310505": {
     "model_module": "@jupyter-widgets/controls",
     "model_name": "ProgressStyleModel",
     "model_module_version": "1.5.0",
     "state": {
      "_model_module": "@jupyter-widgets/controls",
      "_model_module_version": "1.5.0",
      "_model_name": "ProgressStyleModel",
      "_view_count": null,
      "_view_module": "@jupyter-widgets/base",
      "_view_module_version": "1.2.0",
      "_view_name": "StyleView",
      "bar_color": null,
      "description_width": ""
     }
    },
    "7a10331246f34dc39b30a98998ec66f0": {
     "model_module": "@jupyter-widgets/base",
     "model_name": "LayoutModel",
     "model_module_version": "1.2.0",
     "state": {
      "_model_module": "@jupyter-widgets/base",
      "_model_module_version": "1.2.0",
      "_model_name": "LayoutModel",
      "_view_count": null,
      "_view_module": "@jupyter-widgets/base",
      "_view_module_version": "1.2.0",
      "_view_name": "LayoutView",
      "align_content": null,
      "align_items": null,
      "align_self": null,
      "border": null,
      "bottom": null,
      "display": null,
      "flex": null,
      "flex_flow": null,
      "grid_area": null,
      "grid_auto_columns": null,
      "grid_auto_flow": null,
      "grid_auto_rows": null,
      "grid_column": null,
      "grid_gap": null,
      "grid_row": null,
      "grid_template_areas": null,
      "grid_template_columns": null,
      "grid_template_rows": null,
      "height": null,
      "justify_content": null,
      "justify_items": null,
      "left": null,
      "margin": null,
      "max_height": null,
      "max_width": null,
      "min_height": null,
      "min_width": null,
      "object_fit": null,
      "object_position": null,
      "order": null,
      "overflow": null,
      "overflow_x": null,
      "overflow_y": null,
      "padding": null,
      "right": null,
      "top": null,
      "visibility": null,
      "width": null
     }
    },
    "fcc05ae1b62643bfaf1e5284a338daf5": {
     "model_module": "@jupyter-widgets/controls",
     "model_name": "DescriptionStyleModel",
     "model_module_version": "1.5.0",
     "state": {
      "_model_module": "@jupyter-widgets/controls",
      "_model_module_version": "1.5.0",
      "_model_name": "DescriptionStyleModel",
      "_view_count": null,
      "_view_module": "@jupyter-widgets/base",
      "_view_module_version": "1.2.0",
      "_view_name": "StyleView",
      "description_width": ""
     }
    },
    "caf20760e53e4d2f9a678f8b1f08edd6": {
     "model_module": "@jupyter-widgets/controls",
     "model_name": "HBoxModel",
     "model_module_version": "1.5.0",
     "state": {
      "_dom_classes": [],
      "_model_module": "@jupyter-widgets/controls",
      "_model_module_version": "1.5.0",
      "_model_name": "HBoxModel",
      "_view_count": null,
      "_view_module": "@jupyter-widgets/controls",
      "_view_module_version": "1.5.0",
      "_view_name": "HBoxView",
      "box_style": "",
      "children": [
       "IPY_MODEL_5285f5278c34401f8430a4e81b5c1562",
       "IPY_MODEL_0e42f33a168d4d388d62e8dd4263f241",
       "IPY_MODEL_61f017552ab44cb6a7540c4798f4eb38"
      ],
      "layout": "IPY_MODEL_87bf944b80e44533ae6136807bf2760f"
     }
    },
    "5285f5278c34401f8430a4e81b5c1562": {
     "model_module": "@jupyter-widgets/controls",
     "model_name": "HTMLModel",
     "model_module_version": "1.5.0",
     "state": {
      "_dom_classes": [],
      "_model_module": "@jupyter-widgets/controls",
      "_model_module_version": "1.5.0",
      "_model_name": "HTMLModel",
      "_view_count": null,
      "_view_module": "@jupyter-widgets/controls",
      "_view_module_version": "1.5.0",
      "_view_name": "HTMLView",
      "description": "",
      "description_tooltip": null,
      "layout": "IPY_MODEL_ece252ed4014407bbcaab2cbb2e19ab0",
      "placeholder": "​",
      "style": "IPY_MODEL_c7dc98c21a4c459d97e19bd27e0986e4",
      "value": "Epoch: 100%"
     }
    },
    "0e42f33a168d4d388d62e8dd4263f241": {
     "model_module": "@jupyter-widgets/controls",
     "model_name": "FloatProgressModel",
     "model_module_version": "1.5.0",
     "state": {
      "_dom_classes": [],
      "_model_module": "@jupyter-widgets/controls",
      "_model_module_version": "1.5.0",
      "_model_name": "FloatProgressModel",
      "_view_count": null,
      "_view_module": "@jupyter-widgets/controls",
      "_view_module_version": "1.5.0",
      "_view_name": "ProgressView",
      "bar_style": "success",
      "description": "",
      "description_tooltip": null,
      "layout": "IPY_MODEL_c629dff7187d454db840b7eda1a0f0fb",
      "max": 1,
      "min": 0,
      "orientation": "horizontal",
      "style": "IPY_MODEL_911e11a8199349caab438e17f146a592",
      "value": 1
     }
    },
    "61f017552ab44cb6a7540c4798f4eb38": {
     "model_module": "@jupyter-widgets/controls",
     "model_name": "HTMLModel",
     "model_module_version": "1.5.0",
     "state": {
      "_dom_classes": [],
      "_model_module": "@jupyter-widgets/controls",
      "_model_module_version": "1.5.0",
      "_model_name": "HTMLModel",
      "_view_count": null,
      "_view_module": "@jupyter-widgets/controls",
      "_view_module_version": "1.5.0",
      "_view_name": "HTMLView",
      "description": "",
      "description_tooltip": null,
      "layout": "IPY_MODEL_1f4ab15eaffb4ec3a56b7eed7ba74020",
      "placeholder": "​",
      "style": "IPY_MODEL_75b6dbc2ca3548fda35f3d544125c2c7",
      "value": " 1/1 [07:27&lt;00:00, 447.20s/it]"
     }
    },
    "87bf944b80e44533ae6136807bf2760f": {
     "model_module": "@jupyter-widgets/base",
     "model_name": "LayoutModel",
     "model_module_version": "1.2.0",
     "state": {
      "_model_module": "@jupyter-widgets/base",
      "_model_module_version": "1.2.0",
      "_model_name": "LayoutModel",
      "_view_count": null,
      "_view_module": "@jupyter-widgets/base",
      "_view_module_version": "1.2.0",
      "_view_name": "LayoutView",
      "align_content": null,
      "align_items": null,
      "align_self": null,
      "border": null,
      "bottom": null,
      "display": null,
      "flex": null,
      "flex_flow": null,
      "grid_area": null,
      "grid_auto_columns": null,
      "grid_auto_flow": null,
      "grid_auto_rows": null,
      "grid_column": null,
      "grid_gap": null,
      "grid_row": null,
      "grid_template_areas": null,
      "grid_template_columns": null,
      "grid_template_rows": null,
      "height": null,
      "justify_content": null,
      "justify_items": null,
      "left": null,
      "margin": null,
      "max_height": null,
      "max_width": null,
      "min_height": null,
      "min_width": null,
      "object_fit": null,
      "object_position": null,
      "order": null,
      "overflow": null,
      "overflow_x": null,
      "overflow_y": null,
      "padding": null,
      "right": null,
      "top": null,
      "visibility": null,
      "width": null
     }
    },
    "ece252ed4014407bbcaab2cbb2e19ab0": {
     "model_module": "@jupyter-widgets/base",
     "model_name": "LayoutModel",
     "model_module_version": "1.2.0",
     "state": {
      "_model_module": "@jupyter-widgets/base",
      "_model_module_version": "1.2.0",
      "_model_name": "LayoutModel",
      "_view_count": null,
      "_view_module": "@jupyter-widgets/base",
      "_view_module_version": "1.2.0",
      "_view_name": "LayoutView",
      "align_content": null,
      "align_items": null,
      "align_self": null,
      "border": null,
      "bottom": null,
      "display": null,
      "flex": null,
      "flex_flow": null,
      "grid_area": null,
      "grid_auto_columns": null,
      "grid_auto_flow": null,
      "grid_auto_rows": null,
      "grid_column": null,
      "grid_gap": null,
      "grid_row": null,
      "grid_template_areas": null,
      "grid_template_columns": null,
      "grid_template_rows": null,
      "height": null,
      "justify_content": null,
      "justify_items": null,
      "left": null,
      "margin": null,
      "max_height": null,
      "max_width": null,
      "min_height": null,
      "min_width": null,
      "object_fit": null,
      "object_position": null,
      "order": null,
      "overflow": null,
      "overflow_x": null,
      "overflow_y": null,
      "padding": null,
      "right": null,
      "top": null,
      "visibility": null,
      "width": null
     }
    },
    "c7dc98c21a4c459d97e19bd27e0986e4": {
     "model_module": "@jupyter-widgets/controls",
     "model_name": "DescriptionStyleModel",
     "model_module_version": "1.5.0",
     "state": {
      "_model_module": "@jupyter-widgets/controls",
      "_model_module_version": "1.5.0",
      "_model_name": "DescriptionStyleModel",
      "_view_count": null,
      "_view_module": "@jupyter-widgets/base",
      "_view_module_version": "1.2.0",
      "_view_name": "StyleView",
      "description_width": ""
     }
    },
    "c629dff7187d454db840b7eda1a0f0fb": {
     "model_module": "@jupyter-widgets/base",
     "model_name": "LayoutModel",
     "model_module_version": "1.2.0",
     "state": {
      "_model_module": "@jupyter-widgets/base",
      "_model_module_version": "1.2.0",
      "_model_name": "LayoutModel",
      "_view_count": null,
      "_view_module": "@jupyter-widgets/base",
      "_view_module_version": "1.2.0",
      "_view_name": "LayoutView",
      "align_content": null,
      "align_items": null,
      "align_self": null,
      "border": null,
      "bottom": null,
      "display": null,
      "flex": null,
      "flex_flow": null,
      "grid_area": null,
      "grid_auto_columns": null,
      "grid_auto_flow": null,
      "grid_auto_rows": null,
      "grid_column": null,
      "grid_gap": null,
      "grid_row": null,
      "grid_template_areas": null,
      "grid_template_columns": null,
      "grid_template_rows": null,
      "height": null,
      "justify_content": null,
      "justify_items": null,
      "left": null,
      "margin": null,
      "max_height": null,
      "max_width": null,
      "min_height": null,
      "min_width": null,
      "object_fit": null,
      "object_position": null,
      "order": null,
      "overflow": null,
      "overflow_x": null,
      "overflow_y": null,
      "padding": null,
      "right": null,
      "top": null,
      "visibility": null,
      "width": null
     }
    },
    "911e11a8199349caab438e17f146a592": {
     "model_module": "@jupyter-widgets/controls",
     "model_name": "ProgressStyleModel",
     "model_module_version": "1.5.0",
     "state": {
      "_model_module": "@jupyter-widgets/controls",
      "_model_module_version": "1.5.0",
      "_model_name": "ProgressStyleModel",
      "_view_count": null,
      "_view_module": "@jupyter-widgets/base",
      "_view_module_version": "1.2.0",
      "_view_name": "StyleView",
      "bar_color": null,
      "description_width": ""
     }
    },
    "1f4ab15eaffb4ec3a56b7eed7ba74020": {
     "model_module": "@jupyter-widgets/base",
     "model_name": "LayoutModel",
     "model_module_version": "1.2.0",
     "state": {
      "_model_module": "@jupyter-widgets/base",
      "_model_module_version": "1.2.0",
      "_model_name": "LayoutModel",
      "_view_count": null,
      "_view_module": "@jupyter-widgets/base",
      "_view_module_version": "1.2.0",
      "_view_name": "LayoutView",
      "align_content": null,
      "align_items": null,
      "align_self": null,
      "border": null,
      "bottom": null,
      "display": null,
      "flex": null,
      "flex_flow": null,
      "grid_area": null,
      "grid_auto_columns": null,
      "grid_auto_flow": null,
      "grid_auto_rows": null,
      "grid_column": null,
      "grid_gap": null,
      "grid_row": null,
      "grid_template_areas": null,
      "grid_template_columns": null,
      "grid_template_rows": null,
      "height": null,
      "justify_content": null,
      "justify_items": null,
      "left": null,
      "margin": null,
      "max_height": null,
      "max_width": null,
      "min_height": null,
      "min_width": null,
      "object_fit": null,
      "object_position": null,
      "order": null,
      "overflow": null,
      "overflow_x": null,
      "overflow_y": null,
      "padding": null,
      "right": null,
      "top": null,
      "visibility": null,
      "width": null
     }
    },
    "75b6dbc2ca3548fda35f3d544125c2c7": {
     "model_module": "@jupyter-widgets/controls",
     "model_name": "DescriptionStyleModel",
     "model_module_version": "1.5.0",
     "state": {
      "_model_module": "@jupyter-widgets/controls",
      "_model_module_version": "1.5.0",
      "_model_name": "DescriptionStyleModel",
      "_view_count": null,
      "_view_module": "@jupyter-widgets/base",
      "_view_module_version": "1.2.0",
      "_view_name": "StyleView",
      "description_width": ""
     }
    },
    "88a70698caf84355a3ac7a743ebb083f": {
     "model_module": "@jupyter-widgets/controls",
     "model_name": "HBoxModel",
     "model_module_version": "1.5.0",
     "state": {
      "_dom_classes": [],
      "_model_module": "@jupyter-widgets/controls",
      "_model_module_version": "1.5.0",
      "_model_name": "HBoxModel",
      "_view_count": null,
      "_view_module": "@jupyter-widgets/controls",
      "_view_module_version": "1.5.0",
      "_view_name": "HBoxView",
      "box_style": "",
      "children": [
       "IPY_MODEL_e7b343b5874c4cf4a8255f410d3d342c",
       "IPY_MODEL_2c42472fbe0240c0aeb1f0414755f3aa",
       "IPY_MODEL_2174bc002f614f8ca568d963b4215ef9"
      ],
      "layout": "IPY_MODEL_621a8a882d624dc7949eac4b7f81de02"
     }
    },
    "e7b343b5874c4cf4a8255f410d3d342c": {
     "model_module": "@jupyter-widgets/controls",
     "model_name": "HTMLModel",
     "model_module_version": "1.5.0",
     "state": {
      "_dom_classes": [],
      "_model_module": "@jupyter-widgets/controls",
      "_model_module_version": "1.5.0",
      "_model_name": "HTMLModel",
      "_view_count": null,
      "_view_module": "@jupyter-widgets/controls",
      "_view_module_version": "1.5.0",
      "_view_name": "HTMLView",
      "description": "",
      "description_tooltip": null,
      "layout": "IPY_MODEL_7430cc4992e14ae8968f30578f386f21",
      "placeholder": "​",
      "style": "IPY_MODEL_4b7a8cac96e5416f9ddcf90712af77bd",
      "value": "loss:14.37 lr:0.00013:   3%"
     }
    },
    "2c42472fbe0240c0aeb1f0414755f3aa": {
     "model_module": "@jupyter-widgets/controls",
     "model_name": "FloatProgressModel",
     "model_module_version": "1.5.0",
     "state": {
      "_dom_classes": [],
      "_model_module": "@jupyter-widgets/controls",
      "_model_module_version": "1.5.0",
      "_model_name": "FloatProgressModel",
      "_view_count": null,
      "_view_module": "@jupyter-widgets/controls",
      "_view_module_version": "1.5.0",
      "_view_name": "ProgressView",
      "bar_style": "danger",
      "description": "",
      "description_tooltip": null,
      "layout": "IPY_MODEL_a38a5ae5efc84954b3795ace9221dbb2",
      "max": 46468,
      "min": 0,
      "orientation": "horizontal",
      "style": "IPY_MODEL_98c4a95e10b14f94823bfc52d6191f63",
      "value": 1501
     }
    },
    "2174bc002f614f8ca568d963b4215ef9": {
     "model_module": "@jupyter-widgets/controls",
     "model_name": "HTMLModel",
     "model_module_version": "1.5.0",
     "state": {
      "_dom_classes": [],
      "_model_module": "@jupyter-widgets/controls",
      "_model_module_version": "1.5.0",
      "_model_name": "HTMLModel",
      "_view_count": null,
      "_view_module": "@jupyter-widgets/controls",
      "_view_module_version": "1.5.0",
      "_view_name": "HTMLView",
      "description": "",
      "description_tooltip": null,
      "layout": "IPY_MODEL_a9a2f1887f5d485e85fa08f9c27e5d4a",
      "placeholder": "​",
      "style": "IPY_MODEL_53417ce6039c49ac9385ac939f4fb3a1",
      "value": " 1501/46468 [07:27&lt;3:39:14,  3.42it/s]"
     }
    },
    "621a8a882d624dc7949eac4b7f81de02": {
     "model_module": "@jupyter-widgets/base",
     "model_name": "LayoutModel",
     "model_module_version": "1.2.0",
     "state": {
      "_model_module": "@jupyter-widgets/base",
      "_model_module_version": "1.2.0",
      "_model_name": "LayoutModel",
      "_view_count": null,
      "_view_module": "@jupyter-widgets/base",
      "_view_module_version": "1.2.0",
      "_view_name": "LayoutView",
      "align_content": null,
      "align_items": null,
      "align_self": null,
      "border": null,
      "bottom": null,
      "display": null,
      "flex": null,
      "flex_flow": null,
      "grid_area": null,
      "grid_auto_columns": null,
      "grid_auto_flow": null,
      "grid_auto_rows": null,
      "grid_column": null,
      "grid_gap": null,
      "grid_row": null,
      "grid_template_areas": null,
      "grid_template_columns": null,
      "grid_template_rows": null,
      "height": null,
      "justify_content": null,
      "justify_items": null,
      "left": null,
      "margin": null,
      "max_height": null,
      "max_width": null,
      "min_height": null,
      "min_width": null,
      "object_fit": null,
      "object_position": null,
      "order": null,
      "overflow": null,
      "overflow_x": null,
      "overflow_y": null,
      "padding": null,
      "right": null,
      "top": null,
      "visibility": null,
      "width": null
     }
    },
    "7430cc4992e14ae8968f30578f386f21": {
     "model_module": "@jupyter-widgets/base",
     "model_name": "LayoutModel",
     "model_module_version": "1.2.0",
     "state": {
      "_model_module": "@jupyter-widgets/base",
      "_model_module_version": "1.2.0",
      "_model_name": "LayoutModel",
      "_view_count": null,
      "_view_module": "@jupyter-widgets/base",
      "_view_module_version": "1.2.0",
      "_view_name": "LayoutView",
      "align_content": null,
      "align_items": null,
      "align_self": null,
      "border": null,
      "bottom": null,
      "display": null,
      "flex": null,
      "flex_flow": null,
      "grid_area": null,
      "grid_auto_columns": null,
      "grid_auto_flow": null,
      "grid_auto_rows": null,
      "grid_column": null,
      "grid_gap": null,
      "grid_row": null,
      "grid_template_areas": null,
      "grid_template_columns": null,
      "grid_template_rows": null,
      "height": null,
      "justify_content": null,
      "justify_items": null,
      "left": null,
      "margin": null,
      "max_height": null,
      "max_width": null,
      "min_height": null,
      "min_width": null,
      "object_fit": null,
      "object_position": null,
      "order": null,
      "overflow": null,
      "overflow_x": null,
      "overflow_y": null,
      "padding": null,
      "right": null,
      "top": null,
      "visibility": null,
      "width": null
     }
    },
    "4b7a8cac96e5416f9ddcf90712af77bd": {
     "model_module": "@jupyter-widgets/controls",
     "model_name": "DescriptionStyleModel",
     "model_module_version": "1.5.0",
     "state": {
      "_model_module": "@jupyter-widgets/controls",
      "_model_module_version": "1.5.0",
      "_model_name": "DescriptionStyleModel",
      "_view_count": null,
      "_view_module": "@jupyter-widgets/base",
      "_view_module_version": "1.2.0",
      "_view_name": "StyleView",
      "description_width": ""
     }
    },
    "a38a5ae5efc84954b3795ace9221dbb2": {
     "model_module": "@jupyter-widgets/base",
     "model_name": "LayoutModel",
     "model_module_version": "1.2.0",
     "state": {
      "_model_module": "@jupyter-widgets/base",
      "_model_module_version": "1.2.0",
      "_model_name": "LayoutModel",
      "_view_count": null,
      "_view_module": "@jupyter-widgets/base",
      "_view_module_version": "1.2.0",
      "_view_name": "LayoutView",
      "align_content": null,
      "align_items": null,
      "align_self": null,
      "border": null,
      "bottom": null,
      "display": null,
      "flex": null,
      "flex_flow": null,
      "grid_area": null,
      "grid_auto_columns": null,
      "grid_auto_flow": null,
      "grid_auto_rows": null,
      "grid_column": null,
      "grid_gap": null,
      "grid_row": null,
      "grid_template_areas": null,
      "grid_template_columns": null,
      "grid_template_rows": null,
      "height": null,
      "justify_content": null,
      "justify_items": null,
      "left": null,
      "margin": null,
      "max_height": null,
      "max_width": null,
      "min_height": null,
      "min_width": null,
      "object_fit": null,
      "object_position": null,
      "order": null,
      "overflow": null,
      "overflow_x": null,
      "overflow_y": null,
      "padding": null,
      "right": null,
      "top": null,
      "visibility": null,
      "width": null
     }
    },
    "98c4a95e10b14f94823bfc52d6191f63": {
     "model_module": "@jupyter-widgets/controls",
     "model_name": "ProgressStyleModel",
     "model_module_version": "1.5.0",
     "state": {
      "_model_module": "@jupyter-widgets/controls",
      "_model_module_version": "1.5.0",
      "_model_name": "ProgressStyleModel",
      "_view_count": null,
      "_view_module": "@jupyter-widgets/base",
      "_view_module_version": "1.2.0",
      "_view_name": "StyleView",
      "bar_color": null,
      "description_width": ""
     }
    },
    "a9a2f1887f5d485e85fa08f9c27e5d4a": {
     "model_module": "@jupyter-widgets/base",
     "model_name": "LayoutModel",
     "model_module_version": "1.2.0",
     "state": {
      "_model_module": "@jupyter-widgets/base",
      "_model_module_version": "1.2.0",
      "_model_name": "LayoutModel",
      "_view_count": null,
      "_view_module": "@jupyter-widgets/base",
      "_view_module_version": "1.2.0",
      "_view_name": "LayoutView",
      "align_content": null,
      "align_items": null,
      "align_self": null,
      "border": null,
      "bottom": null,
      "display": null,
      "flex": null,
      "flex_flow": null,
      "grid_area": null,
      "grid_auto_columns": null,
      "grid_auto_flow": null,
      "grid_auto_rows": null,
      "grid_column": null,
      "grid_gap": null,
      "grid_row": null,
      "grid_template_areas": null,
      "grid_template_columns": null,
      "grid_template_rows": null,
      "height": null,
      "justify_content": null,
      "justify_items": null,
      "left": null,
      "margin": null,
      "max_height": null,
      "max_width": null,
      "min_height": null,
      "min_width": null,
      "object_fit": null,
      "object_position": null,
      "order": null,
      "overflow": null,
      "overflow_x": null,
      "overflow_y": null,
      "padding": null,
      "right": null,
      "top": null,
      "visibility": null,
      "width": null
     }
    },
    "53417ce6039c49ac9385ac939f4fb3a1": {
     "model_module": "@jupyter-widgets/controls",
     "model_name": "DescriptionStyleModel",
     "model_module_version": "1.5.0",
     "state": {
      "_model_module": "@jupyter-widgets/controls",
      "_model_module_version": "1.5.0",
      "_model_name": "DescriptionStyleModel",
      "_view_count": null,
      "_view_module": "@jupyter-widgets/base",
      "_view_module_version": "1.2.0",
      "_view_name": "StyleView",
      "description_width": ""
     }
    },
    "0227d716b7204ce28ff91013960ffab0": {
     "model_module": "@jupyter-widgets/controls",
     "model_name": "VBoxModel",
     "model_module_version": "1.5.0",
     "state": {
      "_dom_classes": [],
      "_model_module": "@jupyter-widgets/controls",
      "_model_module_version": "1.5.0",
      "_model_name": "VBoxModel",
      "_view_count": null,
      "_view_module": "@jupyter-widgets/controls",
      "_view_module_version": "1.5.0",
      "_view_name": "VBoxView",
      "box_style": "",
      "children": [
       "IPY_MODEL_23ea0409b66340f6bbb89c78b799ae13",
       "IPY_MODEL_9db26d9fad5442e486020e55cd96fcbb"
      ],
      "layout": "IPY_MODEL_e64b4e6bd02b47e8bffb6e2b841053d5"
     }
    },
    "23ea0409b66340f6bbb89c78b799ae13": {
     "model_module": "@jupyter-widgets/controls",
     "model_name": "LabelModel",
     "model_module_version": "1.5.0",
     "state": {
      "_dom_classes": [],
      "_model_module": "@jupyter-widgets/controls",
      "_model_module_version": "1.5.0",
      "_model_name": "LabelModel",
      "_view_count": null,
      "_view_module": "@jupyter-widgets/controls",
      "_view_module_version": "1.5.0",
      "_view_name": "LabelView",
      "description": "",
      "description_tooltip": null,
      "layout": "IPY_MODEL_69b91990577f4f738f4e671c9e812bd3",
      "placeholder": "​",
      "style": "IPY_MODEL_97ff7e1a8f2049b9a429bccbada42df1",
      "value": "0.023 MB of 0.023 MB uploaded (0.000 MB deduped)\r"
     }
    },
    "9db26d9fad5442e486020e55cd96fcbb": {
     "model_module": "@jupyter-widgets/controls",
     "model_name": "FloatProgressModel",
     "model_module_version": "1.5.0",
     "state": {
      "_dom_classes": [],
      "_model_module": "@jupyter-widgets/controls",
      "_model_module_version": "1.5.0",
      "_model_name": "FloatProgressModel",
      "_view_count": null,
      "_view_module": "@jupyter-widgets/controls",
      "_view_module_version": "1.5.0",
      "_view_name": "ProgressView",
      "bar_style": "",
      "description": "",
      "description_tooltip": null,
      "layout": "IPY_MODEL_76070fe57a8a44bf9ca9b624e4513c42",
      "max": 1,
      "min": 0,
      "orientation": "horizontal",
      "style": "IPY_MODEL_8becdc6f959243908c2365aa97dd17ef",
      "value": 1
     }
    },
    "e64b4e6bd02b47e8bffb6e2b841053d5": {
     "model_module": "@jupyter-widgets/base",
     "model_name": "LayoutModel",
     "model_module_version": "1.2.0",
     "state": {
      "_model_module": "@jupyter-widgets/base",
      "_model_module_version": "1.2.0",
      "_model_name": "LayoutModel",
      "_view_count": null,
      "_view_module": "@jupyter-widgets/base",
      "_view_module_version": "1.2.0",
      "_view_name": "LayoutView",
      "align_content": null,
      "align_items": null,
      "align_self": null,
      "border": null,
      "bottom": null,
      "display": null,
      "flex": null,
      "flex_flow": null,
      "grid_area": null,
      "grid_auto_columns": null,
      "grid_auto_flow": null,
      "grid_auto_rows": null,
      "grid_column": null,
      "grid_gap": null,
      "grid_row": null,
      "grid_template_areas": null,
      "grid_template_columns": null,
      "grid_template_rows": null,
      "height": null,
      "justify_content": null,
      "justify_items": null,
      "left": null,
      "margin": null,
      "max_height": null,
      "max_width": null,
      "min_height": null,
      "min_width": null,
      "object_fit": null,
      "object_position": null,
      "order": null,
      "overflow": null,
      "overflow_x": null,
      "overflow_y": null,
      "padding": null,
      "right": null,
      "top": null,
      "visibility": null,
      "width": null
     }
    },
    "69b91990577f4f738f4e671c9e812bd3": {
     "model_module": "@jupyter-widgets/base",
     "model_name": "LayoutModel",
     "model_module_version": "1.2.0",
     "state": {
      "_model_module": "@jupyter-widgets/base",
      "_model_module_version": "1.2.0",
      "_model_name": "LayoutModel",
      "_view_count": null,
      "_view_module": "@jupyter-widgets/base",
      "_view_module_version": "1.2.0",
      "_view_name": "LayoutView",
      "align_content": null,
      "align_items": null,
      "align_self": null,
      "border": null,
      "bottom": null,
      "display": null,
      "flex": null,
      "flex_flow": null,
      "grid_area": null,
      "grid_auto_columns": null,
      "grid_auto_flow": null,
      "grid_auto_rows": null,
      "grid_column": null,
      "grid_gap": null,
      "grid_row": null,
      "grid_template_areas": null,
      "grid_template_columns": null,
      "grid_template_rows": null,
      "height": null,
      "justify_content": null,
      "justify_items": null,
      "left": null,
      "margin": null,
      "max_height": null,
      "max_width": null,
      "min_height": null,
      "min_width": null,
      "object_fit": null,
      "object_position": null,
      "order": null,
      "overflow": null,
      "overflow_x": null,
      "overflow_y": null,
      "padding": null,
      "right": null,
      "top": null,
      "visibility": null,
      "width": null
     }
    },
    "97ff7e1a8f2049b9a429bccbada42df1": {
     "model_module": "@jupyter-widgets/controls",
     "model_name": "DescriptionStyleModel",
     "model_module_version": "1.5.0",
     "state": {
      "_model_module": "@jupyter-widgets/controls",
      "_model_module_version": "1.5.0",
      "_model_name": "DescriptionStyleModel",
      "_view_count": null,
      "_view_module": "@jupyter-widgets/base",
      "_view_module_version": "1.2.0",
      "_view_name": "StyleView",
      "description_width": ""
     }
    },
    "76070fe57a8a44bf9ca9b624e4513c42": {
     "model_module": "@jupyter-widgets/base",
     "model_name": "LayoutModel",
     "model_module_version": "1.2.0",
     "state": {
      "_model_module": "@jupyter-widgets/base",
      "_model_module_version": "1.2.0",
      "_model_name": "LayoutModel",
      "_view_count": null,
      "_view_module": "@jupyter-widgets/base",
      "_view_module_version": "1.2.0",
      "_view_name": "LayoutView",
      "align_content": null,
      "align_items": null,
      "align_self": null,
      "border": null,
      "bottom": null,
      "display": null,
      "flex": null,
      "flex_flow": null,
      "grid_area": null,
      "grid_auto_columns": null,
      "grid_auto_flow": null,
      "grid_auto_rows": null,
      "grid_column": null,
      "grid_gap": null,
      "grid_row": null,
      "grid_template_areas": null,
      "grid_template_columns": null,
      "grid_template_rows": null,
      "height": null,
      "justify_content": null,
      "justify_items": null,
      "left": null,
      "margin": null,
      "max_height": null,
      "max_width": null,
      "min_height": null,
      "min_width": null,
      "object_fit": null,
      "object_position": null,
      "order": null,
      "overflow": null,
      "overflow_x": null,
      "overflow_y": null,
      "padding": null,
      "right": null,
      "top": null,
      "visibility": null,
      "width": null
     }
    },
    "8becdc6f959243908c2365aa97dd17ef": {
     "model_module": "@jupyter-widgets/controls",
     "model_name": "ProgressStyleModel",
     "model_module_version": "1.5.0",
     "state": {
      "_model_module": "@jupyter-widgets/controls",
      "_model_module_version": "1.5.0",
      "_model_name": "ProgressStyleModel",
      "_view_count": null,
      "_view_module": "@jupyter-widgets/base",
      "_view_module_version": "1.2.0",
      "_view_name": "StyleView",
      "bar_color": null,
      "description_width": ""
     }
    },
    "e501d5e013024dfd8a22308573295018": {
     "model_module": "@jupyter-widgets/controls",
     "model_name": "HBoxModel",
     "model_module_version": "1.5.0",
     "state": {
      "_dom_classes": [],
      "_model_module": "@jupyter-widgets/controls",
      "_model_module_version": "1.5.0",
      "_model_name": "HBoxModel",
      "_view_count": null,
      "_view_module": "@jupyter-widgets/controls",
      "_view_module_version": "1.5.0",
      "_view_name": "HBoxView",
      "box_style": "",
      "children": [
       "IPY_MODEL_9cc46cdae1f54ff3802ccedbe695984d",
       "IPY_MODEL_4d2453fc6e5a4454b27675e6df25db13",
       "IPY_MODEL_9319b7b2e157406abae854983e167f5e"
      ],
      "layout": "IPY_MODEL_b7ee5bac04ee428186b2e386433e3f8e"
     }
    },
    "9cc46cdae1f54ff3802ccedbe695984d": {
     "model_module": "@jupyter-widgets/controls",
     "model_name": "HTMLModel",
     "model_module_version": "1.5.0",
     "state": {
      "_dom_classes": [],
      "_model_module": "@jupyter-widgets/controls",
      "_model_module_version": "1.5.0",
      "_model_name": "HTMLModel",
      "_view_count": null,
      "_view_module": "@jupyter-widgets/controls",
      "_view_module_version": "1.5.0",
      "_view_name": "HTMLView",
      "description": "",
      "description_tooltip": null,
      "layout": "IPY_MODEL_5d67aed599964aa6abd3dc0d036f10d9",
      "placeholder": "​",
      "style": "IPY_MODEL_aac72aa12eb640398507ba330222e082",
      "value": "100%"
     }
    },
    "4d2453fc6e5a4454b27675e6df25db13": {
     "model_module": "@jupyter-widgets/controls",
     "model_name": "FloatProgressModel",
     "model_module_version": "1.5.0",
     "state": {
      "_dom_classes": [],
      "_model_module": "@jupyter-widgets/controls",
      "_model_module_version": "1.5.0",
      "_model_name": "FloatProgressModel",
      "_view_count": null,
      "_view_module": "@jupyter-widgets/controls",
      "_view_module_version": "1.5.0",
      "_view_name": "ProgressView",
      "bar_style": "success",
      "description": "",
      "description_tooltip": null,
      "layout": "IPY_MODEL_67f9e0955ded4dc7914504805d3ceb0e",
      "max": 94,
      "min": 0,
      "orientation": "horizontal",
      "style": "IPY_MODEL_b751f3921540419da03a45d756d2cdd1",
      "value": 94
     }
    },
    "9319b7b2e157406abae854983e167f5e": {
     "model_module": "@jupyter-widgets/controls",
     "model_name": "HTMLModel",
     "model_module_version": "1.5.0",
     "state": {
      "_dom_classes": [],
      "_model_module": "@jupyter-widgets/controls",
      "_model_module_version": "1.5.0",
      "_model_name": "HTMLModel",
      "_view_count": null,
      "_view_module": "@jupyter-widgets/controls",
      "_view_module_version": "1.5.0",
      "_view_name": "HTMLView",
      "description": "",
      "description_tooltip": null,
      "layout": "IPY_MODEL_0c496cb6c0f14e5d9db9ae8356553b31",
      "placeholder": "​",
      "style": "IPY_MODEL_5da3d7c2fc34452d910b01bb39052a1a",
      "value": " 94/94 [00:06&lt;00:00, 14.03it/s]"
     }
    },
    "b7ee5bac04ee428186b2e386433e3f8e": {
     "model_module": "@jupyter-widgets/base",
     "model_name": "LayoutModel",
     "model_module_version": "1.2.0",
     "state": {
      "_model_module": "@jupyter-widgets/base",
      "_model_module_version": "1.2.0",
      "_model_name": "LayoutModel",
      "_view_count": null,
      "_view_module": "@jupyter-widgets/base",
      "_view_module_version": "1.2.0",
      "_view_name": "LayoutView",
      "align_content": null,
      "align_items": null,
      "align_self": null,
      "border": null,
      "bottom": null,
      "display": null,
      "flex": null,
      "flex_flow": null,
      "grid_area": null,
      "grid_auto_columns": null,
      "grid_auto_flow": null,
      "grid_auto_rows": null,
      "grid_column": null,
      "grid_gap": null,
      "grid_row": null,
      "grid_template_areas": null,
      "grid_template_columns": null,
      "grid_template_rows": null,
      "height": null,
      "justify_content": null,
      "justify_items": null,
      "left": null,
      "margin": null,
      "max_height": null,
      "max_width": null,
      "min_height": null,
      "min_width": null,
      "object_fit": null,
      "object_position": null,
      "order": null,
      "overflow": null,
      "overflow_x": null,
      "overflow_y": null,
      "padding": null,
      "right": null,
      "top": null,
      "visibility": null,
      "width": null
     }
    },
    "5d67aed599964aa6abd3dc0d036f10d9": {
     "model_module": "@jupyter-widgets/base",
     "model_name": "LayoutModel",
     "model_module_version": "1.2.0",
     "state": {
      "_model_module": "@jupyter-widgets/base",
      "_model_module_version": "1.2.0",
      "_model_name": "LayoutModel",
      "_view_count": null,
      "_view_module": "@jupyter-widgets/base",
      "_view_module_version": "1.2.0",
      "_view_name": "LayoutView",
      "align_content": null,
      "align_items": null,
      "align_self": null,
      "border": null,
      "bottom": null,
      "display": null,
      "flex": null,
      "flex_flow": null,
      "grid_area": null,
      "grid_auto_columns": null,
      "grid_auto_flow": null,
      "grid_auto_rows": null,
      "grid_column": null,
      "grid_gap": null,
      "grid_row": null,
      "grid_template_areas": null,
      "grid_template_columns": null,
      "grid_template_rows": null,
      "height": null,
      "justify_content": null,
      "justify_items": null,
      "left": null,
      "margin": null,
      "max_height": null,
      "max_width": null,
      "min_height": null,
      "min_width": null,
      "object_fit": null,
      "object_position": null,
      "order": null,
      "overflow": null,
      "overflow_x": null,
      "overflow_y": null,
      "padding": null,
      "right": null,
      "top": null,
      "visibility": null,
      "width": null
     }
    },
    "aac72aa12eb640398507ba330222e082": {
     "model_module": "@jupyter-widgets/controls",
     "model_name": "DescriptionStyleModel",
     "model_module_version": "1.5.0",
     "state": {
      "_model_module": "@jupyter-widgets/controls",
      "_model_module_version": "1.5.0",
      "_model_name": "DescriptionStyleModel",
      "_view_count": null,
      "_view_module": "@jupyter-widgets/base",
      "_view_module_version": "1.2.0",
      "_view_name": "StyleView",
      "description_width": ""
     }
    },
    "67f9e0955ded4dc7914504805d3ceb0e": {
     "model_module": "@jupyter-widgets/base",
     "model_name": "LayoutModel",
     "model_module_version": "1.2.0",
     "state": {
      "_model_module": "@jupyter-widgets/base",
      "_model_module_version": "1.2.0",
      "_model_name": "LayoutModel",
      "_view_count": null,
      "_view_module": "@jupyter-widgets/base",
      "_view_module_version": "1.2.0",
      "_view_name": "LayoutView",
      "align_content": null,
      "align_items": null,
      "align_self": null,
      "border": null,
      "bottom": null,
      "display": null,
      "flex": null,
      "flex_flow": null,
      "grid_area": null,
      "grid_auto_columns": null,
      "grid_auto_flow": null,
      "grid_auto_rows": null,
      "grid_column": null,
      "grid_gap": null,
      "grid_row": null,
      "grid_template_areas": null,
      "grid_template_columns": null,
      "grid_template_rows": null,
      "height": null,
      "justify_content": null,
      "justify_items": null,
      "left": null,
      "margin": null,
      "max_height": null,
      "max_width": null,
      "min_height": null,
      "min_width": null,
      "object_fit": null,
      "object_position": null,
      "order": null,
      "overflow": null,
      "overflow_x": null,
      "overflow_y": null,
      "padding": null,
      "right": null,
      "top": null,
      "visibility": null,
      "width": null
     }
    },
    "b751f3921540419da03a45d756d2cdd1": {
     "model_module": "@jupyter-widgets/controls",
     "model_name": "ProgressStyleModel",
     "model_module_version": "1.5.0",
     "state": {
      "_model_module": "@jupyter-widgets/controls",
      "_model_module_version": "1.5.0",
      "_model_name": "ProgressStyleModel",
      "_view_count": null,
      "_view_module": "@jupyter-widgets/base",
      "_view_module_version": "1.2.0",
      "_view_name": "StyleView",
      "bar_color": null,
      "description_width": ""
     }
    },
    "0c496cb6c0f14e5d9db9ae8356553b31": {
     "model_module": "@jupyter-widgets/base",
     "model_name": "LayoutModel",
     "model_module_version": "1.2.0",
     "state": {
      "_model_module": "@jupyter-widgets/base",
      "_model_module_version": "1.2.0",
      "_model_name": "LayoutModel",
      "_view_count": null,
      "_view_module": "@jupyter-widgets/base",
      "_view_module_version": "1.2.0",
      "_view_name": "LayoutView",
      "align_content": null,
      "align_items": null,
      "align_self": null,
      "border": null,
      "bottom": null,
      "display": null,
      "flex": null,
      "flex_flow": null,
      "grid_area": null,
      "grid_auto_columns": null,
      "grid_auto_flow": null,
      "grid_auto_rows": null,
      "grid_column": null,
      "grid_gap": null,
      "grid_row": null,
      "grid_template_areas": null,
      "grid_template_columns": null,
      "grid_template_rows": null,
      "height": null,
      "justify_content": null,
      "justify_items": null,
      "left": null,
      "margin": null,
      "max_height": null,
      "max_width": null,
      "min_height": null,
      "min_width": null,
      "object_fit": null,
      "object_position": null,
      "order": null,
      "overflow": null,
      "overflow_x": null,
      "overflow_y": null,
      "padding": null,
      "right": null,
      "top": null,
      "visibility": null,
      "width": null
     }
    },
    "5da3d7c2fc34452d910b01bb39052a1a": {
     "model_module": "@jupyter-widgets/controls",
     "model_name": "DescriptionStyleModel",
     "model_module_version": "1.5.0",
     "state": {
      "_model_module": "@jupyter-widgets/controls",
      "_model_module_version": "1.5.0",
      "_model_name": "DescriptionStyleModel",
      "_view_count": null,
      "_view_module": "@jupyter-widgets/base",
      "_view_module_version": "1.2.0",
      "_view_name": "StyleView",
      "description_width": ""
     }
    },
    "611a235792e64ecf8b3523e2337fd2a0": {
     "model_module": "@jupyter-widgets/controls",
     "model_name": "HBoxModel",
     "model_module_version": "1.5.0",
     "state": {
      "_dom_classes": [],
      "_model_module": "@jupyter-widgets/controls",
      "_model_module_version": "1.5.0",
      "_model_name": "HBoxModel",
      "_view_count": null,
      "_view_module": "@jupyter-widgets/controls",
      "_view_module_version": "1.5.0",
      "_view_name": "HBoxView",
      "box_style": "",
      "children": [
       "IPY_MODEL_e5947b62ef6e4571b2a34cb3a1fe9203",
       "IPY_MODEL_b0eb81bf55fe4d8fac1fff8c92ffb84f",
       "IPY_MODEL_49453ddb19d54a9bb5d0774d5f8ba1df"
      ],
      "layout": "IPY_MODEL_bc48ba3859cd422dbc46d27d36df60eb"
     }
    },
    "e5947b62ef6e4571b2a34cb3a1fe9203": {
     "model_module": "@jupyter-widgets/controls",
     "model_name": "HTMLModel",
     "model_module_version": "1.5.0",
     "state": {
      "_dom_classes": [],
      "_model_module": "@jupyter-widgets/controls",
      "_model_module_version": "1.5.0",
      "_model_name": "HTMLModel",
      "_view_count": null,
      "_view_module": "@jupyter-widgets/controls",
      "_view_module_version": "1.5.0",
      "_view_name": "HTMLView",
      "description": "",
      "description_tooltip": null,
      "layout": "IPY_MODEL_91ed7ebb7fd6400b8ae453729fdd844c",
      "placeholder": "​",
      "style": "IPY_MODEL_cad2d8dbf25e485580d32a516653d37a",
      "value": "100%"
     }
    },
    "b0eb81bf55fe4d8fac1fff8c92ffb84f": {
     "model_module": "@jupyter-widgets/controls",
     "model_name": "FloatProgressModel",
     "model_module_version": "1.5.0",
     "state": {
      "_dom_classes": [],
      "_model_module": "@jupyter-widgets/controls",
      "_model_module_version": "1.5.0",
      "_model_name": "FloatProgressModel",
      "_view_count": null,
      "_view_module": "@jupyter-widgets/controls",
      "_view_module_version": "1.5.0",
      "_view_name": "ProgressView",
      "bar_style": "success",
      "description": "",
      "description_tooltip": null,
      "layout": "IPY_MODEL_f00d0465e9284408b62160b3dc118090",
      "max": 32,
      "min": 0,
      "orientation": "horizontal",
      "style": "IPY_MODEL_ba28089a66e94228b40abd263ed68f97",
      "value": 32
     }
    },
    "49453ddb19d54a9bb5d0774d5f8ba1df": {
     "model_module": "@jupyter-widgets/controls",
     "model_name": "HTMLModel",
     "model_module_version": "1.5.0",
     "state": {
      "_dom_classes": [],
      "_model_module": "@jupyter-widgets/controls",
      "_model_module_version": "1.5.0",
      "_model_name": "HTMLModel",
      "_view_count": null,
      "_view_module": "@jupyter-widgets/controls",
      "_view_module_version": "1.5.0",
      "_view_name": "HTMLView",
      "description": "",
      "description_tooltip": null,
      "layout": "IPY_MODEL_5801efb08bf443a38c0fdd06553fd633",
      "placeholder": "​",
      "style": "IPY_MODEL_72a2a044cabc4b71b7c0c057446f1371",
      "value": " 32/32 [00:01&lt;00:00, 18.91it/s]"
     }
    },
    "bc48ba3859cd422dbc46d27d36df60eb": {
     "model_module": "@jupyter-widgets/base",
     "model_name": "LayoutModel",
     "model_module_version": "1.2.0",
     "state": {
      "_model_module": "@jupyter-widgets/base",
      "_model_module_version": "1.2.0",
      "_model_name": "LayoutModel",
      "_view_count": null,
      "_view_module": "@jupyter-widgets/base",
      "_view_module_version": "1.2.0",
      "_view_name": "LayoutView",
      "align_content": null,
      "align_items": null,
      "align_self": null,
      "border": null,
      "bottom": null,
      "display": null,
      "flex": null,
      "flex_flow": null,
      "grid_area": null,
      "grid_auto_columns": null,
      "grid_auto_flow": null,
      "grid_auto_rows": null,
      "grid_column": null,
      "grid_gap": null,
      "grid_row": null,
      "grid_template_areas": null,
      "grid_template_columns": null,
      "grid_template_rows": null,
      "height": null,
      "justify_content": null,
      "justify_items": null,
      "left": null,
      "margin": null,
      "max_height": null,
      "max_width": null,
      "min_height": null,
      "min_width": null,
      "object_fit": null,
      "object_position": null,
      "order": null,
      "overflow": null,
      "overflow_x": null,
      "overflow_y": null,
      "padding": null,
      "right": null,
      "top": null,
      "visibility": null,
      "width": null
     }
    },
    "91ed7ebb7fd6400b8ae453729fdd844c": {
     "model_module": "@jupyter-widgets/base",
     "model_name": "LayoutModel",
     "model_module_version": "1.2.0",
     "state": {
      "_model_module": "@jupyter-widgets/base",
      "_model_module_version": "1.2.0",
      "_model_name": "LayoutModel",
      "_view_count": null,
      "_view_module": "@jupyter-widgets/base",
      "_view_module_version": "1.2.0",
      "_view_name": "LayoutView",
      "align_content": null,
      "align_items": null,
      "align_self": null,
      "border": null,
      "bottom": null,
      "display": null,
      "flex": null,
      "flex_flow": null,
      "grid_area": null,
      "grid_auto_columns": null,
      "grid_auto_flow": null,
      "grid_auto_rows": null,
      "grid_column": null,
      "grid_gap": null,
      "grid_row": null,
      "grid_template_areas": null,
      "grid_template_columns": null,
      "grid_template_rows": null,
      "height": null,
      "justify_content": null,
      "justify_items": null,
      "left": null,
      "margin": null,
      "max_height": null,
      "max_width": null,
      "min_height": null,
      "min_width": null,
      "object_fit": null,
      "object_position": null,
      "order": null,
      "overflow": null,
      "overflow_x": null,
      "overflow_y": null,
      "padding": null,
      "right": null,
      "top": null,
      "visibility": null,
      "width": null
     }
    },
    "cad2d8dbf25e485580d32a516653d37a": {
     "model_module": "@jupyter-widgets/controls",
     "model_name": "DescriptionStyleModel",
     "model_module_version": "1.5.0",
     "state": {
      "_model_module": "@jupyter-widgets/controls",
      "_model_module_version": "1.5.0",
      "_model_name": "DescriptionStyleModel",
      "_view_count": null,
      "_view_module": "@jupyter-widgets/base",
      "_view_module_version": "1.2.0",
      "_view_name": "StyleView",
      "description_width": ""
     }
    },
    "f00d0465e9284408b62160b3dc118090": {
     "model_module": "@jupyter-widgets/base",
     "model_name": "LayoutModel",
     "model_module_version": "1.2.0",
     "state": {
      "_model_module": "@jupyter-widgets/base",
      "_model_module_version": "1.2.0",
      "_model_name": "LayoutModel",
      "_view_count": null,
      "_view_module": "@jupyter-widgets/base",
      "_view_module_version": "1.2.0",
      "_view_name": "LayoutView",
      "align_content": null,
      "align_items": null,
      "align_self": null,
      "border": null,
      "bottom": null,
      "display": null,
      "flex": null,
      "flex_flow": null,
      "grid_area": null,
      "grid_auto_columns": null,
      "grid_auto_flow": null,
      "grid_auto_rows": null,
      "grid_column": null,
      "grid_gap": null,
      "grid_row": null,
      "grid_template_areas": null,
      "grid_template_columns": null,
      "grid_template_rows": null,
      "height": null,
      "justify_content": null,
      "justify_items": null,
      "left": null,
      "margin": null,
      "max_height": null,
      "max_width": null,
      "min_height": null,
      "min_width": null,
      "object_fit": null,
      "object_position": null,
      "order": null,
      "overflow": null,
      "overflow_x": null,
      "overflow_y": null,
      "padding": null,
      "right": null,
      "top": null,
      "visibility": null,
      "width": null
     }
    },
    "ba28089a66e94228b40abd263ed68f97": {
     "model_module": "@jupyter-widgets/controls",
     "model_name": "ProgressStyleModel",
     "model_module_version": "1.5.0",
     "state": {
      "_model_module": "@jupyter-widgets/controls",
      "_model_module_version": "1.5.0",
      "_model_name": "ProgressStyleModel",
      "_view_count": null,
      "_view_module": "@jupyter-widgets/base",
      "_view_module_version": "1.2.0",
      "_view_name": "StyleView",
      "bar_color": null,
      "description_width": ""
     }
    },
    "5801efb08bf443a38c0fdd06553fd633": {
     "model_module": "@jupyter-widgets/base",
     "model_name": "LayoutModel",
     "model_module_version": "1.2.0",
     "state": {
      "_model_module": "@jupyter-widgets/base",
      "_model_module_version": "1.2.0",
      "_model_name": "LayoutModel",
      "_view_count": null,
      "_view_module": "@jupyter-widgets/base",
      "_view_module_version": "1.2.0",
      "_view_name": "LayoutView",
      "align_content": null,
      "align_items": null,
      "align_self": null,
      "border": null,
      "bottom": null,
      "display": null,
      "flex": null,
      "flex_flow": null,
      "grid_area": null,
      "grid_auto_columns": null,
      "grid_auto_flow": null,
      "grid_auto_rows": null,
      "grid_column": null,
      "grid_gap": null,
      "grid_row": null,
      "grid_template_areas": null,
      "grid_template_columns": null,
      "grid_template_rows": null,
      "height": null,
      "justify_content": null,
      "justify_items": null,
      "left": null,
      "margin": null,
      "max_height": null,
      "max_width": null,
      "min_height": null,
      "min_width": null,
      "object_fit": null,
      "object_position": null,
      "order": null,
      "overflow": null,
      "overflow_x": null,
      "overflow_y": null,
      "padding": null,
      "right": null,
      "top": null,
      "visibility": null,
      "width": null
     }
    },
    "72a2a044cabc4b71b7c0c057446f1371": {
     "model_module": "@jupyter-widgets/controls",
     "model_name": "DescriptionStyleModel",
     "model_module_version": "1.5.0",
     "state": {
      "_model_module": "@jupyter-widgets/controls",
      "_model_module_version": "1.5.0",
      "_model_name": "DescriptionStyleModel",
      "_view_count": null,
      "_view_module": "@jupyter-widgets/base",
      "_view_module_version": "1.2.0",
      "_view_name": "StyleView",
      "description_width": ""
     }
    },
    "700b681736cd4247a450249a5de45e1d": {
     "model_module": "@jupyter-widgets/controls",
     "model_name": "HBoxModel",
     "model_module_version": "1.5.0",
     "state": {
      "_dom_classes": [],
      "_model_module": "@jupyter-widgets/controls",
      "_model_module_version": "1.5.0",
      "_model_name": "HBoxModel",
      "_view_count": null,
      "_view_module": "@jupyter-widgets/controls",
      "_view_module_version": "1.5.0",
      "_view_name": "HBoxView",
      "box_style": "",
      "children": [
       "IPY_MODEL_3ad793b51c3c457ab95043322fcb6727",
       "IPY_MODEL_581ab88f96c0414bb8b3bf7e22ea0bf5",
       "IPY_MODEL_c474786d3b5c429182f8d3ca5d806927"
      ],
      "layout": "IPY_MODEL_7b4ca085b0004864aa6af00af1b0a842"
     }
    },
    "3ad793b51c3c457ab95043322fcb6727": {
     "model_module": "@jupyter-widgets/controls",
     "model_name": "HTMLModel",
     "model_module_version": "1.5.0",
     "state": {
      "_dom_classes": [],
      "_model_module": "@jupyter-widgets/controls",
      "_model_module_version": "1.5.0",
      "_model_name": "HTMLModel",
      "_view_count": null,
      "_view_module": "@jupyter-widgets/controls",
      "_view_module_version": "1.5.0",
      "_view_name": "HTMLView",
      "description": "",
      "description_tooltip": null,
      "layout": "IPY_MODEL_e11cbdfe225144c49627fd1236870fd2",
      "placeholder": "​",
      "style": "IPY_MODEL_02bb27700cb4406fb985592bbf989054",
      "value": "Epoch: 100%"
     }
    },
    "581ab88f96c0414bb8b3bf7e22ea0bf5": {
     "model_module": "@jupyter-widgets/controls",
     "model_name": "FloatProgressModel",
     "model_module_version": "1.5.0",
     "state": {
      "_dom_classes": [],
      "_model_module": "@jupyter-widgets/controls",
      "_model_module_version": "1.5.0",
      "_model_name": "FloatProgressModel",
      "_view_count": null,
      "_view_module": "@jupyter-widgets/controls",
      "_view_module_version": "1.5.0",
      "_view_name": "ProgressView",
      "bar_style": "success",
      "description": "",
      "description_tooltip": null,
      "layout": "IPY_MODEL_7e8618985e904379ac3118a48d1f40ad",
      "max": 1,
      "min": 0,
      "orientation": "horizontal",
      "style": "IPY_MODEL_2ce4384abf53403fb4ccdf45c2cfceca",
      "value": 1
     }
    },
    "c474786d3b5c429182f8d3ca5d806927": {
     "model_module": "@jupyter-widgets/controls",
     "model_name": "HTMLModel",
     "model_module_version": "1.5.0",
     "state": {
      "_dom_classes": [],
      "_model_module": "@jupyter-widgets/controls",
      "_model_module_version": "1.5.0",
      "_model_name": "HTMLModel",
      "_view_count": null,
      "_view_module": "@jupyter-widgets/controls",
      "_view_module_version": "1.5.0",
      "_view_name": "HTMLView",
      "description": "",
      "description_tooltip": null,
      "layout": "IPY_MODEL_9b5489bdb8974005a22306f12049979f",
      "placeholder": "​",
      "style": "IPY_MODEL_2be09d517ce24ba0b0fce1a5d6c01a6a",
      "value": " 1/1 [13:22&lt;00:00, 802.03s/it]"
     }
    },
    "7b4ca085b0004864aa6af00af1b0a842": {
     "model_module": "@jupyter-widgets/base",
     "model_name": "LayoutModel",
     "model_module_version": "1.2.0",
     "state": {
      "_model_module": "@jupyter-widgets/base",
      "_model_module_version": "1.2.0",
      "_model_name": "LayoutModel",
      "_view_count": null,
      "_view_module": "@jupyter-widgets/base",
      "_view_module_version": "1.2.0",
      "_view_name": "LayoutView",
      "align_content": null,
      "align_items": null,
      "align_self": null,
      "border": null,
      "bottom": null,
      "display": null,
      "flex": null,
      "flex_flow": null,
      "grid_area": null,
      "grid_auto_columns": null,
      "grid_auto_flow": null,
      "grid_auto_rows": null,
      "grid_column": null,
      "grid_gap": null,
      "grid_row": null,
      "grid_template_areas": null,
      "grid_template_columns": null,
      "grid_template_rows": null,
      "height": null,
      "justify_content": null,
      "justify_items": null,
      "left": null,
      "margin": null,
      "max_height": null,
      "max_width": null,
      "min_height": null,
      "min_width": null,
      "object_fit": null,
      "object_position": null,
      "order": null,
      "overflow": null,
      "overflow_x": null,
      "overflow_y": null,
      "padding": null,
      "right": null,
      "top": null,
      "visibility": null,
      "width": null
     }
    },
    "e11cbdfe225144c49627fd1236870fd2": {
     "model_module": "@jupyter-widgets/base",
     "model_name": "LayoutModel",
     "model_module_version": "1.2.0",
     "state": {
      "_model_module": "@jupyter-widgets/base",
      "_model_module_version": "1.2.0",
      "_model_name": "LayoutModel",
      "_view_count": null,
      "_view_module": "@jupyter-widgets/base",
      "_view_module_version": "1.2.0",
      "_view_name": "LayoutView",
      "align_content": null,
      "align_items": null,
      "align_self": null,
      "border": null,
      "bottom": null,
      "display": null,
      "flex": null,
      "flex_flow": null,
      "grid_area": null,
      "grid_auto_columns": null,
      "grid_auto_flow": null,
      "grid_auto_rows": null,
      "grid_column": null,
      "grid_gap": null,
      "grid_row": null,
      "grid_template_areas": null,
      "grid_template_columns": null,
      "grid_template_rows": null,
      "height": null,
      "justify_content": null,
      "justify_items": null,
      "left": null,
      "margin": null,
      "max_height": null,
      "max_width": null,
      "min_height": null,
      "min_width": null,
      "object_fit": null,
      "object_position": null,
      "order": null,
      "overflow": null,
      "overflow_x": null,
      "overflow_y": null,
      "padding": null,
      "right": null,
      "top": null,
      "visibility": null,
      "width": null
     }
    },
    "02bb27700cb4406fb985592bbf989054": {
     "model_module": "@jupyter-widgets/controls",
     "model_name": "DescriptionStyleModel",
     "model_module_version": "1.5.0",
     "state": {
      "_model_module": "@jupyter-widgets/controls",
      "_model_module_version": "1.5.0",
      "_model_name": "DescriptionStyleModel",
      "_view_count": null,
      "_view_module": "@jupyter-widgets/base",
      "_view_module_version": "1.2.0",
      "_view_name": "StyleView",
      "description_width": ""
     }
    },
    "7e8618985e904379ac3118a48d1f40ad": {
     "model_module": "@jupyter-widgets/base",
     "model_name": "LayoutModel",
     "model_module_version": "1.2.0",
     "state": {
      "_model_module": "@jupyter-widgets/base",
      "_model_module_version": "1.2.0",
      "_model_name": "LayoutModel",
      "_view_count": null,
      "_view_module": "@jupyter-widgets/base",
      "_view_module_version": "1.2.0",
      "_view_name": "LayoutView",
      "align_content": null,
      "align_items": null,
      "align_self": null,
      "border": null,
      "bottom": null,
      "display": null,
      "flex": null,
      "flex_flow": null,
      "grid_area": null,
      "grid_auto_columns": null,
      "grid_auto_flow": null,
      "grid_auto_rows": null,
      "grid_column": null,
      "grid_gap": null,
      "grid_row": null,
      "grid_template_areas": null,
      "grid_template_columns": null,
      "grid_template_rows": null,
      "height": null,
      "justify_content": null,
      "justify_items": null,
      "left": null,
      "margin": null,
      "max_height": null,
      "max_width": null,
      "min_height": null,
      "min_width": null,
      "object_fit": null,
      "object_position": null,
      "order": null,
      "overflow": null,
      "overflow_x": null,
      "overflow_y": null,
      "padding": null,
      "right": null,
      "top": null,
      "visibility": null,
      "width": null
     }
    },
    "2ce4384abf53403fb4ccdf45c2cfceca": {
     "model_module": "@jupyter-widgets/controls",
     "model_name": "ProgressStyleModel",
     "model_module_version": "1.5.0",
     "state": {
      "_model_module": "@jupyter-widgets/controls",
      "_model_module_version": "1.5.0",
      "_model_name": "ProgressStyleModel",
      "_view_count": null,
      "_view_module": "@jupyter-widgets/base",
      "_view_module_version": "1.2.0",
      "_view_name": "StyleView",
      "bar_color": null,
      "description_width": ""
     }
    },
    "9b5489bdb8974005a22306f12049979f": {
     "model_module": "@jupyter-widgets/base",
     "model_name": "LayoutModel",
     "model_module_version": "1.2.0",
     "state": {
      "_model_module": "@jupyter-widgets/base",
      "_model_module_version": "1.2.0",
      "_model_name": "LayoutModel",
      "_view_count": null,
      "_view_module": "@jupyter-widgets/base",
      "_view_module_version": "1.2.0",
      "_view_name": "LayoutView",
      "align_content": null,
      "align_items": null,
      "align_self": null,
      "border": null,
      "bottom": null,
      "display": null,
      "flex": null,
      "flex_flow": null,
      "grid_area": null,
      "grid_auto_columns": null,
      "grid_auto_flow": null,
      "grid_auto_rows": null,
      "grid_column": null,
      "grid_gap": null,
      "grid_row": null,
      "grid_template_areas": null,
      "grid_template_columns": null,
      "grid_template_rows": null,
      "height": null,
      "justify_content": null,
      "justify_items": null,
      "left": null,
      "margin": null,
      "max_height": null,
      "max_width": null,
      "min_height": null,
      "min_width": null,
      "object_fit": null,
      "object_position": null,
      "order": null,
      "overflow": null,
      "overflow_x": null,
      "overflow_y": null,
      "padding": null,
      "right": null,
      "top": null,
      "visibility": null,
      "width": null
     }
    },
    "2be09d517ce24ba0b0fce1a5d6c01a6a": {
     "model_module": "@jupyter-widgets/controls",
     "model_name": "DescriptionStyleModel",
     "model_module_version": "1.5.0",
     "state": {
      "_model_module": "@jupyter-widgets/controls",
      "_model_module_version": "1.5.0",
      "_model_name": "DescriptionStyleModel",
      "_view_count": null,
      "_view_module": "@jupyter-widgets/base",
      "_view_module_version": "1.2.0",
      "_view_name": "StyleView",
      "description_width": ""
     }
    },
    "a24e95decf91458d96a00a46a38bd0e6": {
     "model_module": "@jupyter-widgets/controls",
     "model_name": "HBoxModel",
     "model_module_version": "1.5.0",
     "state": {
      "_dom_classes": [],
      "_model_module": "@jupyter-widgets/controls",
      "_model_module_version": "1.5.0",
      "_model_name": "HBoxModel",
      "_view_count": null,
      "_view_module": "@jupyter-widgets/controls",
      "_view_module_version": "1.5.0",
      "_view_name": "HBoxView",
      "box_style": "",
      "children": [
       "IPY_MODEL_20694f14551d43c4b3b1b0e96a917f06",
       "IPY_MODEL_36a3996d8e164ee0a5eeb0e4292728db",
       "IPY_MODEL_03a08854334e4c459b0e286a20c9155d"
      ],
      "layout": "IPY_MODEL_e68c265d512d4b16abcf7292b430c832"
     }
    },
    "20694f14551d43c4b3b1b0e96a917f06": {
     "model_module": "@jupyter-widgets/controls",
     "model_name": "HTMLModel",
     "model_module_version": "1.5.0",
     "state": {
      "_dom_classes": [],
      "_model_module": "@jupyter-widgets/controls",
      "_model_module_version": "1.5.0",
      "_model_name": "HTMLModel",
      "_view_count": null,
      "_view_module": "@jupyter-widgets/controls",
      "_view_module_version": "1.5.0",
      "_view_name": "HTMLView",
      "description": "",
      "description_tooltip": null,
      "layout": "IPY_MODEL_c5e79631ba22440d9afd0f54960f37db",
      "placeholder": "​",
      "style": "IPY_MODEL_844f5af5f38844ac959b87eb786e1b7d",
      "value": "Step:1500 Loss:28.26:   3%"
     }
    },
    "36a3996d8e164ee0a5eeb0e4292728db": {
     "model_module": "@jupyter-widgets/controls",
     "model_name": "FloatProgressModel",
     "model_module_version": "1.5.0",
     "state": {
      "_dom_classes": [],
      "_model_module": "@jupyter-widgets/controls",
      "_model_module_version": "1.5.0",
      "_model_name": "FloatProgressModel",
      "_view_count": null,
      "_view_module": "@jupyter-widgets/controls",
      "_view_module_version": "1.5.0",
      "_view_name": "ProgressView",
      "bar_style": "danger",
      "description": "",
      "description_tooltip": null,
      "layout": "IPY_MODEL_6bd7801816fa4cf38ccd24a050ff0b6f",
      "max": 46468,
      "min": 0,
      "orientation": "horizontal",
      "style": "IPY_MODEL_946653a263954e53955b47eb63593785",
      "value": 1501
     }
    },
    "03a08854334e4c459b0e286a20c9155d": {
     "model_module": "@jupyter-widgets/controls",
     "model_name": "HTMLModel",
     "model_module_version": "1.5.0",
     "state": {
      "_dom_classes": [],
      "_model_module": "@jupyter-widgets/controls",
      "_model_module_version": "1.5.0",
      "_model_name": "HTMLModel",
      "_view_count": null,
      "_view_module": "@jupyter-widgets/controls",
      "_view_module_version": "1.5.0",
      "_view_name": "HTMLView",
      "description": "",
      "description_tooltip": null,
      "layout": "IPY_MODEL_5394bf0bf8f74f2cb57f1513804f1458",
      "placeholder": "​",
      "style": "IPY_MODEL_eb79960edf2140e690ec490ba69ad087",
      "value": " 1501/46468 [13:21&lt;5:46:27,  2.16it/s]"
     }
    },
    "e68c265d512d4b16abcf7292b430c832": {
     "model_module": "@jupyter-widgets/base",
     "model_name": "LayoutModel",
     "model_module_version": "1.2.0",
     "state": {
      "_model_module": "@jupyter-widgets/base",
      "_model_module_version": "1.2.0",
      "_model_name": "LayoutModel",
      "_view_count": null,
      "_view_module": "@jupyter-widgets/base",
      "_view_module_version": "1.2.0",
      "_view_name": "LayoutView",
      "align_content": null,
      "align_items": null,
      "align_self": null,
      "border": null,
      "bottom": null,
      "display": null,
      "flex": null,
      "flex_flow": null,
      "grid_area": null,
      "grid_auto_columns": null,
      "grid_auto_flow": null,
      "grid_auto_rows": null,
      "grid_column": null,
      "grid_gap": null,
      "grid_row": null,
      "grid_template_areas": null,
      "grid_template_columns": null,
      "grid_template_rows": null,
      "height": null,
      "justify_content": null,
      "justify_items": null,
      "left": null,
      "margin": null,
      "max_height": null,
      "max_width": null,
      "min_height": null,
      "min_width": null,
      "object_fit": null,
      "object_position": null,
      "order": null,
      "overflow": null,
      "overflow_x": null,
      "overflow_y": null,
      "padding": null,
      "right": null,
      "top": null,
      "visibility": null,
      "width": null
     }
    },
    "c5e79631ba22440d9afd0f54960f37db": {
     "model_module": "@jupyter-widgets/base",
     "model_name": "LayoutModel",
     "model_module_version": "1.2.0",
     "state": {
      "_model_module": "@jupyter-widgets/base",
      "_model_module_version": "1.2.0",
      "_model_name": "LayoutModel",
      "_view_count": null,
      "_view_module": "@jupyter-widgets/base",
      "_view_module_version": "1.2.0",
      "_view_name": "LayoutView",
      "align_content": null,
      "align_items": null,
      "align_self": null,
      "border": null,
      "bottom": null,
      "display": null,
      "flex": null,
      "flex_flow": null,
      "grid_area": null,
      "grid_auto_columns": null,
      "grid_auto_flow": null,
      "grid_auto_rows": null,
      "grid_column": null,
      "grid_gap": null,
      "grid_row": null,
      "grid_template_areas": null,
      "grid_template_columns": null,
      "grid_template_rows": null,
      "height": null,
      "justify_content": null,
      "justify_items": null,
      "left": null,
      "margin": null,
      "max_height": null,
      "max_width": null,
      "min_height": null,
      "min_width": null,
      "object_fit": null,
      "object_position": null,
      "order": null,
      "overflow": null,
      "overflow_x": null,
      "overflow_y": null,
      "padding": null,
      "right": null,
      "top": null,
      "visibility": null,
      "width": null
     }
    },
    "844f5af5f38844ac959b87eb786e1b7d": {
     "model_module": "@jupyter-widgets/controls",
     "model_name": "DescriptionStyleModel",
     "model_module_version": "1.5.0",
     "state": {
      "_model_module": "@jupyter-widgets/controls",
      "_model_module_version": "1.5.0",
      "_model_name": "DescriptionStyleModel",
      "_view_count": null,
      "_view_module": "@jupyter-widgets/base",
      "_view_module_version": "1.2.0",
      "_view_name": "StyleView",
      "description_width": ""
     }
    },
    "6bd7801816fa4cf38ccd24a050ff0b6f": {
     "model_module": "@jupyter-widgets/base",
     "model_name": "LayoutModel",
     "model_module_version": "1.2.0",
     "state": {
      "_model_module": "@jupyter-widgets/base",
      "_model_module_version": "1.2.0",
      "_model_name": "LayoutModel",
      "_view_count": null,
      "_view_module": "@jupyter-widgets/base",
      "_view_module_version": "1.2.0",
      "_view_name": "LayoutView",
      "align_content": null,
      "align_items": null,
      "align_self": null,
      "border": null,
      "bottom": null,
      "display": null,
      "flex": null,
      "flex_flow": null,
      "grid_area": null,
      "grid_auto_columns": null,
      "grid_auto_flow": null,
      "grid_auto_rows": null,
      "grid_column": null,
      "grid_gap": null,
      "grid_row": null,
      "grid_template_areas": null,
      "grid_template_columns": null,
      "grid_template_rows": null,
      "height": null,
      "justify_content": null,
      "justify_items": null,
      "left": null,
      "margin": null,
      "max_height": null,
      "max_width": null,
      "min_height": null,
      "min_width": null,
      "object_fit": null,
      "object_position": null,
      "order": null,
      "overflow": null,
      "overflow_x": null,
      "overflow_y": null,
      "padding": null,
      "right": null,
      "top": null,
      "visibility": null,
      "width": null
     }
    },
    "946653a263954e53955b47eb63593785": {
     "model_module": "@jupyter-widgets/controls",
     "model_name": "ProgressStyleModel",
     "model_module_version": "1.5.0",
     "state": {
      "_model_module": "@jupyter-widgets/controls",
      "_model_module_version": "1.5.0",
      "_model_name": "ProgressStyleModel",
      "_view_count": null,
      "_view_module": "@jupyter-widgets/base",
      "_view_module_version": "1.2.0",
      "_view_name": "StyleView",
      "bar_color": null,
      "description_width": ""
     }
    },
    "5394bf0bf8f74f2cb57f1513804f1458": {
     "model_module": "@jupyter-widgets/base",
     "model_name": "LayoutModel",
     "model_module_version": "1.2.0",
     "state": {
      "_model_module": "@jupyter-widgets/base",
      "_model_module_version": "1.2.0",
      "_model_name": "LayoutModel",
      "_view_count": null,
      "_view_module": "@jupyter-widgets/base",
      "_view_module_version": "1.2.0",
      "_view_name": "LayoutView",
      "align_content": null,
      "align_items": null,
      "align_self": null,
      "border": null,
      "bottom": null,
      "display": null,
      "flex": null,
      "flex_flow": null,
      "grid_area": null,
      "grid_auto_columns": null,
      "grid_auto_flow": null,
      "grid_auto_rows": null,
      "grid_column": null,
      "grid_gap": null,
      "grid_row": null,
      "grid_template_areas": null,
      "grid_template_columns": null,
      "grid_template_rows": null,
      "height": null,
      "justify_content": null,
      "justify_items": null,
      "left": null,
      "margin": null,
      "max_height": null,
      "max_width": null,
      "min_height": null,
      "min_width": null,
      "object_fit": null,
      "object_position": null,
      "order": null,
      "overflow": null,
      "overflow_x": null,
      "overflow_y": null,
      "padding": null,
      "right": null,
      "top": null,
      "visibility": null,
      "width": null
     }
    },
    "eb79960edf2140e690ec490ba69ad087": {
     "model_module": "@jupyter-widgets/controls",
     "model_name": "DescriptionStyleModel",
     "model_module_version": "1.5.0",
     "state": {
      "_model_module": "@jupyter-widgets/controls",
      "_model_module_version": "1.5.0",
      "_model_name": "DescriptionStyleModel",
      "_view_count": null,
      "_view_module": "@jupyter-widgets/base",
      "_view_module_version": "1.2.0",
      "_view_name": "StyleView",
      "description_width": ""
     }
    },
    "9afbd17b04c44e85b3bc03e50679b776": {
     "model_module": "@jupyter-widgets/controls",
     "model_name": "VBoxModel",
     "model_module_version": "1.5.0",
     "state": {
      "_dom_classes": [],
      "_model_module": "@jupyter-widgets/controls",
      "_model_module_version": "1.5.0",
      "_model_name": "VBoxModel",
      "_view_count": null,
      "_view_module": "@jupyter-widgets/controls",
      "_view_module_version": "1.5.0",
      "_view_name": "VBoxView",
      "box_style": "",
      "children": [
       "IPY_MODEL_f162dcefeaeb49af8b90e53c072020ef",
       "IPY_MODEL_6b89a272069e40c596e4c853062a1e04"
      ],
      "layout": "IPY_MODEL_f7de14ccbaac4d3988c89dd7c087f13d"
     }
    },
    "f162dcefeaeb49af8b90e53c072020ef": {
     "model_module": "@jupyter-widgets/controls",
     "model_name": "LabelModel",
     "model_module_version": "1.5.0",
     "state": {
      "_dom_classes": [],
      "_model_module": "@jupyter-widgets/controls",
      "_model_module_version": "1.5.0",
      "_model_name": "LabelModel",
      "_view_count": null,
      "_view_module": "@jupyter-widgets/controls",
      "_view_module_version": "1.5.0",
      "_view_name": "LabelView",
      "description": "",
      "description_tooltip": null,
      "layout": "IPY_MODEL_b12683a9e48442e990a0f2b03183531d",
      "placeholder": "​",
      "style": "IPY_MODEL_04738a2420a54efb931e47bd716429bf",
      "value": "4.417 MB of 4.417 MB uploaded (0.000 MB deduped)\r"
     }
    },
    "6b89a272069e40c596e4c853062a1e04": {
     "model_module": "@jupyter-widgets/controls",
     "model_name": "FloatProgressModel",
     "model_module_version": "1.5.0",
     "state": {
      "_dom_classes": [],
      "_model_module": "@jupyter-widgets/controls",
      "_model_module_version": "1.5.0",
      "_model_name": "FloatProgressModel",
      "_view_count": null,
      "_view_module": "@jupyter-widgets/controls",
      "_view_module_version": "1.5.0",
      "_view_name": "ProgressView",
      "bar_style": "",
      "description": "",
      "description_tooltip": null,
      "layout": "IPY_MODEL_3c467b50ccba469a8aaf765b2644ee9e",
      "max": 1,
      "min": 0,
      "orientation": "horizontal",
      "style": "IPY_MODEL_68225a47f4b146318b7e7cd146165e99",
      "value": 1
     }
    },
    "f7de14ccbaac4d3988c89dd7c087f13d": {
     "model_module": "@jupyter-widgets/base",
     "model_name": "LayoutModel",
     "model_module_version": "1.2.0",
     "state": {
      "_model_module": "@jupyter-widgets/base",
      "_model_module_version": "1.2.0",
      "_model_name": "LayoutModel",
      "_view_count": null,
      "_view_module": "@jupyter-widgets/base",
      "_view_module_version": "1.2.0",
      "_view_name": "LayoutView",
      "align_content": null,
      "align_items": null,
      "align_self": null,
      "border": null,
      "bottom": null,
      "display": null,
      "flex": null,
      "flex_flow": null,
      "grid_area": null,
      "grid_auto_columns": null,
      "grid_auto_flow": null,
      "grid_auto_rows": null,
      "grid_column": null,
      "grid_gap": null,
      "grid_row": null,
      "grid_template_areas": null,
      "grid_template_columns": null,
      "grid_template_rows": null,
      "height": null,
      "justify_content": null,
      "justify_items": null,
      "left": null,
      "margin": null,
      "max_height": null,
      "max_width": null,
      "min_height": null,
      "min_width": null,
      "object_fit": null,
      "object_position": null,
      "order": null,
      "overflow": null,
      "overflow_x": null,
      "overflow_y": null,
      "padding": null,
      "right": null,
      "top": null,
      "visibility": null,
      "width": null
     }
    },
    "b12683a9e48442e990a0f2b03183531d": {
     "model_module": "@jupyter-widgets/base",
     "model_name": "LayoutModel",
     "model_module_version": "1.2.0",
     "state": {
      "_model_module": "@jupyter-widgets/base",
      "_model_module_version": "1.2.0",
      "_model_name": "LayoutModel",
      "_view_count": null,
      "_view_module": "@jupyter-widgets/base",
      "_view_module_version": "1.2.0",
      "_view_name": "LayoutView",
      "align_content": null,
      "align_items": null,
      "align_self": null,
      "border": null,
      "bottom": null,
      "display": null,
      "flex": null,
      "flex_flow": null,
      "grid_area": null,
      "grid_auto_columns": null,
      "grid_auto_flow": null,
      "grid_auto_rows": null,
      "grid_column": null,
      "grid_gap": null,
      "grid_row": null,
      "grid_template_areas": null,
      "grid_template_columns": null,
      "grid_template_rows": null,
      "height": null,
      "justify_content": null,
      "justify_items": null,
      "left": null,
      "margin": null,
      "max_height": null,
      "max_width": null,
      "min_height": null,
      "min_width": null,
      "object_fit": null,
      "object_position": null,
      "order": null,
      "overflow": null,
      "overflow_x": null,
      "overflow_y": null,
      "padding": null,
      "right": null,
      "top": null,
      "visibility": null,
      "width": null
     }
    },
    "04738a2420a54efb931e47bd716429bf": {
     "model_module": "@jupyter-widgets/controls",
     "model_name": "DescriptionStyleModel",
     "model_module_version": "1.5.0",
     "state": {
      "_model_module": "@jupyter-widgets/controls",
      "_model_module_version": "1.5.0",
      "_model_name": "DescriptionStyleModel",
      "_view_count": null,
      "_view_module": "@jupyter-widgets/base",
      "_view_module_version": "1.2.0",
      "_view_name": "StyleView",
      "description_width": ""
     }
    },
    "3c467b50ccba469a8aaf765b2644ee9e": {
     "model_module": "@jupyter-widgets/base",
     "model_name": "LayoutModel",
     "model_module_version": "1.2.0",
     "state": {
      "_model_module": "@jupyter-widgets/base",
      "_model_module_version": "1.2.0",
      "_model_name": "LayoutModel",
      "_view_count": null,
      "_view_module": "@jupyter-widgets/base",
      "_view_module_version": "1.2.0",
      "_view_name": "LayoutView",
      "align_content": null,
      "align_items": null,
      "align_self": null,
      "border": null,
      "bottom": null,
      "display": null,
      "flex": null,
      "flex_flow": null,
      "grid_area": null,
      "grid_auto_columns": null,
      "grid_auto_flow": null,
      "grid_auto_rows": null,
      "grid_column": null,
      "grid_gap": null,
      "grid_row": null,
      "grid_template_areas": null,
      "grid_template_columns": null,
      "grid_template_rows": null,
      "height": null,
      "justify_content": null,
      "justify_items": null,
      "left": null,
      "margin": null,
      "max_height": null,
      "max_width": null,
      "min_height": null,
      "min_width": null,
      "object_fit": null,
      "object_position": null,
      "order": null,
      "overflow": null,
      "overflow_x": null,
      "overflow_y": null,
      "padding": null,
      "right": null,
      "top": null,
      "visibility": null,
      "width": null
     }
    },
    "68225a47f4b146318b7e7cd146165e99": {
     "model_module": "@jupyter-widgets/controls",
     "model_name": "ProgressStyleModel",
     "model_module_version": "1.5.0",
     "state": {
      "_model_module": "@jupyter-widgets/controls",
      "_model_module_version": "1.5.0",
      "_model_name": "ProgressStyleModel",
      "_view_count": null,
      "_view_module": "@jupyter-widgets/base",
      "_view_module_version": "1.2.0",
      "_view_name": "StyleView",
      "bar_color": null,
      "description_width": ""
     }
    },
    "b3e36033d87245b8b7b5619e6691e1ba": {
     "model_module": "@jupyter-widgets/controls",
     "model_name": "HBoxModel",
     "model_module_version": "1.5.0",
     "state": {
      "_dom_classes": [],
      "_model_module": "@jupyter-widgets/controls",
      "_model_module_version": "1.5.0",
      "_model_name": "HBoxModel",
      "_view_count": null,
      "_view_module": "@jupyter-widgets/controls",
      "_view_module_version": "1.5.0",
      "_view_name": "HBoxView",
      "box_style": "",
      "children": [
       "IPY_MODEL_cb79580c6f8a400f8dd8062ac4c5f0f4",
       "IPY_MODEL_53f731fe5cb942d3aa823ad95ae652a7",
       "IPY_MODEL_601130fd461f4182b485ffb576df2b01"
      ],
      "layout": "IPY_MODEL_cb50d1b4cb8d4c409cf0141ccf752e63"
     }
    },
    "cb79580c6f8a400f8dd8062ac4c5f0f4": {
     "model_module": "@jupyter-widgets/controls",
     "model_name": "HTMLModel",
     "model_module_version": "1.5.0",
     "state": {
      "_dom_classes": [],
      "_model_module": "@jupyter-widgets/controls",
      "_model_module_version": "1.5.0",
      "_model_name": "HTMLModel",
      "_view_count": null,
      "_view_module": "@jupyter-widgets/controls",
      "_view_module_version": "1.5.0",
      "_view_name": "HTMLView",
      "description": "",
      "description_tooltip": null,
      "layout": "IPY_MODEL_ec463f05663c472e9100395b1243c722",
      "placeholder": "​",
      "style": "IPY_MODEL_7ecdadf948a34f278a80dbe14fb063cd",
      "value": " 53%"
     }
    },
    "53f731fe5cb942d3aa823ad95ae652a7": {
     "model_module": "@jupyter-widgets/controls",
     "model_name": "FloatProgressModel",
     "model_module_version": "1.5.0",
     "state": {
      "_dom_classes": [],
      "_model_module": "@jupyter-widgets/controls",
      "_model_module_version": "1.5.0",
      "_model_name": "FloatProgressModel",
      "_view_count": null,
      "_view_module": "@jupyter-widgets/controls",
      "_view_module_version": "1.5.0",
      "_view_name": "ProgressView",
      "bar_style": "danger",
      "description": "",
      "description_tooltip": null,
      "layout": "IPY_MODEL_34dcd53125444436b301c452084bd01b",
      "max": 32,
      "min": 0,
      "orientation": "horizontal",
      "style": "IPY_MODEL_b881e49db8e546688453c6dcfdcd2c24",
      "value": 17
     }
    },
    "601130fd461f4182b485ffb576df2b01": {
     "model_module": "@jupyter-widgets/controls",
     "model_name": "HTMLModel",
     "model_module_version": "1.5.0",
     "state": {
      "_dom_classes": [],
      "_model_module": "@jupyter-widgets/controls",
      "_model_module_version": "1.5.0",
      "_model_name": "HTMLModel",
      "_view_count": null,
      "_view_module": "@jupyter-widgets/controls",
      "_view_module_version": "1.5.0",
      "_view_name": "HTMLView",
      "description": "",
      "description_tooltip": null,
      "layout": "IPY_MODEL_81ae09392a6c4fa1bd8a650d65eab9b6",
      "placeholder": "​",
      "style": "IPY_MODEL_35489c7c9fd64a5086df7337eeba19d8",
      "value": " 17/32 [00:01&lt;00:00, 18.62it/s]"
     }
    },
    "cb50d1b4cb8d4c409cf0141ccf752e63": {
     "model_module": "@jupyter-widgets/base",
     "model_name": "LayoutModel",
     "model_module_version": "1.2.0",
     "state": {
      "_model_module": "@jupyter-widgets/base",
      "_model_module_version": "1.2.0",
      "_model_name": "LayoutModel",
      "_view_count": null,
      "_view_module": "@jupyter-widgets/base",
      "_view_module_version": "1.2.0",
      "_view_name": "LayoutView",
      "align_content": null,
      "align_items": null,
      "align_self": null,
      "border": null,
      "bottom": null,
      "display": null,
      "flex": null,
      "flex_flow": null,
      "grid_area": null,
      "grid_auto_columns": null,
      "grid_auto_flow": null,
      "grid_auto_rows": null,
      "grid_column": null,
      "grid_gap": null,
      "grid_row": null,
      "grid_template_areas": null,
      "grid_template_columns": null,
      "grid_template_rows": null,
      "height": null,
      "justify_content": null,
      "justify_items": null,
      "left": null,
      "margin": null,
      "max_height": null,
      "max_width": null,
      "min_height": null,
      "min_width": null,
      "object_fit": null,
      "object_position": null,
      "order": null,
      "overflow": null,
      "overflow_x": null,
      "overflow_y": null,
      "padding": null,
      "right": null,
      "top": null,
      "visibility": null,
      "width": null
     }
    },
    "ec463f05663c472e9100395b1243c722": {
     "model_module": "@jupyter-widgets/base",
     "model_name": "LayoutModel",
     "model_module_version": "1.2.0",
     "state": {
      "_model_module": "@jupyter-widgets/base",
      "_model_module_version": "1.2.0",
      "_model_name": "LayoutModel",
      "_view_count": null,
      "_view_module": "@jupyter-widgets/base",
      "_view_module_version": "1.2.0",
      "_view_name": "LayoutView",
      "align_content": null,
      "align_items": null,
      "align_self": null,
      "border": null,
      "bottom": null,
      "display": null,
      "flex": null,
      "flex_flow": null,
      "grid_area": null,
      "grid_auto_columns": null,
      "grid_auto_flow": null,
      "grid_auto_rows": null,
      "grid_column": null,
      "grid_gap": null,
      "grid_row": null,
      "grid_template_areas": null,
      "grid_template_columns": null,
      "grid_template_rows": null,
      "height": null,
      "justify_content": null,
      "justify_items": null,
      "left": null,
      "margin": null,
      "max_height": null,
      "max_width": null,
      "min_height": null,
      "min_width": null,
      "object_fit": null,
      "object_position": null,
      "order": null,
      "overflow": null,
      "overflow_x": null,
      "overflow_y": null,
      "padding": null,
      "right": null,
      "top": null,
      "visibility": null,
      "width": null
     }
    },
    "7ecdadf948a34f278a80dbe14fb063cd": {
     "model_module": "@jupyter-widgets/controls",
     "model_name": "DescriptionStyleModel",
     "model_module_version": "1.5.0",
     "state": {
      "_model_module": "@jupyter-widgets/controls",
      "_model_module_version": "1.5.0",
      "_model_name": "DescriptionStyleModel",
      "_view_count": null,
      "_view_module": "@jupyter-widgets/base",
      "_view_module_version": "1.2.0",
      "_view_name": "StyleView",
      "description_width": ""
     }
    },
    "34dcd53125444436b301c452084bd01b": {
     "model_module": "@jupyter-widgets/base",
     "model_name": "LayoutModel",
     "model_module_version": "1.2.0",
     "state": {
      "_model_module": "@jupyter-widgets/base",
      "_model_module_version": "1.2.0",
      "_model_name": "LayoutModel",
      "_view_count": null,
      "_view_module": "@jupyter-widgets/base",
      "_view_module_version": "1.2.0",
      "_view_name": "LayoutView",
      "align_content": null,
      "align_items": null,
      "align_self": null,
      "border": null,
      "bottom": null,
      "display": null,
      "flex": null,
      "flex_flow": null,
      "grid_area": null,
      "grid_auto_columns": null,
      "grid_auto_flow": null,
      "grid_auto_rows": null,
      "grid_column": null,
      "grid_gap": null,
      "grid_row": null,
      "grid_template_areas": null,
      "grid_template_columns": null,
      "grid_template_rows": null,
      "height": null,
      "justify_content": null,
      "justify_items": null,
      "left": null,
      "margin": null,
      "max_height": null,
      "max_width": null,
      "min_height": null,
      "min_width": null,
      "object_fit": null,
      "object_position": null,
      "order": null,
      "overflow": null,
      "overflow_x": null,
      "overflow_y": null,
      "padding": null,
      "right": null,
      "top": null,
      "visibility": null,
      "width": null
     }
    },
    "b881e49db8e546688453c6dcfdcd2c24": {
     "model_module": "@jupyter-widgets/controls",
     "model_name": "ProgressStyleModel",
     "model_module_version": "1.5.0",
     "state": {
      "_model_module": "@jupyter-widgets/controls",
      "_model_module_version": "1.5.0",
      "_model_name": "ProgressStyleModel",
      "_view_count": null,
      "_view_module": "@jupyter-widgets/base",
      "_view_module_version": "1.2.0",
      "_view_name": "StyleView",
      "bar_color": null,
      "description_width": ""
     }
    },
    "81ae09392a6c4fa1bd8a650d65eab9b6": {
     "model_module": "@jupyter-widgets/base",
     "model_name": "LayoutModel",
     "model_module_version": "1.2.0",
     "state": {
      "_model_module": "@jupyter-widgets/base",
      "_model_module_version": "1.2.0",
      "_model_name": "LayoutModel",
      "_view_count": null,
      "_view_module": "@jupyter-widgets/base",
      "_view_module_version": "1.2.0",
      "_view_name": "LayoutView",
      "align_content": null,
      "align_items": null,
      "align_self": null,
      "border": null,
      "bottom": null,
      "display": null,
      "flex": null,
      "flex_flow": null,
      "grid_area": null,
      "grid_auto_columns": null,
      "grid_auto_flow": null,
      "grid_auto_rows": null,
      "grid_column": null,
      "grid_gap": null,
      "grid_row": null,
      "grid_template_areas": null,
      "grid_template_columns": null,
      "grid_template_rows": null,
      "height": null,
      "justify_content": null,
      "justify_items": null,
      "left": null,
      "margin": null,
      "max_height": null,
      "max_width": null,
      "min_height": null,
      "min_width": null,
      "object_fit": null,
      "object_position": null,
      "order": null,
      "overflow": null,
      "overflow_x": null,
      "overflow_y": null,
      "padding": null,
      "right": null,
      "top": null,
      "visibility": null,
      "width": null
     }
    },
    "35489c7c9fd64a5086df7337eeba19d8": {
     "model_module": "@jupyter-widgets/controls",
     "model_name": "DescriptionStyleModel",
     "model_module_version": "1.5.0",
     "state": {
      "_model_module": "@jupyter-widgets/controls",
      "_model_module_version": "1.5.0",
      "_model_name": "DescriptionStyleModel",
      "_view_count": null,
      "_view_module": "@jupyter-widgets/base",
      "_view_module_version": "1.2.0",
      "_view_name": "StyleView",
      "description_width": ""
     }
    }
   }
  }
 },
 "nbformat": 4,
 "nbformat_minor": 0
}