{
 "cells": [
  {
   "cell_type": "markdown",
   "source": [
    "# DDPG\n",
    "\n",
    "DDPG implements a variant of Q learning by optimizing both action value and policy networks.\n",
    "It is designed to support continuous action policies."
   ],
   "metadata": {
    "collapsed": false,
    "pycharm": {
     "name": "#%% md\n"
    }
   }
  },
  {
   "cell_type": "code",
   "execution_count": 24,
   "outputs": [],
   "source": [
    "import numpy as np\n",
    "import torch\n",
    "from matplotlib import pyplot as plt\n",
    "from tqdm.notebook import tqdm"
   ],
   "metadata": {
    "collapsed": false,
    "pycharm": {
     "name": "#%%\n"
    }
   }
  },
  {
   "cell_type": "code",
   "execution_count": 25,
   "outputs": [
    {
     "data": {
      "text/plain": "tensor(0.0466, grad_fn=<SqueezeBackward1>)"
     },
     "execution_count": 25,
     "metadata": {},
     "output_type": "execute_result"
    }
   ],
   "source": [
    "class QModel(torch.nn.Module):\n",
    "    def __init__(self, state_size, action_size, hidden):\n",
    "        super().__init__()\n",
    "        self.nn = torch.nn.Sequential(\n",
    "            torch.nn.Linear(state_size + action_size, hidden),\n",
    "            torch.nn.ReLU(),\n",
    "            torch.nn.Linear(hidden, hidden),\n",
    "            torch.nn.ReLU(),\n",
    "            torch.nn.Linear(hidden, 1)\n",
    "        )\n",
    "\n",
    "    def forward(self, state, action):\n",
    "        return self.nn(torch.concat([state, action], dim=-1)).squeeze(dim=-1)\n",
    "\n",
    "\n",
    "QModel(2, 2, 4).forward(torch.ones(2), torch.zeros(2))"
   ],
   "metadata": {
    "collapsed": false,
    "pycharm": {
     "name": "#%%\n"
    }
   }
  },
  {
   "cell_type": "code",
   "execution_count": 26,
   "outputs": [
    {
     "data": {
      "text/plain": "array([ 0.21027668, -0.5586185 ], dtype=float32)"
     },
     "execution_count": 26,
     "metadata": {},
     "output_type": "execute_result"
    }
   ],
   "source": [
    "class PolicyModel(torch.nn.Module):\n",
    "    def __init__(self, state_size, action_size, hidden, action_scaling):\n",
    "        super().__init__()\n",
    "        self.action_scaling = action_scaling\n",
    "        self.nn = torch.nn.Sequential(\n",
    "            torch.nn.Linear(state_size, hidden),\n",
    "            torch.nn.ReLU(),\n",
    "            torch.nn.Linear(hidden, hidden),\n",
    "            torch.nn.ReLU(),\n",
    "            torch.nn.Linear(hidden, action_size),\n",
    "            torch.nn.Tanh()\n",
    "        )\n",
    "\n",
    "    def forward(self, state):\n",
    "        return self.nn(state) * self.action_scaling\n",
    "\n",
    "    def act(self, state, policy_std=1e-6):\n",
    "        action = torch.clip(\n",
    "            torch.distributions.Normal(self.forward(state), policy_std).sample(),\n",
    "            -self.action_scaling,\n",
    "            self.action_scaling,\n",
    "        )\n",
    "        return action.detach().numpy()\n",
    "\n",
    "\n",
    "PolicyModel(2, 2, 4, 2).act(torch.ones(2), 1)"
   ],
   "metadata": {
    "collapsed": false,
    "pycharm": {
     "name": "#%%\n"
    }
   }
  },
  {
   "cell_type": "code",
   "execution_count": 39,
   "outputs": [
    {
     "data": {
      "text/plain": "(tensor([1., 0.]),\n tensor([0., 0.]),\n tensor([1., 0.]),\n tensor([1., 0.]),\n tensor([1., 0.]))"
     },
     "execution_count": 39,
     "metadata": {},
     "output_type": "execute_result"
    }
   ],
   "source": [
    "class ReplayBuffer:\n",
    "    def __init__(self, o, a, size):\n",
    "        self.buf = []\n",
    "        self.size = size\n",
    "\n",
    "    def add(self, state, action, reward, next_state, done):\n",
    "        self.buf.append((state, action, reward, next_state, done))\n",
    "        return self\n",
    "\n",
    "    def crop_buffer(self):\n",
    "        if len(self.buf) > self.size:\n",
    "            self.buf = self.buf[-self.size:]\n",
    "\n",
    "    def gen_batch(self, batch_size):\n",
    "        np.random.shuffle(self.buf)\n",
    "        b = self.buf[:batch_size]\n",
    "        states = torch.tensor([b[y][0] for y in range(len(b))], dtype=torch.float32)\n",
    "        actions = torch.tensor([b[y][1] for y in range(len(b))], dtype=torch.float32)\n",
    "        rewards = torch.tensor([b[y][2] for y in range(len(b))], dtype=torch.float32)\n",
    "        next_states = torch.tensor([b[y][3] for y in range(len(b))], dtype=torch.float32)\n",
    "        dones = torch.tensor([b[y][4] for y in range(len(b))], dtype=torch.float32)\n",
    "        return states, actions, rewards, next_states, dones\n",
    "\n",
    "\n",
    "ReplayBuffer(0, 0, 3).add(0, 0, 0, 0, 0).add(1, torch.tensor(0), 1, 1, 1).add(2, torch.tensor(0), 2, 2, 2).gen_batch(2)"
   ],
   "metadata": {
    "collapsed": false,
    "pycharm": {
     "name": "#%%\n"
    }
   }
  },
  {
   "cell_type": "markdown",
   "source": [
    "# Training"
   ],
   "metadata": {
    "collapsed": false,
    "pycharm": {
     "name": "#%% md\n"
    }
   }
  },
  {
   "cell_type": "code",
   "execution_count": 36,
   "outputs": [],
   "source": [
    "import copy\n",
    "from stable_baselines3.common.utils import polyak_update\n",
    "import gym\n",
    "\n",
    "def test_ddpg(env_name, pmodel, render=True):\n",
    "    with gym.make(env_name) as env:\n",
    "        total_rewards = []\n",
    "        for j in range(5):\n",
    "            total_reward = 0\n",
    "            state = env.reset()\n",
    "            done = False\n",
    "            while not done:\n",
    "                action = pmodel.act(torch.as_tensor(state, dtype=torch.float32))\n",
    "                state, reward, done, _ = env.step(action)\n",
    "                total_reward += reward\n",
    "                if render:\n",
    "                    env.render()\n",
    "            total_rewards.append(total_reward)\n",
    "        return np.mean(total_rewards), env\n",
    "\n",
    "\n",
    "def ddpg(env_name,\n",
    "         max_episodes,\n",
    "         max_steps,\n",
    "         hidden_size=128,\n",
    "         policy_std=0.1,\n",
    "         train_every_step=50,\n",
    "         batch_size=100,\n",
    "         target_update_rate=0.01,\n",
    "         gamma=0.9,\n",
    "         replay_buffer_size=100000,\n",
    "         early_stopping_reward=1e9,\n",
    "         act_after_steps=10000,\n",
    "         train_after_steps=1000):\n",
    "    with gym.make(env_name) as env:\n",
    "        assert min(env.action_space.low) == max(env.action_space.low)\n",
    "        assert min(env.action_space.high) == max(env.action_space.high)\n",
    "        assert np.all(np.abs(env.action_space.low) == np.abs(env.action_space.high))\n",
    "\n",
    "        pmodel = PolicyModel(env.observation_space.shape[0], env.action_space.shape[0], hidden_size, env.action_space.high[0])\n",
    "        qmodel = QModel(env.observation_space.shape[0], env.action_space.shape[0], hidden_size)\n",
    "        optim_p = torch.optim.Adam(pmodel.parameters())\n",
    "        optim_q = torch.optim.Adam(qmodel.parameters())\n",
    "\n",
    "        target_pmodel = copy.deepcopy(pmodel)\n",
    "        target_qmodel = copy.deepcopy(qmodel)\n",
    "\n",
    "        for p in target_qmodel.parameters():\n",
    "            p.requires_grad = False\n",
    "        for p in target_pmodel.parameters():\n",
    "            p.requires_grad = False\n",
    "\n",
    "        total_rewards = []\n",
    "\n",
    "        buffer = ReplayBuffer(env.observation_space.shape[0], env.action_space.shape[0], replay_buffer_size)\n",
    "        global_step = 0\n",
    "        progress = tqdm(range(max_episodes), total=max_episodes)\n",
    "        for _ in progress:\n",
    "            state = env.reset()\n",
    "            total_reward = 0\n",
    "            for step in range(max_steps):\n",
    "\n",
    "                if global_step > act_after_steps:\n",
    "                    action = pmodel.act(torch.as_tensor(state, dtype=torch.float32), policy_std)\n",
    "                else:\n",
    "                    action = env.action_space.sample()\n",
    "\n",
    "                next_state, reward, done, _ = env.step(action)\n",
    "                total_reward += reward\n",
    "                buffer.add(state, action, reward, next_state, done)\n",
    "                global_step += 1\n",
    "\n",
    "                state = next_state\n",
    "\n",
    "                if global_step % train_every_step == 0 and global_step > train_after_steps:\n",
    "                    for _ in range(train_every_step):\n",
    "                        states, actions, rewards, next_states, dones = buffer.gen_batch(batch_size)\n",
    "\n",
    "                        # Q update\n",
    "                        optim_q.zero_grad()\n",
    "                        q = qmodel.forward(states, actions)\n",
    "                        target = rewards\n",
    "                        with torch.no_grad():\n",
    "                            next_state_value = target_qmodel.forward(next_states, target_pmodel.forward(next_states))\n",
    "                            target += (1 - dones) * gamma * next_state_value\n",
    "\n",
    "                        q_loss = ((target - q) ** 2).mean()\n",
    "                        q_loss.backward()\n",
    "                        optim_q.step()\n",
    "\n",
    "                        # P update\n",
    "                        q_req_grad = [p.requires_grad for p in qmodel.parameters()]\n",
    "                        for p in qmodel.parameters():\n",
    "                            p.requires_grad = False\n",
    "\n",
    "                        optim_p.zero_grad()\n",
    "                        actions = pmodel.forward(states)\n",
    "                        p_loss = -qmodel.forward(states, actions).mean()\n",
    "                        p_loss.backward()\n",
    "                        optim_p.step()\n",
    "\n",
    "                        for rg, p in zip(q_req_grad, qmodel.parameters()):\n",
    "                            p.requires_grad = rg\n",
    "\n",
    "                        # update target policies\n",
    "                        polyak_update(qmodel.parameters(), target_qmodel.parameters(), target_update_rate)\n",
    "                        polyak_update(pmodel.parameters(), target_pmodel.parameters(), target_update_rate)\n",
    "\n",
    "\n",
    "                if done:\n",
    "                    break\n",
    "\n",
    "            total_rewards.append(total_reward)\n",
    "            buffer.crop_buffer()\n",
    "\n",
    "            test_reward = test_ddpg(env_name, pmodel, render=False)[0]\n",
    "            if test_reward > early_stopping_reward:\n",
    "                print(\"Early stopping!\")\n",
    "                break\n",
    "            progress.set_description(f'Test reward:{test_reward:06.2f}')\n",
    "\n",
    "        return target_pmodel, target_qmodel"
   ],
   "metadata": {
    "collapsed": false,
    "pycharm": {
     "name": "#%%\n"
    }
   }
  },
  {
   "cell_type": "markdown",
   "source": [
    "# Pendulum-v1"
   ],
   "metadata": {
    "collapsed": false,
    "pycharm": {
     "name": "#%% md\n"
    }
   }
  },
  {
   "cell_type": "code",
   "execution_count": null,
   "outputs": [],
   "source": [
    "pmodel, qmodel = ddpg(\n",
    "    'Pendulum-v1',\n",
    "     max_episodes=30,\n",
    "     max_steps=500,\n",
    "     hidden_size=256,\n",
    "     policy_std=0.1,\n",
    "     train_every_step=50,\n",
    "     batch_size=100,\n",
    "     target_update_rate=0.005,\n",
    "     gamma=0.99,\n",
    "     replay_buffer_size=100000,\n",
    "     early_stopping_reward=-200\n",
    ")"
   ],
   "metadata": {
    "collapsed": false,
    "pycharm": {
     "name": "#%%\n"
    }
   }
  },
  {
   "cell_type": "code",
   "execution_count": 29,
   "outputs": [],
   "source": [
    "env = test_ddpg('Pendulum-v1', pmodel, True)[1]"
   ],
   "metadata": {
    "collapsed": false,
    "pycharm": {
     "name": "#%%\n"
    }
   }
  },
  {
   "cell_type": "code",
   "execution_count": 28,
   "outputs": [
    {
     "data": {
      "text/plain": "<matplotlib.image.AxesImage at 0x151bd58e0>"
     },
     "execution_count": 28,
     "metadata": {},
     "output_type": "execute_result"
    },
    {
     "data": {
      "text/plain": "<Figure size 432x288 with 1 Axes>",
      "image/png": "[encoded data removed]"
     },
     "metadata": {
      "needs_background": "light"
     },
     "output_type": "display_data"
    }
   ],
   "source": [
    "plt.imshow(env.render(mode='rgb_array'))"
   ],
   "metadata": {
    "collapsed": false,
    "pycharm": {
     "name": "#%%\n"
    }
   }
  },
  {
   "cell_type": "markdown",
   "source": [
    "# HalfCheetah-v2"
   ],
   "metadata": {
    "collapsed": false,
    "pycharm": {
     "name": "#%% md\n"
    }
   }
  },
  {
   "cell_type": "code",
   "execution_count": 43,
   "outputs": [
    {
     "data": {
      "text/plain": "  0%|          | 0/50 [00:00<?, ?it/s]",
      "application/vnd.jupyter.widget-view+json": {
       "version_major": 2,
       "version_minor": 0,
       "model_id": "7f8cf4fe28604cf78290c44fc87aae07"
      }
     },
     "metadata": {},
     "output_type": "display_data"
    }
   ],
   "source": [
    "pmodel, qmodel = ddpg(\n",
    "    'HalfCheetah-v2',\n",
    "     max_episodes=50,\n",
    "     max_steps=4000,\n",
    "     hidden_size=256,\n",
    "     policy_std=0.1,\n",
    "     train_every_step=50,\n",
    "     batch_size=100,\n",
    "     target_update_rate=0.005,\n",
    "     gamma=0.99,\n",
    "     replay_buffer_size=1e6,\n",
    "     early_stopping_reward=1e9\n",
    ")"
   ],
   "metadata": {
    "collapsed": false,
    "pycharm": {
     "name": "#%%\n"
    }
   }
  },
  {
   "cell_type": "code",
   "execution_count": 46,
   "outputs": [
    {
     "name": "stdout",
     "output_type": "stream",
     "text": [
      "Creating window glfw\n"
     ]
    }
   ],
   "source": [
    "env = test_ddpg('HalfCheetah-v2', pmodel, True)[1]"
   ],
   "metadata": {
    "collapsed": false,
    "pycharm": {
     "name": "#%%\n"
    }
   }
  },
  {
   "cell_type": "code",
   "execution_count": 45,
   "outputs": [
    {
     "name": "stdout",
     "output_type": "stream",
     "text": [
      "Creating offscreen glfw\n"
     ]
    },
    {
     "data": {
      "text/plain": "<matplotlib.image.AxesImage at 0x158daaaf0>"
     },
     "execution_count": 45,
     "metadata": {},
     "output_type": "execute_result"
    },
    {
     "data": {
      "text/plain": "<Figure size 432x288 with 1 Axes>",
      "image/png": "[encoded data removed]"
     },
     "metadata": {
      "needs_background": "light"
     },
     "output_type": "display_data"
    }
   ],
   "source": [
    "plt.imshow(env.render(mode='rgb_array'))"
   ],
   "metadata": {
    "collapsed": false,
    "pycharm": {
     "name": "#%%\n"
    }
   }
  }
 ],
 "metadata": {
  "kernelspec": {
   "display_name": "Python 3",
   "language": "python",
   "name": "python3"
  },
  "language_info": {
   "codemirror_mode": {
    "name": "ipython",
    "version": 2
   },
   "file_extension": ".py",
   "mimetype": "text/x-python",
   "name": "python",
   "nbconvert_exporter": "python",
   "pygments_lexer": "ipython2",
   "version": "2.7.6"
  }
 },
 "nbformat": 4,
 "nbformat_minor": 0
}