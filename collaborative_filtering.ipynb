{
 "cells": [
  {
   "cell_type": "markdown",
   "source": [
    "# Collaborative Filtering algorithm\n",
    "\n",
    "Collaborative Filtering (CF) algorithm uses a sparse rating matrix $A \\in \\mathcal{R}^{m\\times n}$ with non-empty entries denoting ratings of items i (0<=i<n) provided by users j (0<=j<m).\n",
    "CF simultaneously optimizes feature vectors $\\u_j \\in R^k$ of every user and $\\v_i \\in R^k$ of every item from the training set so that the CF loss function is minimized:\n",
    "$$\n",
    "\\mathcal{L}^{CF}=\\sum_{i,j: \\exists A[j, i]} (u^t_j*v_i - A_{j,i})^2\n",
    "$$"
   ],
   "metadata": {
    "collapsed": false,
    "pycharm": {
     "name": "#%% md\n"
    }
   }
  },
  {
   "cell_type": "markdown",
   "source": [
    "## Load data"
   ],
   "metadata": {
    "collapsed": false,
    "pycharm": {
     "name": "#%% md\n"
    }
   }
  },
  {
   "cell_type": "code",
   "execution_count": 1,
   "outputs": [],
   "source": [
    "import numpy as np\n",
    "import pandas as pd\n",
    "import torch\n",
    "from tqdm.notebook import tqdm\n",
    "import matplotlib.pyplot as plt\n",
    "\n",
    "VAL_SIZE = 0.05\n",
    "MAX_EPOCHS = 10\n",
    "LR = 0.001\n",
    "BATCH_SIZE = 10000\n",
    "EMB_DIM = 1024\n",
    "\n",
    "DEVICE = 'cuda' if torch.cuda.is_available() else 'cpu'"
   ],
   "metadata": {
    "collapsed": false,
    "pycharm": {
     "name": "#%%\n"
    }
   }
  },
  {
   "cell_type": "code",
   "execution_count": 2,
   "outputs": [],
   "source": [
    "!mkdir -p movielens"
   ],
   "metadata": {
    "collapsed": false,
    "pycharm": {
     "name": "#%%\n"
    }
   }
  },
  {
   "cell_type": "code",
   "execution_count": 3,
   "outputs": [],
   "source": [
    "!test -e movielens/ml-1m.zip || (wget -O movielens/ml-1m.zip https://files.grouplens.org/datasets/movielens/ml-1m.zip && unzip movielens/ml-1m.zip -d movielens)"
   ],
   "metadata": {
    "collapsed": false,
    "pycharm": {
     "name": "#%%\n"
    }
   }
  },
  {
   "cell_type": "markdown",
   "source": [
    "# CF for Movielens 1M dataset"
   ],
   "metadata": {
    "collapsed": false,
    "pycharm": {
     "name": "#%% md\n"
    }
   }
  },
  {
   "cell_type": "code",
   "execution_count": 4,
   "outputs": [
    {
     "name": "stderr",
     "output_type": "stream",
     "text": [
      "/tmp/ipykernel_15707/4245508241.py:3: ParserWarning: Falling back to the 'python' engine because the 'c' engine does not support regex separators (separators > 1 char and different from '\\s+' are interpreted as regex); you can avoid this warning by specifying engine='python'.\n",
      "  df_ratings_small = pd.read_csv(fname, names=['userId','movieId','rating','timestamp'], sep='::')\n"
     ]
    }
   ],
   "source": [
    "def load_ratings(fname):\n",
    "    if fname.endswith('dat'):\n",
    "        df_ratings_small = pd.read_csv(fname, names=['userId','movieId','rating','timestamp'], sep='::')\n",
    "    else:\n",
    "        df_ratings_small = pd.read_csv(fname)\n",
    "    movie_id_map = df_ratings_small.movieId.sort_values().unique()\n",
    "    movie_id_map = dict(zip(movie_id_map, range(len(movie_id_map))))\n",
    "    df_ratings_small['movie_emb_idx'] = df_ratings_small.movieId.map(movie_id_map)\n",
    "    df_ratings_small['user_emb_idx'] = df_ratings_small.userId - 1\n",
    "    df_ratings_small['rating_cent'] = df_ratings_small.rating - df_ratings_small.rating.median()\n",
    "    return df_ratings_small\n",
    "\n",
    "\n",
    "df_ratings = load_ratings('movielens/ml-1m/ratings.dat')"
   ],
   "metadata": {
    "collapsed": false,
    "pycharm": {
     "name": "#%%\n"
    }
   }
  },
  {
   "cell_type": "code",
   "execution_count": 5,
   "outputs": [],
   "source": [
    "def gen_datasets(df, train_size):\n",
    "    df_train, df_val = np.array_split(df.sample(frac=1., random_state=42), [int(len(df) * train_size)])\n",
    "    ds_train = torch.utils.data.dataset.TensorDataset(torch.as_tensor(df_train[['user_emb_idx', 'movie_emb_idx']].values).to(DEVICE),\n",
    "                                                      torch.as_tensor(df_train['rating_cent'].values).to(DEVICE))\n",
    "    ds_val = torch.utils.data.dataset.TensorDataset(torch.as_tensor(df_val[['user_emb_idx', 'movie_emb_idx']].values).to(DEVICE),\n",
    "                                                      torch.as_tensor(df_val['rating_cent'].values).to(DEVICE))\n",
    "    return ds_train, ds_val\n",
    "\n",
    "ds_train, ds_val = gen_datasets(df_ratings, train_size=1 - VAL_SIZE)"
   ],
   "metadata": {
    "collapsed": false,
    "pycharm": {
     "name": "#%%\n"
    }
   }
  },
  {
   "cell_type": "code",
   "execution_count": 6,
   "outputs": [
    {
     "data": {
      "text/plain": "tensor([0.7129], grad_fn=<SumBackward1>)"
     },
     "execution_count": 6,
     "metadata": {},
     "output_type": "execute_result"
    }
   ],
   "source": [
    "class CFModel(torch.nn.Module):\n",
    "    def __init__(self, movies_size, users_size, emb_dim):\n",
    "        super().__init__()\n",
    "        self.user_emb = torch.nn.Parameter(torch.randn(users_size, emb_dim) / np.sqrt(emb_dim))\n",
    "        self.movie_emb = torch.nn.Parameter(torch.randn(movies_size, emb_dim) / np.sqrt(emb_dim))\n",
    "        self.nn = torch.nn.Sequential(\n",
    "            torch.nn.Linear(emb_dim, emb_dim),\n",
    "            torch.nn.SiLU(),\n",
    "            torch.nn.Linear(emb_dim, emb_dim),\n",
    "            torch.nn.Tanh()\n",
    "        )\n",
    "\n",
    "    def forward(self, movie_ids, user_ids):\n",
    "        user_embs = self.user_emb[user_ids]\n",
    "        movie_embs = self.movie_emb[movie_ids]\n",
    "        return (user_embs * movie_embs).sum(dim=-1)\n",
    "\n",
    "CFModel(2, 2, 4).forward([1], [1])"
   ],
   "metadata": {
    "collapsed": false,
    "pycharm": {
     "name": "#%%\n"
    }
   }
  },
  {
   "cell_type": "code",
   "execution_count": 7,
   "outputs": [],
   "source": [
    "def evaluate(model, ds_val):\n",
    "    with torch.no_grad():\n",
    "        losses = []\n",
    "        predictions = []\n",
    "        for b, ratings in torch.utils.data.DataLoader(ds_val, batch_size=8192):\n",
    "            user_ids = b[:, 0]\n",
    "            movie_ids = b[:, 1]\n",
    "            pred = model.forward(movie_ids, user_ids)\n",
    "            loss = ((pred - ratings) ** 2).mean()\n",
    "            losses.append(loss.item())\n",
    "            predictions.append(pred)\n",
    "        loss = np.sqrt(np.mean(losses).item())\n",
    "        return loss, torch.concat(predictions)"
   ],
   "metadata": {
    "collapsed": false,
    "pycharm": {
     "name": "#%%\n"
    }
   }
  },
  {
   "cell_type": "code",
   "execution_count": 8,
   "outputs": [],
   "source": [
    "def train(ds_train, ds_val, max_epochs, lr, batch_size):\n",
    "    ds = torch.concat([ds_train.tensors[0], ds_val.tensors[0]])\n",
    "    max_user_id, max_movie_id = ds.max(dim=0).values\n",
    "    print(max_user_id, max_movie_id)\n",
    "    model = CFModel(\n",
    "        max_movie_id + 1,\n",
    "        max_user_id + 1,\n",
    "        EMB_DIM\n",
    "    ).to(DEVICE)\n",
    "    optim = torch.optim.Adam(model.parameters(), lr=lr)\n",
    "\n",
    "    progress = tqdm(range(max_epochs))\n",
    "    losses = []\n",
    "    for epoch in progress:\n",
    "        batches = torch.utils.data.DataLoader(ds_train, batch_size=batch_size, shuffle=True)\n",
    "        if len(ds_train) > batch_size:\n",
    "            batches = tqdm(batches)\n",
    "        for b, ratings in batches:\n",
    "            user_ids = b[:, 0]\n",
    "            movie_ids = b[:, 1]\n",
    "\n",
    "            optim.zero_grad()\n",
    "            pred = model.forward(movie_ids, user_ids)\n",
    "            loss = ((pred - ratings.to(DEVICE)) ** 2).mean()\n",
    "            loss.backward()\n",
    "            optim.step()\n",
    "\n",
    "        loss = evaluate(model, ds_val)[0]\n",
    "        losses.append(loss)\n",
    "        progress.set_description(f'Val loss:{loss:.03f}')\n",
    "\n",
    "    fig = plt.figure(figsize=(12, 5))\n",
    "    plt.plot(losses)\n",
    "    print(fig.axes)\n",
    "    ax = fig.axes[0]\n",
    "    ax.set_title(\"Validation RMSE loss per training epoch\")\n",
    "    avg = torch.std(ds_val.tensors[1]).cpu().item()\n",
    "    ax.axhline(avg, color='red')\n",
    "    ax.annotate('Average score baseline', xy=(0, avg))\n",
    "    return model\n"
   ],
   "metadata": {
    "collapsed": false,
    "pycharm": {
     "name": "#%%\n"
    }
   }
  },
  {
   "cell_type": "code",
   "execution_count": 9,
   "outputs": [
    {
     "name": "stdout",
     "output_type": "stream",
     "text": [
      "tensor(6039, device='cuda:0') tensor(3705, device='cuda:0')\n"
     ]
    },
    {
     "data": {
      "text/plain": "  0%|          | 0/10 [00:00<?, ?it/s]",
      "application/vnd.jupyter.widget-view+json": {
       "version_major": 2,
       "version_minor": 0,
       "model_id": "b9355c529f4049f4b19ff5592a3944ee"
      }
     },
     "metadata": {},
     "output_type": "display_data"
    },
    {
     "data": {
      "text/plain": "  0%|          | 0/96 [00:00<?, ?it/s]",
      "application/vnd.jupyter.widget-view+json": {
       "version_major": 2,
       "version_minor": 0,
       "model_id": "cb046773a715420190dd8fdb2926683f"
      }
     },
     "metadata": {},
     "output_type": "display_data"
    },
    {
     "data": {
      "text/plain": "  0%|          | 0/96 [00:00<?, ?it/s]",
      "application/vnd.jupyter.widget-view+json": {
       "version_major": 2,
       "version_minor": 0,
       "model_id": "dca39b592865473f84c1574829b8f2bc"
      }
     },
     "metadata": {},
     "output_type": "display_data"
    },
    {
     "data": {
      "text/plain": "  0%|          | 0/96 [00:00<?, ?it/s]",
      "application/vnd.jupyter.widget-view+json": {
       "version_major": 2,
       "version_minor": 0,
       "model_id": "ed6ab716b3b24c549258f7ef655abc5d"
      }
     },
     "metadata": {},
     "output_type": "display_data"
    },
    {
     "data": {
      "text/plain": "  0%|          | 0/96 [00:00<?, ?it/s]",
      "application/vnd.jupyter.widget-view+json": {
       "version_major": 2,
       "version_minor": 0,
       "model_id": "127e5c9e575548da922451b072199721"
      }
     },
     "metadata": {},
     "output_type": "display_data"
    },
    {
     "data": {
      "text/plain": "  0%|          | 0/96 [00:00<?, ?it/s]",
      "application/vnd.jupyter.widget-view+json": {
       "version_major": 2,
       "version_minor": 0,
       "model_id": "a0fa90e97ca5468a8ae24dac90cb1af5"
      }
     },
     "metadata": {},
     "output_type": "display_data"
    },
    {
     "data": {
      "text/plain": "  0%|          | 0/96 [00:00<?, ?it/s]",
      "application/vnd.jupyter.widget-view+json": {
       "version_major": 2,
       "version_minor": 0,
       "model_id": "4ba8cc664b2c4fc18e5cad95376fdb67"
      }
     },
     "metadata": {},
     "output_type": "display_data"
    },
    {
     "data": {
      "text/plain": "  0%|          | 0/96 [00:00<?, ?it/s]",
      "application/vnd.jupyter.widget-view+json": {
       "version_major": 2,
       "version_minor": 0,
       "model_id": "661f9ccf4b344c019a3b19028e4914f9"
      }
     },
     "metadata": {},
     "output_type": "display_data"
    },
    {
     "data": {
      "text/plain": "  0%|          | 0/96 [00:00<?, ?it/s]",
      "application/vnd.jupyter.widget-view+json": {
       "version_major": 2,
       "version_minor": 0,
       "model_id": "a4dbc8602b9244f399eaf12e9e7718fb"
      }
     },
     "metadata": {},
     "output_type": "display_data"
    },
    {
     "data": {
      "text/plain": "  0%|          | 0/96 [00:00<?, ?it/s]",
      "application/vnd.jupyter.widget-view+json": {
       "version_major": 2,
       "version_minor": 0,
       "model_id": "7cda8f993eb547af871b3f2d6ccf3cad"
      }
     },
     "metadata": {},
     "output_type": "display_data"
    },
    {
     "data": {
      "text/plain": "  0%|          | 0/96 [00:00<?, ?it/s]",
      "application/vnd.jupyter.widget-view+json": {
       "version_major": 2,
       "version_minor": 0,
       "model_id": "35067ff405f544418888b843cb65c0c4"
      }
     },
     "metadata": {},
     "output_type": "display_data"
    },
    {
     "name": "stdout",
     "output_type": "stream",
     "text": [
      "[<AxesSubplot:>]\n"
     ]
    },
    {
     "data": {
      "text/plain": "<Figure size 864x360 with 1 Axes>",
      "image/png": "[encoded data removed]"
     },
     "metadata": {
      "needs_background": "light"
     },
     "output_type": "display_data"
    }
   ],
   "source": [
    "testmodel = train(ds_train, ds_val, max_epochs=MAX_EPOCHS, lr=LR, batch_size=BATCH_SIZE)"
   ],
   "metadata": {
    "collapsed": false,
    "pycharm": {
     "name": "#%%\n"
    }
   }
  }
 ],
 "metadata": {
  "kernelspec": {
   "display_name": "Python 3",
   "language": "python",
   "name": "python3"
  },
  "language_info": {
   "codemirror_mode": {
    "name": "ipython",
    "version": 2
   },
   "file_extension": ".py",
   "mimetype": "text/x-python",
   "name": "python",
   "nbconvert_exporter": "python",
   "pygments_lexer": "ipython2",
   "version": "2.7.6"
  }
 },
 "nbformat": 4,
 "nbformat_minor": 0
}