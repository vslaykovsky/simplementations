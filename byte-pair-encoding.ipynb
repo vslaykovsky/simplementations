{
 "cells": [
  {
   "cell_type": "markdown",
   "source": [
    "# Byte Pair Encoding\n",
    "\n",
    "This is a simple pure python implementation of byte pair encoding\n",
    "Implementation follows the [Wikipedia description](https://en.wikipedia.org/wiki/Byte_pair_encoding)\n",
    "\n",
    "This implementation is not very useful in practical applications as performance is a major issue here."
   ],
   "metadata": {
    "collapsed": false,
    "pycharm": {
     "name": "#%% md\n"
    }
   }
  },
  {
   "cell_type": "code",
   "execution_count": 21,
   "metadata": {
    "collapsed": true,
    "pycharm": {
     "name": "#%%\n"
    }
   },
   "outputs": [
    {
     "data": {
      "text/plain": "  0%|          | 0/3 [00:00<?, ?it/s]",
      "application/vnd.jupyter.widget-view+json": {
       "version_major": 2,
       "version_minor": 0,
       "model_id": "4fcaf07d50524cb0af9a1d6d005540b1"
      }
     },
     "metadata": {},
     "output_type": "display_data"
    },
    {
     "data": {
      "text/plain": "([6, 3, 6, 0, 2],\n {'a': 0, 'c': 2, 'd': 3, 'aaab': 6},\n {0: 'a', 2: 'c', 3: 'd', 6: 'aaab'})"
     },
     "execution_count": 21,
     "metadata": {},
     "output_type": "execute_result"
    }
   ],
   "source": [
    "from tqdm.notebook import tqdm\n",
    "from collections import defaultdict\n",
    "import numpy as np\n",
    "\n",
    "\n",
    "def bpe_train(text, max_iter, max_unique_tokens=1e6):\n",
    "    token_map = np.unique(list(text))\n",
    "    enc_token_map = dict(zip(token_map, range(len(token_map))))\n",
    "    dec_token_map = dict(zip(enc_token_map.values(), enc_token_map.keys()))\n",
    "    enc_text = [enc_token_map[c] for c in text]\n",
    "\n",
    "    for iter in tqdm(range(max_iter)):\n",
    "        stat = defaultdict(lambda: 0)\n",
    "        for i in range(len(enc_text) - 1):\n",
    "            stat[(enc_text[i], enc_text[i + 1])] += 1\n",
    "        max_pair = max(stat, key=stat.get)\n",
    "        new_code = len(enc_token_map)\n",
    "        new_chars = dec_token_map[max_pair[0]] + dec_token_map[max_pair[1]]\n",
    "        enc_token_map[new_chars] = new_code\n",
    "        dec_token_map[new_code] = new_chars\n",
    "        new_enc_text = []\n",
    "        i = 0\n",
    "        while i < len(enc_text):\n",
    "            if i < len(enc_text) - 1 and (enc_text[i], enc_text[i + 1]) == max_pair:\n",
    "                new_enc_text.append(new_code)\n",
    "                i += 1\n",
    "            else:\n",
    "                new_enc_text.append(enc_text[i])\n",
    "            i += 1\n",
    "        enc_text = new_enc_text\n",
    "        uniq_tokens = len(np.unique(enc_text))\n",
    "        if uniq_tokens > max_unique_tokens:\n",
    "            break\n",
    "\n",
    "    uniq_tokens = np.unique(enc_text)\n",
    "\n",
    "    dec_token_map = {t: dec_token_map[t] for t in uniq_tokens}\n",
    "    enc_token_map = dict(zip(dec_token_map.values(), dec_token_map.keys()))\n",
    "\n",
    "    return enc_text, enc_token_map, dec_token_map\n",
    "\n",
    "\n",
    "bpe, enc_map, dec_map = bpe_train('aaabdaaabac', max_iter=3)\n",
    "bpe, enc_map, dec_map"
   ]
  },
  {
   "cell_type": "code",
   "execution_count": 24,
   "outputs": [
    {
     "data": {
      "text/plain": "('aaabdaaabac', 'aaab|d|aaab|a|c')"
     },
     "execution_count": 24,
     "metadata": {},
     "output_type": "execute_result"
    }
   ],
   "source": [
    "def bpe_decode(tokens, dec_map, sep=''):\n",
    "    return sep.join([dec_map[t] for t in tokens])\n",
    "\n",
    "bpe_decode(bpe, dec_map), bpe_decode(bpe, dec_map, sep='|')"
   ],
   "metadata": {
    "collapsed": false,
    "pycharm": {
     "name": "#%%\n"
    }
   }
  },
  {
   "cell_type": "code",
   "execution_count": 23,
   "outputs": [
    {
     "data": {
      "text/plain": "[6, 3, 6, 0, 2]"
     },
     "execution_count": 23,
     "metadata": {},
     "output_type": "execute_result"
    }
   ],
   "source": [
    "def bpe_encode(s, enc_map):\n",
    "    out = []\n",
    "    while len(s) > 0:\n",
    "        max_pref = ''\n",
    "        for k, v in enc_map.items():\n",
    "            if s[:len(k)] == k:\n",
    "                if len(k) > len(max_pref):\n",
    "                    max_pref = k\n",
    "        assert(max_pref != '')\n",
    "        out.append(enc_map[max_pref])\n",
    "        s = s[len(max_pref):]\n",
    "    return out\n",
    "\n",
    "bpe_encode('aaabdaaabac', enc_map)"
   ],
   "metadata": {
    "collapsed": false,
    "pycharm": {
     "name": "#%%\n"
    }
   }
  }
 ],
 "metadata": {
  "kernelspec": {
   "display_name": "Python 3",
   "language": "python",
   "name": "python3"
  },
  "language_info": {
   "codemirror_mode": {
    "name": "ipython",
    "version": 2
   },
   "file_extension": ".py",
   "mimetype": "text/x-python",
   "name": "python",
   "nbconvert_exporter": "python",
   "pygments_lexer": "ipython2",
   "version": "2.7.6"
  }
 },
 "nbformat": 4,
 "nbformat_minor": 0
}